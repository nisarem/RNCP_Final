{
 "cells": [
  {
   "cell_type": "markdown",
   "id": "cc84a011",
   "metadata": {},
   "source": [
    "# IMDb Database Clean Up\n",
    "\n",
    "I downloaded IMDb Non-Commercial Datasets from this link: https://developer.imdb.com/non-commercial-datasets/\n",
    "\n",
    "In this notebook I will do EDA and clean up to prepare the data for SQL."
   ]
  },
  {
   "cell_type": "code",
   "execution_count": 1,
   "id": "33253006",
   "metadata": {},
   "outputs": [],
   "source": [
    "import gzip\n",
    "import pandas as pd\n",
    "import pickle\n",
    "import requests\n",
    "\n",
    "f = open(\"token_TMDB.txt\",\"r\")\n",
    "token = f.read()\n",
    "headers = {\"accept\": \"application/json\", \"Authorization\": f\"Bearer {token}\"}"
   ]
  },
  {
   "cell_type": "code",
   "execution_count": 2,
   "id": "ca649fe6",
   "metadata": {},
   "outputs": [],
   "source": [
    "# File paths for the zipped IMDb Database files\n",
    "\n",
    "file_paths = ['name.basics.tsv.gz',\n",
    "              'title.basics.tsv.gz',\n",
    "              'title.principals.tsv.gz',\n",
    "              'title.crew.tsv.gz',\n",
    "              'title.ratings.tsv.gz']\n"
   ]
  },
  {
   "cell_type": "code",
   "execution_count": null,
   "id": "68810cdf",
   "metadata": {},
   "outputs": [],
   "source": [
    "# Creating pickle files for zipped files for efficiency\n",
    "\n",
    "for item in file_paths:\n",
    "\n",
    "    file_name = item[:-7]  # Remove the '.tsv.gz' part\n",
    "    print(file_name)\n",
    "    \n",
    "    # Open the gzip-compressed TSV file and read it as a DataFrame\n",
    "    with gzip.open(item, 'rt', encoding='utf-8') as f:\n",
    "        df = pd.read_table(f, sep='\\t', low_memory=False, na_values=[\"\\\\N\", \"nan\"])\n",
    "\n",
    "    # Save the DataFrame as a pickle file\n",
    "    with open(file_name + '.pkl', 'wb') as f:\n",
    "        pickle.dump(df, f)\n"
   ]
  },
  {
   "cell_type": "markdown",
   "id": "23bc4342",
   "metadata": {},
   "source": [
    "## Cleaning Movies Dataset\n",
    "\n",
    "title.basics.tsv.gz file contains the following information for titles:\n",
    "\n",
    "- tconst (string) - alphanumeric unique identifier of the title.\n",
    "- titleType (string) – the type/format of the title (e.g. movie, short, tvseries, tvepisode, video, etc).\n",
    "- primaryTitle (string) – the more popular title / the title used by the filmmakers on promotional materials at the point of release.\n",
    "- originalTitle (string) - original title, in the original language.\n",
    "- isAdult (boolean) - 0: non-adult title; 1: adult title.\n",
    "- startYear (YYYY) – represents the release year of a title. In the case of TV Series, it is the series start year.\n",
    "- endYear (YYYY) – TV Series end year. \"\\N\" for all other title types.\n",
    "- runtimeMinutes – primary runtime of the title, in minutes.\n",
    "- genres (string array) – includes up to three genres associated with the title.\n",
    "\n",
    "I only need movies so I will need to filter the movies from this dataframe. I will then check for NaN values and either drop them or fill them out using TMDB API if needed. I will also drop the unnecessary columns."
   ]
  },
  {
   "cell_type": "code",
   "execution_count": 3,
   "id": "e296710d",
   "metadata": {},
   "outputs": [],
   "source": [
    "# Creating movies DataFrame with title.basics file\n",
    "movies = pickle.load(open('title.basics.pkl', 'rb'))"
   ]
  },
  {
   "cell_type": "code",
   "execution_count": 4,
   "id": "4072b2f8",
   "metadata": {},
   "outputs": [],
   "source": [
    "# Filtering movies DataFrame to keep only the rows where the 'titleType' column has the value 'movie'.\n",
    "movies = movies[movies['titleType']== 'movie']"
   ]
  },
  {
   "cell_type": "code",
   "execution_count": 5,
   "id": "3887bd3a",
   "metadata": {},
   "outputs": [],
   "source": [
    "# I do not need titleType and endYear columns because all the rows are movies and endYear column is null for movies. \n",
    "movies.drop(columns=['titleType','endYear'], inplace=True)"
   ]
  },
  {
   "cell_type": "code",
   "execution_count": 6,
   "id": "fbd2d86b",
   "metadata": {},
   "outputs": [
    {
     "data": {
      "text/plain": [
       "(677726, 7)"
      ]
     },
     "execution_count": 6,
     "metadata": {},
     "output_type": "execute_result"
    }
   ],
   "source": [
    "movies.shape"
   ]
  },
  {
   "cell_type": "markdown",
   "id": "d310b271",
   "metadata": {},
   "source": [
    "### Dealing with NaN values\n",
    "\n",
    "I will check the null values in the DataFrame. Since my DataFrame is already really big, I will drop the rows with null values. "
   ]
  },
  {
   "cell_type": "code",
   "execution_count": 7,
   "id": "4d2b7ac6",
   "metadata": {},
   "outputs": [
    {
     "data": {
      "text/plain": [
       "tconst                 0\n",
       "primaryTitle           2\n",
       "originalTitle          2\n",
       "isAdult                0\n",
       "startYear          98020\n",
       "runtimeMinutes    251367\n",
       "genres             74742\n",
       "dtype: int64"
      ]
     },
     "execution_count": 7,
     "metadata": {},
     "output_type": "execute_result"
    }
   ],
   "source": [
    "movies.isna().sum()"
   ]
  },
  {
   "cell_type": "code",
   "execution_count": 8,
   "id": "62a65411",
   "metadata": {},
   "outputs": [
    {
     "data": {
      "text/html": [
       "<div>\n",
       "<style scoped>\n",
       "    .dataframe tbody tr th:only-of-type {\n",
       "        vertical-align: middle;\n",
       "    }\n",
       "\n",
       "    .dataframe tbody tr th {\n",
       "        vertical-align: top;\n",
       "    }\n",
       "\n",
       "    .dataframe thead th {\n",
       "        text-align: right;\n",
       "    }\n",
       "</style>\n",
       "<table border=\"1\" class=\"dataframe\">\n",
       "  <thead>\n",
       "    <tr style=\"text-align: right;\">\n",
       "      <th></th>\n",
       "      <th>tconst</th>\n",
       "      <th>primaryTitle</th>\n",
       "      <th>originalTitle</th>\n",
       "      <th>isAdult</th>\n",
       "      <th>startYear</th>\n",
       "      <th>runtimeMinutes</th>\n",
       "      <th>genres</th>\n",
       "    </tr>\n",
       "  </thead>\n",
       "  <tbody>\n",
       "    <tr>\n",
       "      <th>4554578</th>\n",
       "      <td>tt17042812</td>\n",
       "      <td>NaN</td>\n",
       "      <td>NaN</td>\n",
       "      <td>0.0</td>\n",
       "      <td>2010.0</td>\n",
       "      <td>87</td>\n",
       "      <td>Thriller</td>\n",
       "    </tr>\n",
       "    <tr>\n",
       "      <th>8820526</th>\n",
       "      <td>tt5774076</td>\n",
       "      <td>NaN</td>\n",
       "      <td>NaN</td>\n",
       "      <td>0.0</td>\n",
       "      <td>2015.0</td>\n",
       "      <td>NaN</td>\n",
       "      <td>Action,Drama,Mystery</td>\n",
       "    </tr>\n",
       "  </tbody>\n",
       "</table>\n",
       "</div>"
      ],
      "text/plain": [
       "             tconst primaryTitle originalTitle  isAdult  startYear  \\\n",
       "4554578  tt17042812          NaN           NaN      0.0     2010.0   \n",
       "8820526   tt5774076          NaN           NaN      0.0     2015.0   \n",
       "\n",
       "        runtimeMinutes                genres  \n",
       "4554578             87              Thriller  \n",
       "8820526            NaN  Action,Drama,Mystery  "
      ]
     },
     "execution_count": 8,
     "metadata": {},
     "output_type": "execute_result"
    }
   ],
   "source": [
    "# There are only 2 movies without a title. Let's see if there is a bug there. \n",
    "movies[movies['primaryTitle'].isna()]"
   ]
  },
  {
   "cell_type": "code",
   "execution_count": 9,
   "id": "b1ca515d",
   "metadata": {},
   "outputs": [],
   "source": [
    "# Title of these movies is 'None' so I change the titles accordingly. \n",
    "movies.loc[movies['primaryTitle'].isna(), ['primaryTitle', 'originalTitle']] = 'None'"
   ]
  },
  {
   "cell_type": "code",
   "execution_count": 10,
   "id": "faa7d8c3",
   "metadata": {
    "scrolled": false
   },
   "outputs": [
    {
     "data": {
      "text/html": [
       "<div>\n",
       "<style scoped>\n",
       "    .dataframe tbody tr th:only-of-type {\n",
       "        vertical-align: middle;\n",
       "    }\n",
       "\n",
       "    .dataframe tbody tr th {\n",
       "        vertical-align: top;\n",
       "    }\n",
       "\n",
       "    .dataframe thead th {\n",
       "        text-align: right;\n",
       "    }\n",
       "</style>\n",
       "<table border=\"1\" class=\"dataframe\">\n",
       "  <thead>\n",
       "    <tr style=\"text-align: right;\">\n",
       "      <th></th>\n",
       "      <th>tconst</th>\n",
       "      <th>primaryTitle</th>\n",
       "      <th>originalTitle</th>\n",
       "      <th>isAdult</th>\n",
       "      <th>startYear</th>\n",
       "      <th>runtimeMinutes</th>\n",
       "      <th>genres</th>\n",
       "    </tr>\n",
       "  </thead>\n",
       "  <tbody>\n",
       "    <tr>\n",
       "      <th>498</th>\n",
       "      <td>tt0000502</td>\n",
       "      <td>Bohemios</td>\n",
       "      <td>Bohemios</td>\n",
       "      <td>0.0</td>\n",
       "      <td>1905.0</td>\n",
       "      <td>100</td>\n",
       "      <td>NaN</td>\n",
       "    </tr>\n",
       "    <tr>\n",
       "      <th>610</th>\n",
       "      <td>tt0000615</td>\n",
       "      <td>Robbery Under Arms</td>\n",
       "      <td>Robbery Under Arms</td>\n",
       "      <td>0.0</td>\n",
       "      <td>1907.0</td>\n",
       "      <td>NaN</td>\n",
       "      <td>Drama</td>\n",
       "    </tr>\n",
       "    <tr>\n",
       "      <th>625</th>\n",
       "      <td>tt0000630</td>\n",
       "      <td>Hamlet</td>\n",
       "      <td>Amleto</td>\n",
       "      <td>0.0</td>\n",
       "      <td>1908.0</td>\n",
       "      <td>NaN</td>\n",
       "      <td>Drama</td>\n",
       "    </tr>\n",
       "    <tr>\n",
       "      <th>668</th>\n",
       "      <td>tt0000675</td>\n",
       "      <td>Don Quijote</td>\n",
       "      <td>Don Quijote</td>\n",
       "      <td>0.0</td>\n",
       "      <td>1908.0</td>\n",
       "      <td>NaN</td>\n",
       "      <td>Drama</td>\n",
       "    </tr>\n",
       "    <tr>\n",
       "      <th>828</th>\n",
       "      <td>tt0000838</td>\n",
       "      <td>A Cultura do Cacau</td>\n",
       "      <td>A Cultura do Cacau</td>\n",
       "      <td>0.0</td>\n",
       "      <td>1909.0</td>\n",
       "      <td>NaN</td>\n",
       "      <td>NaN</td>\n",
       "    </tr>\n",
       "    <tr>\n",
       "      <th>...</th>\n",
       "      <td>...</td>\n",
       "      <td>...</td>\n",
       "      <td>...</td>\n",
       "      <td>...</td>\n",
       "      <td>...</td>\n",
       "      <td>...</td>\n",
       "      <td>...</td>\n",
       "    </tr>\n",
       "    <tr>\n",
       "      <th>10702444</th>\n",
       "      <td>tt9916178</td>\n",
       "      <td>Yesterday's Dreams</td>\n",
       "      <td>Yesterday's Dreams</td>\n",
       "      <td>0.0</td>\n",
       "      <td>NaN</td>\n",
       "      <td>NaN</td>\n",
       "      <td>NaN</td>\n",
       "    </tr>\n",
       "    <tr>\n",
       "      <th>10702448</th>\n",
       "      <td>tt9916188</td>\n",
       "      <td>Minotaur</td>\n",
       "      <td>Minotaur</td>\n",
       "      <td>0.0</td>\n",
       "      <td>NaN</td>\n",
       "      <td>NaN</td>\n",
       "      <td>Thriller</td>\n",
       "    </tr>\n",
       "    <tr>\n",
       "      <th>10702565</th>\n",
       "      <td>tt9916428</td>\n",
       "      <td>The Secret of China</td>\n",
       "      <td>Hong xing zhao yao Zhong guo</td>\n",
       "      <td>0.0</td>\n",
       "      <td>2019.0</td>\n",
       "      <td>NaN</td>\n",
       "      <td>Adventure,History,War</td>\n",
       "    </tr>\n",
       "    <tr>\n",
       "      <th>10702657</th>\n",
       "      <td>tt9916620</td>\n",
       "      <td>The Copeland Case</td>\n",
       "      <td>The Copeland Case</td>\n",
       "      <td>0.0</td>\n",
       "      <td>NaN</td>\n",
       "      <td>NaN</td>\n",
       "      <td>Drama</td>\n",
       "    </tr>\n",
       "    <tr>\n",
       "      <th>10702697</th>\n",
       "      <td>tt9916706</td>\n",
       "      <td>Dankyavar Danka</td>\n",
       "      <td>Dankyavar Danka</td>\n",
       "      <td>0.0</td>\n",
       "      <td>2013.0</td>\n",
       "      <td>NaN</td>\n",
       "      <td>Comedy</td>\n",
       "    </tr>\n",
       "  </tbody>\n",
       "</table>\n",
       "<p>283377 rows × 7 columns</p>\n",
       "</div>"
      ],
      "text/plain": [
       "             tconst         primaryTitle                 originalTitle  \\\n",
       "498       tt0000502             Bohemios                      Bohemios   \n",
       "610       tt0000615   Robbery Under Arms            Robbery Under Arms   \n",
       "625       tt0000630               Hamlet                        Amleto   \n",
       "668       tt0000675          Don Quijote                   Don Quijote   \n",
       "828       tt0000838   A Cultura do Cacau            A Cultura do Cacau   \n",
       "...             ...                  ...                           ...   \n",
       "10702444  tt9916178   Yesterday's Dreams            Yesterday's Dreams   \n",
       "10702448  tt9916188             Minotaur                      Minotaur   \n",
       "10702565  tt9916428  The Secret of China  Hong xing zhao yao Zhong guo   \n",
       "10702657  tt9916620    The Copeland Case             The Copeland Case   \n",
       "10702697  tt9916706      Dankyavar Danka               Dankyavar Danka   \n",
       "\n",
       "          isAdult  startYear runtimeMinutes                 genres  \n",
       "498           0.0     1905.0            100                    NaN  \n",
       "610           0.0     1907.0            NaN                  Drama  \n",
       "625           0.0     1908.0            NaN                  Drama  \n",
       "668           0.0     1908.0            NaN                  Drama  \n",
       "828           0.0     1909.0            NaN                    NaN  \n",
       "...           ...        ...            ...                    ...  \n",
       "10702444      0.0        NaN            NaN                    NaN  \n",
       "10702448      0.0        NaN            NaN               Thriller  \n",
       "10702565      0.0     2019.0            NaN  Adventure,History,War  \n",
       "10702657      0.0        NaN            NaN                  Drama  \n",
       "10702697      0.0     2013.0            NaN                 Comedy  \n",
       "\n",
       "[283377 rows x 7 columns]"
      ]
     },
     "execution_count": 10,
     "metadata": {},
     "output_type": "execute_result"
    }
   ],
   "source": [
    "movies[movies[['startYear', 'runtimeMinutes', 'genres']].isna().any(axis=1)]"
   ]
  },
  {
   "cell_type": "markdown",
   "id": "c0afe0d5",
   "metadata": {},
   "source": [
    "Production year, movie duration and genre informations are primordial for my recommender.\n",
    "I tried using API to fill out the missing info but I have had 2 main issues: \n",
    "\n",
    "1. The information needed is not available for the most of the rows on TMDB API. \n",
    "2. It takes a lot of time to retrieve this data\n",
    "\n",
    "So I have decided to proceed by dropping those rows. If it is not on IMDB, I will assume that it is not important. "
   ]
  },
  {
   "cell_type": "code",
   "execution_count": 11,
   "id": "52ae489e",
   "metadata": {},
   "outputs": [],
   "source": [
    "movies.dropna(subset=['startYear', 'runtimeMinutes', 'genres'], how='any', inplace=True)"
   ]
  },
  {
   "cell_type": "markdown",
   "id": "3d41b981",
   "metadata": {},
   "source": [
    "### Checking Data Types"
   ]
  },
  {
   "cell_type": "code",
   "execution_count": 12,
   "id": "bce5ed69",
   "metadata": {},
   "outputs": [
    {
     "data": {
      "text/plain": [
       "tconst             object\n",
       "primaryTitle       object\n",
       "originalTitle      object\n",
       "isAdult           float64\n",
       "startYear         float64\n",
       "runtimeMinutes     object\n",
       "genres             object\n",
       "dtype: object"
      ]
     },
     "execution_count": 12,
     "metadata": {},
     "output_type": "execute_result"
    }
   ],
   "source": [
    "movies.dtypes"
   ]
  },
  {
   "cell_type": "markdown",
   "id": "fa85b076",
   "metadata": {},
   "source": [
    "I change data type for isAdult to boolean, startYear and runtimeMinutes to integer."
   ]
  },
  {
   "cell_type": "code",
   "execution_count": 13,
   "id": "18c09552",
   "metadata": {},
   "outputs": [],
   "source": [
    "movies['startYear'] = movies['startYear'].astype(int)\n",
    "movies['runtimeMinutes'] = movies['runtimeMinutes'].astype(int)\n",
    "movies['isAdult'] = movies['isAdult'].astype(bool)"
   ]
  },
  {
   "cell_type": "code",
   "execution_count": 14,
   "id": "e57023b2",
   "metadata": {},
   "outputs": [],
   "source": [
    "# I don't want my recommender to recommend adult content.\n",
    "movies = movies[movies['isAdult']==False]\n",
    "movies.drop(columns=['isAdult'], inplace=True)"
   ]
  },
  {
   "cell_type": "code",
   "execution_count": 15,
   "id": "601e9d80",
   "metadata": {},
   "outputs": [],
   "source": [
    "movies = movies[(movies['runtimeMinutes'] >= 60) & (movies['runtimeMinutes'] <= 240)]\n",
    "# I want my recommender to recommend movies of regular runtime duration. "
   ]
  },
  {
   "cell_type": "code",
   "execution_count": 16,
   "id": "bc304d27",
   "metadata": {},
   "outputs": [],
   "source": [
    "movies = movies[(movies['startYear'] <= 2024) & (movies['startYear'] >= 1940)]\n",
    "# I want my recommender to recommend movies produced after 1940 for relevancy \n",
    "# and I eliminate the movies that hasn't been released yet. "
   ]
  },
  {
   "cell_type": "code",
   "execution_count": 17,
   "id": "5c34d782",
   "metadata": {},
   "outputs": [
    {
     "data": {
      "text/html": [
       "<div>\n",
       "<style scoped>\n",
       "    .dataframe tbody tr th:only-of-type {\n",
       "        vertical-align: middle;\n",
       "    }\n",
       "\n",
       "    .dataframe tbody tr th {\n",
       "        vertical-align: top;\n",
       "    }\n",
       "\n",
       "    .dataframe thead th {\n",
       "        text-align: right;\n",
       "    }\n",
       "</style>\n",
       "<table border=\"1\" class=\"dataframe\">\n",
       "  <thead>\n",
       "    <tr style=\"text-align: right;\">\n",
       "      <th></th>\n",
       "      <th>tconst</th>\n",
       "      <th>primaryTitle</th>\n",
       "      <th>originalTitle</th>\n",
       "      <th>startYear</th>\n",
       "      <th>runtimeMinutes</th>\n",
       "      <th>genres</th>\n",
       "    </tr>\n",
       "  </thead>\n",
       "  <tbody>\n",
       "    <tr>\n",
       "      <th>13079</th>\n",
       "      <td>tt0013274</td>\n",
       "      <td>Istoriya grazhdanskoy voyny</td>\n",
       "      <td>Istoriya grazhdanskoy voyny</td>\n",
       "      <td>2021</td>\n",
       "      <td>94</td>\n",
       "      <td>Documentary</td>\n",
       "    </tr>\n",
       "    <tr>\n",
       "      <th>15482</th>\n",
       "      <td>tt0015724</td>\n",
       "      <td>Dama de noche</td>\n",
       "      <td>Dama de noche</td>\n",
       "      <td>1993</td>\n",
       "      <td>102</td>\n",
       "      <td>Drama,Mystery,Romance</td>\n",
       "    </tr>\n",
       "    <tr>\n",
       "      <th>18590</th>\n",
       "      <td>tt0018867</td>\n",
       "      <td>Escape from Hong Kong</td>\n",
       "      <td>Escape from Hong Kong</td>\n",
       "      <td>1942</td>\n",
       "      <td>60</td>\n",
       "      <td>Adventure,Mystery,War</td>\n",
       "    </tr>\n",
       "    <tr>\n",
       "      <th>21706</th>\n",
       "      <td>tt0022064</td>\n",
       "      <td>Lebbra bianca</td>\n",
       "      <td>Lebbra bianca</td>\n",
       "      <td>1951</td>\n",
       "      <td>80</td>\n",
       "      <td>Drama</td>\n",
       "    </tr>\n",
       "    <tr>\n",
       "      <th>23705</th>\n",
       "      <td>tt0024121</td>\n",
       "      <td>Houkutuslintu</td>\n",
       "      <td>Houkutuslintu</td>\n",
       "      <td>1946</td>\n",
       "      <td>84</td>\n",
       "      <td>Drama</td>\n",
       "    </tr>\n",
       "    <tr>\n",
       "      <th>...</th>\n",
       "      <td>...</td>\n",
       "      <td>...</td>\n",
       "      <td>...</td>\n",
       "      <td>...</td>\n",
       "      <td>...</td>\n",
       "      <td>...</td>\n",
       "    </tr>\n",
       "    <tr>\n",
       "      <th>10702488</th>\n",
       "      <td>tt9916270</td>\n",
       "      <td>Il talento del calabrone</td>\n",
       "      <td>Il talento del calabrone</td>\n",
       "      <td>2020</td>\n",
       "      <td>84</td>\n",
       "      <td>Thriller</td>\n",
       "    </tr>\n",
       "    <tr>\n",
       "      <th>10702533</th>\n",
       "      <td>tt9916362</td>\n",
       "      <td>Coven</td>\n",
       "      <td>Akelarre</td>\n",
       "      <td>2020</td>\n",
       "      <td>92</td>\n",
       "      <td>Drama,History</td>\n",
       "    </tr>\n",
       "    <tr>\n",
       "      <th>10702617</th>\n",
       "      <td>tt9916538</td>\n",
       "      <td>Kuambil Lagi Hatiku</td>\n",
       "      <td>Kuambil Lagi Hatiku</td>\n",
       "      <td>2019</td>\n",
       "      <td>123</td>\n",
       "      <td>Drama</td>\n",
       "    </tr>\n",
       "    <tr>\n",
       "      <th>10702685</th>\n",
       "      <td>tt9916680</td>\n",
       "      <td>De la ilusión al desconcierto: cine colombiano...</td>\n",
       "      <td>De la ilusión al desconcierto: cine colombiano...</td>\n",
       "      <td>2007</td>\n",
       "      <td>100</td>\n",
       "      <td>Documentary</td>\n",
       "    </tr>\n",
       "    <tr>\n",
       "      <th>10702707</th>\n",
       "      <td>tt9916730</td>\n",
       "      <td>6 Gunn</td>\n",
       "      <td>6 Gunn</td>\n",
       "      <td>2017</td>\n",
       "      <td>116</td>\n",
       "      <td>Drama</td>\n",
       "    </tr>\n",
       "  </tbody>\n",
       "</table>\n",
       "<p>324364 rows × 6 columns</p>\n",
       "</div>"
      ],
      "text/plain": [
       "             tconst                                       primaryTitle  \\\n",
       "13079     tt0013274                        Istoriya grazhdanskoy voyny   \n",
       "15482     tt0015724                                      Dama de noche   \n",
       "18590     tt0018867                              Escape from Hong Kong   \n",
       "21706     tt0022064                                      Lebbra bianca   \n",
       "23705     tt0024121                                      Houkutuslintu   \n",
       "...             ...                                                ...   \n",
       "10702488  tt9916270                           Il talento del calabrone   \n",
       "10702533  tt9916362                                              Coven   \n",
       "10702617  tt9916538                                Kuambil Lagi Hatiku   \n",
       "10702685  tt9916680  De la ilusión al desconcierto: cine colombiano...   \n",
       "10702707  tt9916730                                             6 Gunn   \n",
       "\n",
       "                                              originalTitle  startYear  \\\n",
       "13079                           Istoriya grazhdanskoy voyny       2021   \n",
       "15482                                         Dama de noche       1993   \n",
       "18590                                 Escape from Hong Kong       1942   \n",
       "21706                                         Lebbra bianca       1951   \n",
       "23705                                         Houkutuslintu       1946   \n",
       "...                                                     ...        ...   \n",
       "10702488                           Il talento del calabrone       2020   \n",
       "10702533                                           Akelarre       2020   \n",
       "10702617                                Kuambil Lagi Hatiku       2019   \n",
       "10702685  De la ilusión al desconcierto: cine colombiano...       2007   \n",
       "10702707                                             6 Gunn       2017   \n",
       "\n",
       "          runtimeMinutes                 genres  \n",
       "13079                 94            Documentary  \n",
       "15482                102  Drama,Mystery,Romance  \n",
       "18590                 60  Adventure,Mystery,War  \n",
       "21706                 80                  Drama  \n",
       "23705                 84                  Drama  \n",
       "...                  ...                    ...  \n",
       "10702488              84               Thriller  \n",
       "10702533              92          Drama,History  \n",
       "10702617             123                  Drama  \n",
       "10702685             100            Documentary  \n",
       "10702707             116                  Drama  \n",
       "\n",
       "[324364 rows x 6 columns]"
      ]
     },
     "execution_count": 17,
     "metadata": {},
     "output_type": "execute_result"
    }
   ],
   "source": [
    "movies"
   ]
  },
  {
   "cell_type": "markdown",
   "id": "7bbacbee",
   "metadata": {},
   "source": [
    "Let's see the details of the movies in our dataframe."
   ]
  },
  {
   "cell_type": "code",
   "execution_count": 18,
   "id": "0b3c056b",
   "metadata": {},
   "outputs": [],
   "source": [
    "import seaborn as sns\n",
    "import matplotlib.pyplot as plt\n",
    "\n",
    "sns.set_style(\"whitegrid\")"
   ]
  },
  {
   "cell_type": "code",
   "execution_count": 19,
   "id": "636220d5",
   "metadata": {},
   "outputs": [
    {
     "data": {
      "image/png": "[encoded data removed]",
      "text/plain": [
       "<Figure size 1000x600 with 1 Axes>"
      ]
     },
     "metadata": {},
     "output_type": "display_data"
    }
   ],
   "source": [
    "# Counting occurrences of each genre in the dataset\n",
    "\n",
    "genre_counts = (movies['genres'].apply(lambda x: x.split(',') if isinstance(x, str) else x).explode().value_counts()\n",
    ").head(20)\n",
    "plt.figure(figsize=(10, 6))\n",
    "sns.barplot(x=genre_counts.values, y=genre_counts.index)\n",
    "\n",
    "# Adding the values to the graph\n",
    "for i, count in enumerate(genre_counts.values):\n",
    "    plt.text(count, i, str(count), ha='left', va='center')\n",
    "\n",
    "plt.xlabel('Number of Movies')\n",
    "plt.ylabel('Genre')\n",
    "plt.title('Movie Count by Genre')\n",
    "plt.show()"
   ]
  },
  {
   "cell_type": "code",
   "execution_count": 78,
   "id": "c2e4914c",
   "metadata": {},
   "outputs": [
    {
     "data": {
      "image/png": "[encoded data removed]",
      "text/plain": [
       "<Figure size 300x600 with 1 Axes>"
      ]
     },
     "metadata": {},
     "output_type": "display_data"
    }
   ],
   "source": [
    "# Plotting the box plot of the runtime durations in my data\n",
    "plt.figure(figsize=(3, 6))\n",
    "sns.boxplot(data=movies, y='runtimeMinutes', color='pink')\n",
    "plt.ylabel('Runtime (min)')\n",
    "plt.title('Movie Runtime Durations')\n",
    "plt.show()"
   ]
  },
  {
   "cell_type": "code",
   "execution_count": 21,
   "id": "3d655091",
   "metadata": {
    "scrolled": false
   },
   "outputs": [
    {
     "name": "stderr",
     "output_type": "stream",
     "text": [
      "/Users/iremnisa.kilinc/anaconda3/lib/python3.11/site-packages/seaborn/categorical.py:641: FutureWarning: The default of observed=False is deprecated and will be changed to True in a future version of pandas. Pass observed=False to retain current behavior or observed=True to adopt the future default and silence this warning.\n",
      "  grouped_vals = vals.groupby(grouper)\n"
     ]
    },
    {
     "data": {
      "image/png": "[encoded data removed]",
      "text/plain": [
       "<Figure size 1000x600 with 1 Axes>"
      ]
     },
     "metadata": {},
     "output_type": "display_data"
    }
   ],
   "source": [
    "# Creating bins of 5 years in order to make it easier to read\n",
    "bins = range(movies['startYear'].min(), movies['startYear'].max() + 6, 5)\n",
    "labels = [f\"{bin}-{bin + 4}\" for bin in bins[:-1]]\n",
    "\n",
    "# Plotting the count plot of Release Years with bins\n",
    "plt.figure(figsize=(10, 6))\n",
    "ax = sns.countplot(data=movies, x=pd.cut(movies['startYear'], bins=bins, labels=labels), color='skyblue')\n",
    "\n",
    "# Adding the values to the graph\n",
    "for p in ax.patches:\n",
    "    ax.annotate(format(p.get_height(), '.0f'), \n",
    "                (p.get_x() + p.get_width() / 2., p.get_height()), \n",
    "                ha = 'center', va = 'center', \n",
    "                xytext = (0, 10), \n",
    "                textcoords = 'offset points')\n",
    "\n",
    "plt.ylabel('Movie Count')\n",
    "plt.xlabel('Release year')\n",
    "plt.title('Movie Count by Release Year')\n",
    "plt.xticks(rotation=90)  # Rotate x-axis labels for better readability\n",
    "plt.show()"
   ]
  },
  {
   "cell_type": "code",
   "execution_count": 22,
   "id": "102de418",
   "metadata": {},
   "outputs": [
    {
     "data": {
      "text/plain": [
       "(324364, 6)"
      ]
     },
     "execution_count": 22,
     "metadata": {},
     "output_type": "execute_result"
    }
   ],
   "source": [
    "movies.shape"
   ]
  },
  {
   "cell_type": "markdown",
   "id": "cefb19c1",
   "metadata": {},
   "source": [
    "I still need to filter out movies to recommend. I will use the rating data to filter out the movie database."
   ]
  },
  {
   "cell_type": "markdown",
   "id": "4f747179",
   "metadata": {},
   "source": [
    "## Cleaning Ratings Dataset\n",
    "\n",
    "title.ratings.tsv.gz file contains the IMDb rating and votes information for titles\n",
    "\n",
    "- tconst (string) - alphanumeric unique identifier of the title.\n",
    "- averageRating – weighted average of all the individual user ratings.\n",
    "- numVotes - number of votes the title has received."
   ]
  },
  {
   "cell_type": "code",
   "execution_count": 23,
   "id": "9939c088",
   "metadata": {},
   "outputs": [],
   "source": [
    "ratings = pickle.load(open('title.ratings.pkl', 'rb'))"
   ]
  },
  {
   "cell_type": "code",
   "execution_count": 24,
   "id": "cc7c2df3",
   "metadata": {},
   "outputs": [
    {
     "data": {
      "text/plain": [
       "(1427087, 3)"
      ]
     },
     "execution_count": 24,
     "metadata": {},
     "output_type": "execute_result"
    }
   ],
   "source": [
    "ratings.shape"
   ]
  },
  {
   "cell_type": "code",
   "execution_count": 25,
   "id": "e3e16b9e",
   "metadata": {},
   "outputs": [],
   "source": [
    "# removing movies that are not in my movies dataset\n",
    "ratings = ratings[ratings['tconst'].isin(set(movies['tconst']))]"
   ]
  },
  {
   "cell_type": "code",
   "execution_count": 26,
   "id": "2e445041",
   "metadata": {},
   "outputs": [
    {
     "data": {
      "text/plain": [
       "tconst           0\n",
       "averageRating    0\n",
       "numVotes         0\n",
       "dtype: int64"
      ]
     },
     "execution_count": 26,
     "metadata": {},
     "output_type": "execute_result"
    }
   ],
   "source": [
    "ratings.isna().sum()\n",
    "#No NaN values! "
   ]
  },
  {
   "cell_type": "code",
   "execution_count": 27,
   "id": "87cc043d",
   "metadata": {
    "scrolled": true
   },
   "outputs": [
    {
     "data": {
      "text/html": [
       "<div>\n",
       "<style scoped>\n",
       "    .dataframe tbody tr th:only-of-type {\n",
       "        vertical-align: middle;\n",
       "    }\n",
       "\n",
       "    .dataframe tbody tr th {\n",
       "        vertical-align: top;\n",
       "    }\n",
       "\n",
       "    .dataframe thead th {\n",
       "        text-align: right;\n",
       "    }\n",
       "</style>\n",
       "<table border=\"1\" class=\"dataframe\">\n",
       "  <thead>\n",
       "    <tr style=\"text-align: right;\">\n",
       "      <th></th>\n",
       "      <th>averageRating</th>\n",
       "      <th>numVotes</th>\n",
       "    </tr>\n",
       "  </thead>\n",
       "  <tbody>\n",
       "    <tr>\n",
       "      <th>count</th>\n",
       "      <td>241765.000000</td>\n",
       "      <td>2.417650e+05</td>\n",
       "    </tr>\n",
       "    <tr>\n",
       "      <th>mean</th>\n",
       "      <td>6.137457</td>\n",
       "      <td>4.579765e+03</td>\n",
       "    </tr>\n",
       "    <tr>\n",
       "      <th>std</th>\n",
       "      <td>1.348796</td>\n",
       "      <td>4.069559e+04</td>\n",
       "    </tr>\n",
       "    <tr>\n",
       "      <th>min</th>\n",
       "      <td>1.000000</td>\n",
       "      <td>5.000000e+00</td>\n",
       "    </tr>\n",
       "    <tr>\n",
       "      <th>25%</th>\n",
       "      <td>5.300000</td>\n",
       "      <td>2.600000e+01</td>\n",
       "    </tr>\n",
       "    <tr>\n",
       "      <th>50%</th>\n",
       "      <td>6.200000</td>\n",
       "      <td>9.400000e+01</td>\n",
       "    </tr>\n",
       "    <tr>\n",
       "      <th>75%</th>\n",
       "      <td>7.100000</td>\n",
       "      <td>4.740000e+02</td>\n",
       "    </tr>\n",
       "    <tr>\n",
       "      <th>max</th>\n",
       "      <td>10.000000</td>\n",
       "      <td>2.883648e+06</td>\n",
       "    </tr>\n",
       "  </tbody>\n",
       "</table>\n",
       "</div>"
      ],
      "text/plain": [
       "       averageRating      numVotes\n",
       "count  241765.000000  2.417650e+05\n",
       "mean        6.137457  4.579765e+03\n",
       "std         1.348796  4.069559e+04\n",
       "min         1.000000  5.000000e+00\n",
       "25%         5.300000  2.600000e+01\n",
       "50%         6.200000  9.400000e+01\n",
       "75%         7.100000  4.740000e+02\n",
       "max        10.000000  2.883648e+06"
      ]
     },
     "execution_count": 27,
     "metadata": {},
     "output_type": "execute_result"
    }
   ],
   "source": [
    "ratings.describe()"
   ]
  },
  {
   "cell_type": "code",
   "execution_count": 28,
   "id": "e45b415f",
   "metadata": {},
   "outputs": [],
   "source": [
    "ratings = ratings[(ratings['numVotes'] >= 1000) & (ratings['averageRating'] >= 5.5)]\n",
    "# I removed low rated movies and movies with few ratings for relevancy and quality"
   ]
  },
  {
   "cell_type": "code",
   "execution_count": 29,
   "id": "3cc87533",
   "metadata": {},
   "outputs": [
    {
     "name": "stderr",
     "output_type": "stream",
     "text": [
      "/Users/iremnisa.kilinc/anaconda3/lib/python3.11/site-packages/seaborn/_oldcore.py:1119: FutureWarning: use_inf_as_na option is deprecated and will be removed in a future version. Convert inf values to NaN before operating instead.\n",
      "  with pd.option_context('mode.use_inf_as_na', True):\n"
     ]
    },
    {
     "data": {
      "image/png": "[encoded data removed]",
      "text/plain": [
       "<Figure size 1000x600 with 1 Axes>"
      ]
     },
     "metadata": {},
     "output_type": "display_data"
    }
   ],
   "source": [
    "# Plot histogram for mean ratings\n",
    "plt.figure(figsize=(10, 6))\n",
    "sns.histplot(data=ratings, x='averageRating', color='skyblue', bins = 44, kde=True)\n",
    "plt.ylabel('Frequency')\n",
    "plt.title('Distribution of Average Ratings')\n",
    "\n",
    "plt.tight_layout()\n",
    "plt.show()"
   ]
  },
  {
   "cell_type": "code",
   "execution_count": 30,
   "id": "40a1f945",
   "metadata": {},
   "outputs": [
    {
     "data": {
      "image/png": "[encoded data removed]",
      "text/plain": [
       "<Figure size 1000x600 with 1 Axes>"
      ]
     },
     "metadata": {},
     "output_type": "display_data"
    }
   ],
   "source": [
    "# Plot boxplot for rating counts up to P75 for easy interpretation\n",
    "\n",
    "p75 = ratings['numVotes'].quantile(0.75)\n",
    "plt.figure(figsize=(10, 6))\n",
    "sns.boxplot(data=ratings[ratings['numVotes'] <= p75], y='numVotes', color='salmon')\n",
    "plt.ylabel('Vote Count')\n",
    "plt.title('Vote Count Distribution')\n",
    "\n",
    "plt.tight_layout()\n",
    "plt.show()"
   ]
  },
  {
   "cell_type": "code",
   "execution_count": 31,
   "id": "87c3b6f8",
   "metadata": {},
   "outputs": [],
   "source": [
    "# # Plot histogram for mean ratings\n",
    "# plt.figure(figsize=(10, 6))\n",
    "# sns.kdeplot(data=ratings, x='averageRating', color='skyblue', fill=True)\n",
    "# plt.ylabel('Frequency')\n",
    "# plt.title('Distribution of Average Ratings')\n",
    "\n",
    "# plt.tight_layout()\n",
    "# plt.show()"
   ]
  },
  {
   "cell_type": "code",
   "execution_count": 32,
   "id": "ba6a9c45",
   "metadata": {},
   "outputs": [],
   "source": [
    "#plt.figure(figsize=(10, 6))\n",
    "#sns.countplot(data=ratings, x='averageRating', color='skyblue')\n",
    "#plt.ylabel('Frequency')\n",
    "#plt.xlabel('Average Rating')\n",
    "#plt.title('Distribution of Average Ratings')\n",
    "\n",
    "#plt.tight_layout()\n",
    "#plt.show()"
   ]
  },
  {
   "cell_type": "code",
   "execution_count": 33,
   "id": "19bda2af",
   "metadata": {},
   "outputs": [
    {
     "data": {
      "text/plain": [
       "(32180, 3)"
      ]
     },
     "execution_count": 33,
     "metadata": {},
     "output_type": "execute_result"
    }
   ],
   "source": [
    "ratings.shape"
   ]
  },
  {
   "cell_type": "markdown",
   "id": "d2320b1f",
   "metadata": {},
   "source": [
    "32180 movies seems logical for the purposes of my project. I will use this dataset for the foundation of my project. Let's dump it in a pickle file. "
   ]
  },
  {
   "cell_type": "code",
   "execution_count": 34,
   "id": "47156480",
   "metadata": {},
   "outputs": [],
   "source": [
    "ratings.reset_index(drop=True)\n",
    "ratings.to_pickle('ratings.pkl')"
   ]
  },
  {
   "cell_type": "markdown",
   "id": "506afe98",
   "metadata": {},
   "source": [
    "### Filtering the movies according to number of votes and average rating"
   ]
  },
  {
   "cell_type": "code",
   "execution_count": 35,
   "id": "d6c55699",
   "metadata": {},
   "outputs": [],
   "source": [
    "movies = movies[movies['tconst'].isin(set(ratings['tconst']))]"
   ]
  },
  {
   "cell_type": "code",
   "execution_count": 36,
   "id": "5b3c3de2",
   "metadata": {},
   "outputs": [
    {
     "data": {
      "text/plain": [
       "(32180, 6)"
      ]
     },
     "execution_count": 36,
     "metadata": {},
     "output_type": "execute_result"
    }
   ],
   "source": [
    "movies.shape"
   ]
  },
  {
   "cell_type": "code",
   "execution_count": 37,
   "id": "4a3e772e",
   "metadata": {},
   "outputs": [
    {
     "data": {
      "text/html": [
       "<div>\n",
       "<style scoped>\n",
       "    .dataframe tbody tr th:only-of-type {\n",
       "        vertical-align: middle;\n",
       "    }\n",
       "\n",
       "    .dataframe tbody tr th {\n",
       "        vertical-align: top;\n",
       "    }\n",
       "\n",
       "    .dataframe thead th {\n",
       "        text-align: right;\n",
       "    }\n",
       "</style>\n",
       "<table border=\"1\" class=\"dataframe\">\n",
       "  <thead>\n",
       "    <tr style=\"text-align: right;\">\n",
       "      <th></th>\n",
       "      <th>tconst</th>\n",
       "      <th>primaryTitle</th>\n",
       "      <th>originalTitle</th>\n",
       "      <th>startYear</th>\n",
       "      <th>runtimeMinutes</th>\n",
       "      <th>genres</th>\n",
       "    </tr>\n",
       "  </thead>\n",
       "  <tbody>\n",
       "    <tr>\n",
       "      <th>0</th>\n",
       "      <td>tt0029284</td>\n",
       "      <td>My Favorite Wife</td>\n",
       "      <td>My Favorite Wife</td>\n",
       "      <td>1940</td>\n",
       "      <td>88</td>\n",
       "      <td>Comedy,Romance</td>\n",
       "    </tr>\n",
       "    <tr>\n",
       "      <th>1</th>\n",
       "      <td>tt0031359</td>\n",
       "      <td>Gaslight</td>\n",
       "      <td>Gaslight</td>\n",
       "      <td>1940</td>\n",
       "      <td>84</td>\n",
       "      <td>Mystery,Thriller</td>\n",
       "    </tr>\n",
       "    <tr>\n",
       "      <th>2</th>\n",
       "      <td>tt0031976</td>\n",
       "      <td>The Stars Look Down</td>\n",
       "      <td>The Stars Look Down</td>\n",
       "      <td>1940</td>\n",
       "      <td>110</td>\n",
       "      <td>Drama</td>\n",
       "    </tr>\n",
       "    <tr>\n",
       "      <th>3</th>\n",
       "      <td>tt0032179</td>\n",
       "      <td>21 Days Together</td>\n",
       "      <td>21 Days</td>\n",
       "      <td>1940</td>\n",
       "      <td>72</td>\n",
       "      <td>Crime,Drama,Romance</td>\n",
       "    </tr>\n",
       "    <tr>\n",
       "      <th>4</th>\n",
       "      <td>tt0032181</td>\n",
       "      <td>Abe Lincoln in Illinois</td>\n",
       "      <td>Abe Lincoln in Illinois</td>\n",
       "      <td>1940</td>\n",
       "      <td>110</td>\n",
       "      <td>Biography,Drama,History</td>\n",
       "    </tr>\n",
       "    <tr>\n",
       "      <th>...</th>\n",
       "      <td>...</td>\n",
       "      <td>...</td>\n",
       "      <td>...</td>\n",
       "      <td>...</td>\n",
       "      <td>...</td>\n",
       "      <td>...</td>\n",
       "    </tr>\n",
       "    <tr>\n",
       "      <th>32175</th>\n",
       "      <td>tt9907782</td>\n",
       "      <td>The Cursed</td>\n",
       "      <td>Eight for Silver</td>\n",
       "      <td>2021</td>\n",
       "      <td>111</td>\n",
       "      <td>Fantasy,Horror,Mystery</td>\n",
       "    </tr>\n",
       "    <tr>\n",
       "      <th>32176</th>\n",
       "      <td>tt9908390</td>\n",
       "      <td>Le lion</td>\n",
       "      <td>Le lion</td>\n",
       "      <td>2020</td>\n",
       "      <td>95</td>\n",
       "      <td>Comedy</td>\n",
       "    </tr>\n",
       "    <tr>\n",
       "      <th>32177</th>\n",
       "      <td>tt9911196</td>\n",
       "      <td>The Marriage Escape</td>\n",
       "      <td>De beentjes van Sint-Hildegard</td>\n",
       "      <td>2020</td>\n",
       "      <td>103</td>\n",
       "      <td>Comedy,Drama</td>\n",
       "    </tr>\n",
       "    <tr>\n",
       "      <th>32178</th>\n",
       "      <td>tt9916270</td>\n",
       "      <td>Il talento del calabrone</td>\n",
       "      <td>Il talento del calabrone</td>\n",
       "      <td>2020</td>\n",
       "      <td>84</td>\n",
       "      <td>Thriller</td>\n",
       "    </tr>\n",
       "    <tr>\n",
       "      <th>32179</th>\n",
       "      <td>tt9916362</td>\n",
       "      <td>Coven</td>\n",
       "      <td>Akelarre</td>\n",
       "      <td>2020</td>\n",
       "      <td>92</td>\n",
       "      <td>Drama,History</td>\n",
       "    </tr>\n",
       "  </tbody>\n",
       "</table>\n",
       "<p>32180 rows × 6 columns</p>\n",
       "</div>"
      ],
      "text/plain": [
       "          tconst              primaryTitle                   originalTitle  \\\n",
       "0      tt0029284          My Favorite Wife                My Favorite Wife   \n",
       "1      tt0031359                  Gaslight                        Gaslight   \n",
       "2      tt0031976       The Stars Look Down             The Stars Look Down   \n",
       "3      tt0032179          21 Days Together                         21 Days   \n",
       "4      tt0032181   Abe Lincoln in Illinois         Abe Lincoln in Illinois   \n",
       "...          ...                       ...                             ...   \n",
       "32175  tt9907782                The Cursed                Eight for Silver   \n",
       "32176  tt9908390                   Le lion                         Le lion   \n",
       "32177  tt9911196       The Marriage Escape  De beentjes van Sint-Hildegard   \n",
       "32178  tt9916270  Il talento del calabrone        Il talento del calabrone   \n",
       "32179  tt9916362                     Coven                        Akelarre   \n",
       "\n",
       "       startYear  runtimeMinutes                   genres  \n",
       "0           1940              88           Comedy,Romance  \n",
       "1           1940              84         Mystery,Thriller  \n",
       "2           1940             110                    Drama  \n",
       "3           1940              72      Crime,Drama,Romance  \n",
       "4           1940             110  Biography,Drama,History  \n",
       "...          ...             ...                      ...  \n",
       "32175       2021             111   Fantasy,Horror,Mystery  \n",
       "32176       2020              95                   Comedy  \n",
       "32177       2020             103             Comedy,Drama  \n",
       "32178       2020              84                 Thriller  \n",
       "32179       2020              92            Drama,History  \n",
       "\n",
       "[32180 rows x 6 columns]"
      ]
     },
     "execution_count": 37,
     "metadata": {},
     "output_type": "execute_result"
    }
   ],
   "source": [
    "movies.reset_index(drop=True)"
   ]
  },
  {
   "cell_type": "markdown",
   "id": "c7ce132e",
   "metadata": {},
   "source": [
    "## Cleaning Cast DataFrame\n",
    "\n",
    "title.principals.tsv.gz contains the principal cast/crew for titles\n",
    "\n",
    "- tconst (string) - alphanumeric unique identifier of the title.\n",
    "- ordering (integer) – a number to uniquely identify rows for a given titleId.\n",
    "- nconst (string) - alphanumeric unique identifier of the name/person.\n",
    "- category (string) - the category of job that person was in.\n",
    "- job (string) - the specific job title if applicable, else \"\\N\".\n",
    "- characters (string) - the name of the character played if applicable, else \"\\N\" (It is really \"[role1,role2,....]\" or \"\\N\").\n",
    "\n",
    "\n",
    "I only need the information on the cast members that appeared in the movies in my movies dataframe. So I will need to filter the people using movies dataframe. I will then check for NaN values and either drop them or fill them out using TMDB API if needed. "
   ]
  },
  {
   "cell_type": "code",
   "execution_count": 39,
   "id": "a608bca1",
   "metadata": {},
   "outputs": [],
   "source": [
    "principles = pickle.load(open('title.principals.pkl', 'rb'))"
   ]
  },
  {
   "cell_type": "code",
   "execution_count": 40,
   "id": "eb9f0cb5",
   "metadata": {},
   "outputs": [],
   "source": [
    "principles = principles[principles['tconst'].isin(set(movies['tconst']))]"
   ]
  },
  {
   "cell_type": "code",
   "execution_count": 41,
   "id": "df995824",
   "metadata": {},
   "outputs": [
    {
     "data": {
      "text/plain": [
       "(642182, 6)"
      ]
     },
     "execution_count": 41,
     "metadata": {},
     "output_type": "execute_result"
    }
   ],
   "source": [
    "principles.shape"
   ]
  },
  {
   "cell_type": "code",
   "execution_count": 42,
   "id": "e7ad85ed",
   "metadata": {},
   "outputs": [],
   "source": [
    "#only keeping the cast because the crew data is stored elsewhere\n",
    "principles = principles[principles['category'].isin(['actor', 'actress'])]"
   ]
  },
  {
   "cell_type": "code",
   "execution_count": 43,
   "id": "c625c728",
   "metadata": {},
   "outputs": [],
   "source": [
    "principles.drop(['characters','job'], axis=1, inplace=True)"
   ]
  },
  {
   "cell_type": "code",
   "execution_count": 44,
   "id": "ab23ca2d",
   "metadata": {},
   "outputs": [],
   "source": [
    "missing_cast = movies[~movies['tconst'].isin(set(principles['tconst']))]\n",
    "# We have 1430 movies without any cast information. Lets deep dive on them"
   ]
  },
  {
   "cell_type": "code",
   "execution_count": 45,
   "id": "ece4720c",
   "metadata": {},
   "outputs": [
    {
     "data": {
      "text/plain": [
       "genres\n",
       "Documentary    1408\n",
       "Biography       342\n",
       "Music           226\n",
       "History         175\n",
       "Crime           125\n",
       "Sport           102\n",
       "Comedy           89\n",
       "Drama            81\n",
       "War              35\n",
       "Adventure        29\n",
       "Family           22\n",
       "News             19\n",
       "Action           18\n",
       "Mystery          14\n",
       "Animation        14\n",
       "Horror            8\n",
       "Sci-Fi            7\n",
       "Musical           6\n",
       "Thriller          6\n",
       "Fantasy           6\n",
       "Romance           5\n",
       "Western           3\n",
       "Name: count, dtype: int64"
      ]
     },
     "execution_count": 45,
     "metadata": {},
     "output_type": "execute_result"
    }
   ],
   "source": [
    "missing_cast['genres'].apply(lambda x: x.split(',') if isinstance(x, str) else x).explode().value_counts()"
   ]
  },
  {
   "cell_type": "markdown",
   "id": "14962084",
   "metadata": {},
   "source": [
    "These movies are mostly documentaries or biographies so it makes sense that they do not have cast information."
   ]
  },
  {
   "cell_type": "code",
   "execution_count": 46,
   "id": "4b99d9f7",
   "metadata": {},
   "outputs": [
    {
     "data": {
      "text/html": [
       "<div>\n",
       "<style scoped>\n",
       "    .dataframe tbody tr th:only-of-type {\n",
       "        vertical-align: middle;\n",
       "    }\n",
       "\n",
       "    .dataframe tbody tr th {\n",
       "        vertical-align: top;\n",
       "    }\n",
       "\n",
       "    .dataframe thead th {\n",
       "        text-align: right;\n",
       "    }\n",
       "</style>\n",
       "<table border=\"1\" class=\"dataframe\">\n",
       "  <thead>\n",
       "    <tr style=\"text-align: right;\">\n",
       "      <th></th>\n",
       "      <th>averageRating</th>\n",
       "      <th>numVotes</th>\n",
       "    </tr>\n",
       "  </thead>\n",
       "  <tbody>\n",
       "    <tr>\n",
       "      <th>count</th>\n",
       "      <td>1430.000000</td>\n",
       "      <td>1430.000000</td>\n",
       "    </tr>\n",
       "    <tr>\n",
       "      <th>mean</th>\n",
       "      <td>7.322727</td>\n",
       "      <td>5819.390909</td>\n",
       "    </tr>\n",
       "    <tr>\n",
       "      <th>std</th>\n",
       "      <td>0.592932</td>\n",
       "      <td>11490.730125</td>\n",
       "    </tr>\n",
       "    <tr>\n",
       "      <th>min</th>\n",
       "      <td>5.500000</td>\n",
       "      <td>1000.000000</td>\n",
       "    </tr>\n",
       "    <tr>\n",
       "      <th>25%</th>\n",
       "      <td>7.000000</td>\n",
       "      <td>1471.250000</td>\n",
       "    </tr>\n",
       "    <tr>\n",
       "      <th>50%</th>\n",
       "      <td>7.400000</td>\n",
       "      <td>2415.500000</td>\n",
       "    </tr>\n",
       "    <tr>\n",
       "      <th>75%</th>\n",
       "      <td>7.700000</td>\n",
       "      <td>5072.750000</td>\n",
       "    </tr>\n",
       "    <tr>\n",
       "      <th>max</th>\n",
       "      <td>9.400000</td>\n",
       "      <td>148645.000000</td>\n",
       "    </tr>\n",
       "  </tbody>\n",
       "</table>\n",
       "</div>"
      ],
      "text/plain": [
       "       averageRating       numVotes\n",
       "count    1430.000000    1430.000000\n",
       "mean        7.322727    5819.390909\n",
       "std         0.592932   11490.730125\n",
       "min         5.500000    1000.000000\n",
       "25%         7.000000    1471.250000\n",
       "50%         7.400000    2415.500000\n",
       "75%         7.700000    5072.750000\n",
       "max         9.400000  148645.000000"
      ]
     },
     "execution_count": 46,
     "metadata": {},
     "output_type": "execute_result"
    }
   ],
   "source": [
    "#Lets see the ratings of these movies before deciding on whether to drop them or not.\n",
    "ratings[ratings['tconst'].\n",
    "        isin(set(movies[~movies['tconst'].\n",
    "                        isin(set(principles['tconst']))]['tconst']))].describe()"
   ]
  },
  {
   "cell_type": "markdown",
   "id": "c57bd1d9",
   "metadata": {},
   "source": [
    "These movies seem to be relevant and popular so before deciding on dropping them."
   ]
  },
  {
   "cell_type": "code",
   "execution_count": 47,
   "id": "dbc5c31f",
   "metadata": {},
   "outputs": [
    {
     "data": {
      "text/html": [
       "<div>\n",
       "<style scoped>\n",
       "    .dataframe tbody tr th:only-of-type {\n",
       "        vertical-align: middle;\n",
       "    }\n",
       "\n",
       "    .dataframe tbody tr th {\n",
       "        vertical-align: top;\n",
       "    }\n",
       "\n",
       "    .dataframe thead th {\n",
       "        text-align: right;\n",
       "    }\n",
       "</style>\n",
       "<table border=\"1\" class=\"dataframe\">\n",
       "  <thead>\n",
       "    <tr style=\"text-align: right;\">\n",
       "      <th></th>\n",
       "      <th>tconst</th>\n",
       "      <th>primaryTitle</th>\n",
       "      <th>originalTitle</th>\n",
       "      <th>startYear</th>\n",
       "      <th>runtimeMinutes</th>\n",
       "      <th>genres</th>\n",
       "    </tr>\n",
       "  </thead>\n",
       "  <tbody>\n",
       "    <tr>\n",
       "      <th>48240</th>\n",
       "      <td>tt0049125</td>\n",
       "      <td>Davy Crockett and the River Pirates</td>\n",
       "      <td>Davy Crockett and the River Pirates</td>\n",
       "      <td>1956</td>\n",
       "      <td>81</td>\n",
       "      <td>Adventure,Comedy,Drama</td>\n",
       "    </tr>\n",
       "    <tr>\n",
       "      <th>53279</th>\n",
       "      <td>tt0054307</td>\n",
       "      <td>The Sign of Zorro</td>\n",
       "      <td>The Sign of Zorro</td>\n",
       "      <td>1958</td>\n",
       "      <td>91</td>\n",
       "      <td>Adventure,Drama,Family</td>\n",
       "    </tr>\n",
       "    <tr>\n",
       "      <th>60270</th>\n",
       "      <td>tt0061465</td>\n",
       "      <td>Chelsea Girls</td>\n",
       "      <td>Chelsea Girls</td>\n",
       "      <td>1966</td>\n",
       "      <td>210</td>\n",
       "      <td>Drama</td>\n",
       "    </tr>\n",
       "    <tr>\n",
       "      <th>62496</th>\n",
       "      <td>tt0063769</td>\n",
       "      <td>Seacrow Island</td>\n",
       "      <td>Vi på Saltkråkan</td>\n",
       "      <td>1968</td>\n",
       "      <td>95</td>\n",
       "      <td>Comedy,Drama,Family</td>\n",
       "    </tr>\n",
       "    <tr>\n",
       "      <th>76294</th>\n",
       "      <td>tt0077937</td>\n",
       "      <td>Mission Galactica: The Cylon Attack</td>\n",
       "      <td>Mission Galactica: The Cylon Attack</td>\n",
       "      <td>1979</td>\n",
       "      <td>108</td>\n",
       "      <td>Action,Adventure,Sci-Fi</td>\n",
       "    </tr>\n",
       "    <tr>\n",
       "      <th>91994</th>\n",
       "      <td>tt0094089</td>\n",
       "      <td>Swimming to Cambodia</td>\n",
       "      <td>Swimming to Cambodia</td>\n",
       "      <td>1987</td>\n",
       "      <td>85</td>\n",
       "      <td>Comedy,Drama</td>\n",
       "    </tr>\n",
       "    <tr>\n",
       "      <th>113758</th>\n",
       "      <td>tt0116447</td>\n",
       "      <td>Gray's Anatomy</td>\n",
       "      <td>Gray's Anatomy</td>\n",
       "      <td>1996</td>\n",
       "      <td>80</td>\n",
       "      <td>Comedy,Drama</td>\n",
       "    </tr>\n",
       "    <tr>\n",
       "      <th>135390</th>\n",
       "      <td>tt0139500</td>\n",
       "      <td>In Vanda's Room</td>\n",
       "      <td>No Quarto da Vanda</td>\n",
       "      <td>2000</td>\n",
       "      <td>171</td>\n",
       "      <td>Drama</td>\n",
       "    </tr>\n",
       "    <tr>\n",
       "      <th>992690</th>\n",
       "      <td>tt10045260</td>\n",
       "      <td>The Exorcist III: Legion</td>\n",
       "      <td>The Exorcist III: Legion</td>\n",
       "      <td>1990</td>\n",
       "      <td>105</td>\n",
       "      <td>Horror,Mystery,Thriller</td>\n",
       "    </tr>\n",
       "    <tr>\n",
       "      <th>1901392</th>\n",
       "      <td>tt11682998</td>\n",
       "      <td>White Latina</td>\n",
       "      <td>White Latina</td>\n",
       "      <td>2019</td>\n",
       "      <td>60</td>\n",
       "      <td>Comedy</td>\n",
       "    </tr>\n",
       "    <tr>\n",
       "      <th>5738023</th>\n",
       "      <td>tt2243299</td>\n",
       "      <td>Final Cut: Ladies and Gentlemen</td>\n",
       "      <td>Final Cut: Hölgyeim és uraim</td>\n",
       "      <td>2012</td>\n",
       "      <td>84</td>\n",
       "      <td>Comedy,Drama,Romance</td>\n",
       "    </tr>\n",
       "    <tr>\n",
       "      <th>6751836</th>\n",
       "      <td>tt28145495</td>\n",
       "      <td>Uruttu Tech</td>\n",
       "      <td>Uruttu Tech</td>\n",
       "      <td>2023</td>\n",
       "      <td>66</td>\n",
       "      <td>Comedy</td>\n",
       "    </tr>\n",
       "    <tr>\n",
       "      <th>10638511</th>\n",
       "      <td>tt9777830</td>\n",
       "      <td>John Leguizamo's Latin History for Morons</td>\n",
       "      <td>John Leguizamo's Latin History for Morons</td>\n",
       "      <td>2018</td>\n",
       "      <td>91</td>\n",
       "      <td>Comedy</td>\n",
       "    </tr>\n",
       "  </tbody>\n",
       "</table>\n",
       "</div>"
      ],
      "text/plain": [
       "              tconst                               primaryTitle  \\\n",
       "48240      tt0049125        Davy Crockett and the River Pirates   \n",
       "53279      tt0054307                          The Sign of Zorro   \n",
       "60270      tt0061465                              Chelsea Girls   \n",
       "62496      tt0063769                             Seacrow Island   \n",
       "76294      tt0077937        Mission Galactica: The Cylon Attack   \n",
       "91994      tt0094089                       Swimming to Cambodia   \n",
       "113758     tt0116447                             Gray's Anatomy   \n",
       "135390     tt0139500                            In Vanda's Room   \n",
       "992690    tt10045260                   The Exorcist III: Legion   \n",
       "1901392   tt11682998                               White Latina   \n",
       "5738023    tt2243299            Final Cut: Ladies and Gentlemen   \n",
       "6751836   tt28145495                                Uruttu Tech   \n",
       "10638511   tt9777830  John Leguizamo's Latin History for Morons   \n",
       "\n",
       "                                      originalTitle  startYear  \\\n",
       "48240           Davy Crockett and the River Pirates       1956   \n",
       "53279                             The Sign of Zorro       1958   \n",
       "60270                                 Chelsea Girls       1966   \n",
       "62496                              Vi på Saltkråkan       1968   \n",
       "76294           Mission Galactica: The Cylon Attack       1979   \n",
       "91994                          Swimming to Cambodia       1987   \n",
       "113758                               Gray's Anatomy       1996   \n",
       "135390                           No Quarto da Vanda       2000   \n",
       "992690                     The Exorcist III: Legion       1990   \n",
       "1901392                                White Latina       2019   \n",
       "5738023                Final Cut: Hölgyeim és uraim       2012   \n",
       "6751836                                 Uruttu Tech       2023   \n",
       "10638511  John Leguizamo's Latin History for Morons       2018   \n",
       "\n",
       "          runtimeMinutes                   genres  \n",
       "48240                 81   Adventure,Comedy,Drama  \n",
       "53279                 91   Adventure,Drama,Family  \n",
       "60270                210                    Drama  \n",
       "62496                 95      Comedy,Drama,Family  \n",
       "76294                108  Action,Adventure,Sci-Fi  \n",
       "91994                 85             Comedy,Drama  \n",
       "113758                80             Comedy,Drama  \n",
       "135390               171                    Drama  \n",
       "992690               105  Horror,Mystery,Thriller  \n",
       "1901392               60                   Comedy  \n",
       "5738023               84     Comedy,Drama,Romance  \n",
       "6751836               66                   Comedy  \n",
       "10638511              91                   Comedy  "
      ]
     },
     "execution_count": 47,
     "metadata": {},
     "output_type": "execute_result"
    }
   ],
   "source": [
    "# It is logical for Documentaries, Biographies, Animations and Music(?) to not have any cast. \n",
    "# Let's inspect the rest.\n",
    "movies[(~movies['genres'].str.contains('Documentary|Biography|Music|Animation')) \n",
    "       & ~movies['tconst'].isin(set(principles['tconst']))]"
   ]
  },
  {
   "cell_type": "markdown",
   "id": "610bf608",
   "metadata": {},
   "source": [
    "I don't have to drop this data because I will use the cast data in corpus generation and it is not obligational for all data to be filled."
   ]
  },
  {
   "cell_type": "markdown",
   "id": "1f2e94ad",
   "metadata": {},
   "source": [
    "## Creating Genres DataFrame\n",
    "\n",
    "Since our movies dataset has multiple genres for one movie, I will create a seperate genres dataset in order to analyze the data easily."
   ]
  },
  {
   "cell_type": "code",
   "execution_count": 48,
   "id": "f2b168db",
   "metadata": {
    "scrolled": true
   },
   "outputs": [],
   "source": [
    "genres = movies.apply(lambda row: [(row['tconst'], genre) for genre in row['genres'].split(',')] if isinstance(row['genres'], str) else [], axis=1)\n",
    "genres = pd.DataFrame([item for sublist in genres for item in sublist], columns=['tconst', 'genre'])"
   ]
  },
  {
   "cell_type": "code",
   "execution_count": 49,
   "id": "72df2b71",
   "metadata": {},
   "outputs": [
    {
     "name": "stderr",
     "output_type": "stream",
     "text": [
      "/var/folders/_8/f5zjdbxn0vs8y_m3qv7n_8800000gn/T/ipykernel_10348/2635684754.py:1: SettingWithCopyWarning: \n",
      "A value is trying to be set on a copy of a slice from a DataFrame\n",
      "\n",
      "See the caveats in the documentation: https://pandas.pydata.org/pandas-docs/stable/user_guide/indexing.html#returning-a-view-versus-a-copy\n",
      "  movies.drop(columns='genres',inplace=True)\n"
     ]
    }
   ],
   "source": [
    "movies.drop(columns='genres',inplace=True)"
   ]
  },
  {
   "cell_type": "code",
   "execution_count": 76,
   "id": "e8c6b616",
   "metadata": {},
   "outputs": [],
   "source": [
    "movies.to_pickle('movies.pkl')"
   ]
  },
  {
   "cell_type": "code",
   "execution_count": 75,
   "id": "80b2a499",
   "metadata": {},
   "outputs": [
    {
     "data": {
      "text/html": [
       "<div>\n",
       "<style scoped>\n",
       "    .dataframe tbody tr th:only-of-type {\n",
       "        vertical-align: middle;\n",
       "    }\n",
       "\n",
       "    .dataframe tbody tr th {\n",
       "        vertical-align: top;\n",
       "    }\n",
       "\n",
       "    .dataframe thead th {\n",
       "        text-align: right;\n",
       "    }\n",
       "</style>\n",
       "<table border=\"1\" class=\"dataframe\">\n",
       "  <thead>\n",
       "    <tr style=\"text-align: right;\">\n",
       "      <th></th>\n",
       "      <th>tconst</th>\n",
       "      <th>primaryTitle</th>\n",
       "      <th>originalTitle</th>\n",
       "      <th>startYear</th>\n",
       "      <th>runtimeMinutes</th>\n",
       "    </tr>\n",
       "  </thead>\n",
       "  <tbody>\n",
       "    <tr>\n",
       "      <th>28768</th>\n",
       "      <td>tt0029284</td>\n",
       "      <td>My Favorite Wife</td>\n",
       "      <td>My Favorite Wife</td>\n",
       "      <td>1940</td>\n",
       "      <td>88</td>\n",
       "    </tr>\n",
       "    <tr>\n",
       "      <th>30799</th>\n",
       "      <td>tt0031359</td>\n",
       "      <td>Gaslight</td>\n",
       "      <td>Gaslight</td>\n",
       "      <td>1940</td>\n",
       "      <td>84</td>\n",
       "    </tr>\n",
       "    <tr>\n",
       "      <th>31405</th>\n",
       "      <td>tt0031976</td>\n",
       "      <td>The Stars Look Down</td>\n",
       "      <td>The Stars Look Down</td>\n",
       "      <td>1940</td>\n",
       "      <td>110</td>\n",
       "    </tr>\n",
       "    <tr>\n",
       "      <th>31600</th>\n",
       "      <td>tt0032179</td>\n",
       "      <td>21 Days Together</td>\n",
       "      <td>21 Days</td>\n",
       "      <td>1940</td>\n",
       "      <td>72</td>\n",
       "    </tr>\n",
       "    <tr>\n",
       "      <th>31602</th>\n",
       "      <td>tt0032181</td>\n",
       "      <td>Abe Lincoln in Illinois</td>\n",
       "      <td>Abe Lincoln in Illinois</td>\n",
       "      <td>1940</td>\n",
       "      <td>110</td>\n",
       "    </tr>\n",
       "    <tr>\n",
       "      <th>...</th>\n",
       "      <td>...</td>\n",
       "      <td>...</td>\n",
       "      <td>...</td>\n",
       "      <td>...</td>\n",
       "      <td>...</td>\n",
       "    </tr>\n",
       "    <tr>\n",
       "      <th>10698589</th>\n",
       "      <td>tt9907782</td>\n",
       "      <td>The Cursed</td>\n",
       "      <td>Eight for Silver</td>\n",
       "      <td>2021</td>\n",
       "      <td>111</td>\n",
       "    </tr>\n",
       "    <tr>\n",
       "      <th>10698877</th>\n",
       "      <td>tt9908390</td>\n",
       "      <td>Le lion</td>\n",
       "      <td>Le lion</td>\n",
       "      <td>2020</td>\n",
       "      <td>95</td>\n",
       "    </tr>\n",
       "    <tr>\n",
       "      <th>10700132</th>\n",
       "      <td>tt9911196</td>\n",
       "      <td>The Marriage Escape</td>\n",
       "      <td>De beentjes van Sint-Hildegard</td>\n",
       "      <td>2020</td>\n",
       "      <td>103</td>\n",
       "    </tr>\n",
       "    <tr>\n",
       "      <th>10702488</th>\n",
       "      <td>tt9916270</td>\n",
       "      <td>Il talento del calabrone</td>\n",
       "      <td>Il talento del calabrone</td>\n",
       "      <td>2020</td>\n",
       "      <td>84</td>\n",
       "    </tr>\n",
       "    <tr>\n",
       "      <th>10702533</th>\n",
       "      <td>tt9916362</td>\n",
       "      <td>Coven</td>\n",
       "      <td>Akelarre</td>\n",
       "      <td>2020</td>\n",
       "      <td>92</td>\n",
       "    </tr>\n",
       "  </tbody>\n",
       "</table>\n",
       "<p>32180 rows × 5 columns</p>\n",
       "</div>"
      ],
      "text/plain": [
       "             tconst              primaryTitle                   originalTitle  \\\n",
       "28768     tt0029284          My Favorite Wife                My Favorite Wife   \n",
       "30799     tt0031359                  Gaslight                        Gaslight   \n",
       "31405     tt0031976       The Stars Look Down             The Stars Look Down   \n",
       "31600     tt0032179          21 Days Together                         21 Days   \n",
       "31602     tt0032181   Abe Lincoln in Illinois         Abe Lincoln in Illinois   \n",
       "...             ...                       ...                             ...   \n",
       "10698589  tt9907782                The Cursed                Eight for Silver   \n",
       "10698877  tt9908390                   Le lion                         Le lion   \n",
       "10700132  tt9911196       The Marriage Escape  De beentjes van Sint-Hildegard   \n",
       "10702488  tt9916270  Il talento del calabrone        Il talento del calabrone   \n",
       "10702533  tt9916362                     Coven                        Akelarre   \n",
       "\n",
       "          startYear  runtimeMinutes  \n",
       "28768          1940              88  \n",
       "30799          1940              84  \n",
       "31405          1940             110  \n",
       "31600          1940              72  \n",
       "31602          1940             110  \n",
       "...             ...             ...  \n",
       "10698589       2021             111  \n",
       "10698877       2020              95  \n",
       "10700132       2020             103  \n",
       "10702488       2020              84  \n",
       "10702533       2020              92  \n",
       "\n",
       "[32180 rows x 5 columns]"
      ]
     },
     "execution_count": 75,
     "metadata": {},
     "output_type": "execute_result"
    }
   ],
   "source": [
    "movies"
   ]
  },
  {
   "cell_type": "code",
   "execution_count": 51,
   "id": "5fad1dc2",
   "metadata": {},
   "outputs": [
    {
     "data": {
      "text/plain": [
       "(75089, 2)"
      ]
     },
     "execution_count": 51,
     "metadata": {},
     "output_type": "execute_result"
    }
   ],
   "source": [
    "genres.shape"
   ]
  },
  {
   "cell_type": "code",
   "execution_count": 52,
   "id": "da2a95f1",
   "metadata": {},
   "outputs": [],
   "source": [
    "genres.reset_index(drop=True)\n",
    "genres.to_pickle('genres.pkl')"
   ]
  },
  {
   "cell_type": "markdown",
   "id": "cbf31fd3",
   "metadata": {},
   "source": [
    "## Cleaning Crew DataFrame\n",
    "\n",
    "title.crew.tsv.gz file contains the director and writer information for all the titles in IMDb. Fields include:\n",
    "\n",
    "- tconst (string) - alphanumeric unique identifier of the title.\n",
    "- directors (array of nconsts) - director(s) of the given title.\n",
    "- writers (array of nconsts) – writer(s) of the given title.\n",
    "\n",
    "I only need the information on the crew members that worked in the movies in my movies dataframe. So I will need to filter the people using movies dataframe. I will then check for NaN values and either drop them or fill them out using TMDB API if needed. "
   ]
  },
  {
   "cell_type": "code",
   "execution_count": 53,
   "id": "fae0c142",
   "metadata": {},
   "outputs": [],
   "source": [
    "crew = pickle.load(open('title.crew.pkl', 'rb'))"
   ]
  },
  {
   "cell_type": "code",
   "execution_count": 54,
   "id": "364af07c",
   "metadata": {},
   "outputs": [],
   "source": [
    "crew = crew[crew['tconst'].isin(set(movies['tconst']))]"
   ]
  },
  {
   "cell_type": "code",
   "execution_count": 55,
   "id": "b651d626",
   "metadata": {},
   "outputs": [
    {
     "data": {
      "text/plain": [
       "904"
      ]
     },
     "execution_count": 55,
     "metadata": {},
     "output_type": "execute_result"
    }
   ],
   "source": [
    "crew.isna().any(axis=1).sum()"
   ]
  },
  {
   "cell_type": "markdown",
   "id": "732b260b",
   "metadata": {},
   "source": [
    "I need director and writer information for my recommender model because I believe that it is an important factor in choosing a movie. So I will use the TMDB API to fill out this information and if it is not available on TMDB, I will drop the row. "
   ]
  },
  {
   "cell_type": "code",
   "execution_count": 56,
   "id": "ec780ea7",
   "metadata": {},
   "outputs": [],
   "source": [
    "def get_data(imdb_id):\n",
    "    url = f\"https://api.themoviedb.org/3/find/{imdb_id}?external_source=imdb_id\"\n",
    "    try:\n",
    "        res = requests.get(url, headers=headers)\n",
    "        results = res.json().get('movie_results', [])\n",
    "        if results:\n",
    "            tmdb_id = results[0]['id']\n",
    "            api_url = f\"https://api.themoviedb.org/3/movie/{tmdb_id}?append_to_response=credits\"\n",
    "            try:\n",
    "                res = requests.get(api_url, headers=headers)\n",
    "                response = res.json()\n",
    "                return response\n",
    "            except requests.exceptions.RequestException as e:\n",
    "                print(f\"Error processing URL {api_url}: {e}\")\n",
    "                return None\n",
    "        else:\n",
    "            return None\n",
    "    except requests.exceptions.RequestException as e:\n",
    "        print(f\"Error occurred: {e}\")\n",
    "        return None\n"
   ]
  },
  {
   "cell_type": "code",
   "execution_count": 57,
   "id": "f0b89dad",
   "metadata": {},
   "outputs": [],
   "source": [
    "def find_person_id(name_list):\n",
    "    if not isinstance(name_list, list):\n",
    "        name_list = [name_list]\n",
    "        \n",
    "    imdb_ids = []\n",
    "    for name in name_list:\n",
    "        url = f\"https://api.themoviedb.org/3/search/person?query={name}&include_adult=false&language=en-US&page=1\"\n",
    "        try:\n",
    "            res = requests.get(url, headers=headers).json()\n",
    "            tmdb_id = res['results'][0]['id']\n",
    "            url2 = f\"https://api.themoviedb.org/3/person/{tmdb_id}/external_ids\"\n",
    "            try:\n",
    "                res2 = requests.get(url2, headers=headers).json()\n",
    "                imdb_id = res2['imdb_id']\n",
    "                imdb_ids.append(imdb_id)\n",
    "            except requests.exceptions.RequestException as e:\n",
    "                print(f\"Error occurred: {e}\")\n",
    "        except requests.exceptions.RequestException as e:\n",
    "            print(f\"Error occurred: {e}\")\n",
    "    return imdb_ids"
   ]
  },
  {
   "cell_type": "code",
   "execution_count": 58,
   "id": "1539bf0e",
   "metadata": {},
   "outputs": [],
   "source": [
    "def find_writers(response):\n",
    "    crew_list = response['credits']['crew']\n",
    "    writers = set()  \n",
    "    for crew_member in crew_list:\n",
    "        if (crew_member.get('department') == 'Writing') and (crew_member.get('job') in ['Screenplay', 'Story', 'Writer']):\n",
    "            person_ids = find_person_id(crew_member['name'])\n",
    "            if person_ids:\n",
    "                writers.update(person_ids) \n",
    "                \n",
    "    writers.discard(None) \n",
    "    if not writers:\n",
    "        return None\n",
    "    return ','.join(writers)\n"
   ]
  },
  {
   "cell_type": "code",
   "execution_count": 59,
   "id": "c5aa3014",
   "metadata": {},
   "outputs": [],
   "source": [
    "def find_directors(response):\n",
    "    crew_list = response['credits']['crew']\n",
    "    directors = set()  \n",
    "    for crew_member in crew_list:\n",
    "        if crew_member.get('job') in ['Director', 'Co director']:\n",
    "            person_ids = find_person_id(crew_member['name'])\n",
    "            if person_ids:\n",
    "                directors.update(person_ids) \n",
    "                \n",
    "    directors.discard(None) \n",
    "    if not directors:\n",
    "        return None\n",
    "    return ','.join(directors)\n"
   ]
  },
  {
   "cell_type": "code",
   "execution_count": 60,
   "id": "77031cd5",
   "metadata": {},
   "outputs": [],
   "source": [
    "def fill_nan(df):\n",
    "    \n",
    "    for index, row in df.iterrows():\n",
    "        if pd.isna(row['writers']) or pd.isna(row['directors']):\n",
    "            \n",
    "            movie_data = get_data(row['tconst'])\n",
    "            if movie_data is not None:\n",
    "                if pd.isna(row['directors']):\n",
    "                    directors = find_directors(movie_data)\n",
    "                    if directors is not None:\n",
    "                        df.at[index, 'directors'] = directors\n",
    "                if pd.isna(row['writers']):\n",
    "                    writers = find_writers(movie_data)\n",
    "                    if writers is not None:\n",
    "                        df.at[index, 'writers'] = writers\n",
    "            elif movie_data is None:\n",
    "                df.drop(index, inplace=True)\n",
    "                \n",
    "    return df"
   ]
  },
  {
   "cell_type": "code",
   "execution_count": 61,
   "id": "bd82530b",
   "metadata": {},
   "outputs": [
    {
     "data": {
      "text/html": [
       "<div>\n",
       "<style scoped>\n",
       "    .dataframe tbody tr th:only-of-type {\n",
       "        vertical-align: middle;\n",
       "    }\n",
       "\n",
       "    .dataframe tbody tr th {\n",
       "        vertical-align: top;\n",
       "    }\n",
       "\n",
       "    .dataframe thead th {\n",
       "        text-align: right;\n",
       "    }\n",
       "</style>\n",
       "<table border=\"1\" class=\"dataframe\">\n",
       "  <thead>\n",
       "    <tr style=\"text-align: right;\">\n",
       "      <th></th>\n",
       "      <th>tconst</th>\n",
       "      <th>directors</th>\n",
       "      <th>writers</th>\n",
       "    </tr>\n",
       "  </thead>\n",
       "  <tbody>\n",
       "    <tr>\n",
       "      <th>28800</th>\n",
       "      <td>tt0029284</td>\n",
       "      <td>nm0437717</td>\n",
       "      <td>nm0818415,nm0818416,nm0564970,nm0437717,nm0565...</td>\n",
       "    </tr>\n",
       "    <tr>\n",
       "      <th>30853</th>\n",
       "      <td>tt0031359</td>\n",
       "      <td>nm0225555</td>\n",
       "      <td>nm0358096,nm0712653,nm0092658</td>\n",
       "    </tr>\n",
       "    <tr>\n",
       "      <th>31467</th>\n",
       "      <td>tt0031976</td>\n",
       "      <td>nm0715346</td>\n",
       "      <td>nm0188743,nm0930803,nm0178784</td>\n",
       "    </tr>\n",
       "    <tr>\n",
       "      <th>31670</th>\n",
       "      <td>tt0032179</td>\n",
       "      <td>nm0212704</td>\n",
       "      <td>nm0303335,nm0212704,nm0001294</td>\n",
       "    </tr>\n",
       "    <tr>\n",
       "      <th>31672</th>\n",
       "      <td>tt0032181</td>\n",
       "      <td>nm0188669</td>\n",
       "      <td>nm0792845,nm0428177</td>\n",
       "    </tr>\n",
       "    <tr>\n",
       "      <th>...</th>\n",
       "      <td>...</td>\n",
       "      <td>...</td>\n",
       "      <td>...</td>\n",
       "    </tr>\n",
       "    <tr>\n",
       "      <th>10060305</th>\n",
       "      <td>tt9907782</td>\n",
       "      <td>nm1193346</td>\n",
       "      <td>nm1193346</td>\n",
       "    </tr>\n",
       "    <tr>\n",
       "      <th>10060594</th>\n",
       "      <td>tt9908390</td>\n",
       "      <td>nm1415268</td>\n",
       "      <td>nm1597648,nm1597688</td>\n",
       "    </tr>\n",
       "    <tr>\n",
       "      <th>10061808</th>\n",
       "      <td>tt9911196</td>\n",
       "      <td>nm0631590</td>\n",
       "      <td>nm2063122,nm0277932,nm0495599,nm3547655</td>\n",
       "    </tr>\n",
       "    <tr>\n",
       "      <th>10064086</th>\n",
       "      <td>tt9916270</td>\n",
       "      <td>nm1480867</td>\n",
       "      <td>nm1480867,nm10538402</td>\n",
       "    </tr>\n",
       "    <tr>\n",
       "      <th>10064131</th>\n",
       "      <td>tt9916362</td>\n",
       "      <td>nm1893148</td>\n",
       "      <td>nm1893148,nm3471432</td>\n",
       "    </tr>\n",
       "  </tbody>\n",
       "</table>\n",
       "<p>32145 rows × 3 columns</p>\n",
       "</div>"
      ],
      "text/plain": [
       "             tconst  directors  \\\n",
       "28800     tt0029284  nm0437717   \n",
       "30853     tt0031359  nm0225555   \n",
       "31467     tt0031976  nm0715346   \n",
       "31670     tt0032179  nm0212704   \n",
       "31672     tt0032181  nm0188669   \n",
       "...             ...        ...   \n",
       "10060305  tt9907782  nm1193346   \n",
       "10060594  tt9908390  nm1415268   \n",
       "10061808  tt9911196  nm0631590   \n",
       "10064086  tt9916270  nm1480867   \n",
       "10064131  tt9916362  nm1893148   \n",
       "\n",
       "                                                    writers  \n",
       "28800     nm0818415,nm0818416,nm0564970,nm0437717,nm0565...  \n",
       "30853                         nm0358096,nm0712653,nm0092658  \n",
       "31467                         nm0188743,nm0930803,nm0178784  \n",
       "31670                         nm0303335,nm0212704,nm0001294  \n",
       "31672                                   nm0792845,nm0428177  \n",
       "...                                                     ...  \n",
       "10060305                                          nm1193346  \n",
       "10060594                                nm1597648,nm1597688  \n",
       "10061808            nm2063122,nm0277932,nm0495599,nm3547655  \n",
       "10064086                               nm1480867,nm10538402  \n",
       "10064131                                nm1893148,nm3471432  \n",
       "\n",
       "[32145 rows x 3 columns]"
      ]
     },
     "execution_count": 61,
     "metadata": {},
     "output_type": "execute_result"
    }
   ],
   "source": [
    "fill_nan(crew)"
   ]
  },
  {
   "cell_type": "code",
   "execution_count": 62,
   "id": "4b3f840a",
   "metadata": {},
   "outputs": [
    {
     "data": {
      "text/plain": [
       "tconst         0\n",
       "directors      1\n",
       "writers      750\n",
       "dtype: int64"
      ]
     },
     "execution_count": 62,
     "metadata": {},
     "output_type": "execute_result"
    }
   ],
   "source": [
    "crew.isna().sum()"
   ]
  },
  {
   "cell_type": "code",
   "execution_count": 63,
   "id": "554a4927",
   "metadata": {},
   "outputs": [],
   "source": [
    "crew['writers'] = crew['writers'].fillna('')\n",
    "crew['directors'] = crew['directors'].fillna('')"
   ]
  },
  {
   "cell_type": "code",
   "execution_count": 64,
   "id": "509d8314",
   "metadata": {},
   "outputs": [],
   "source": [
    "crew['directors'] = crew['directors'].apply(lambda x: set(x.split(',')) if isinstance(x, str) else x)\n",
    "crew['writers'] = crew['writers'].apply(lambda x: set(x.split(',')) if isinstance(x, str) else x)"
   ]
  },
  {
   "cell_type": "markdown",
   "id": "b47aa610",
   "metadata": {},
   "source": [
    "I will create a relations dataset to tie the movies data to the people data in another notebook for efficiency. This new dataset will combine the cast and crew data together. \n",
    "\n",
    "*(TMDB API data retrival and people dataset management tasks are hard to manage in one notebook at the same time)*"
   ]
  },
  {
   "cell_type": "code",
   "execution_count": 65,
   "id": "cb146cda",
   "metadata": {},
   "outputs": [
    {
     "data": {
      "text/html": [
       "<div>\n",
       "<style scoped>\n",
       "    .dataframe tbody tr th:only-of-type {\n",
       "        vertical-align: middle;\n",
       "    }\n",
       "\n",
       "    .dataframe tbody tr th {\n",
       "        vertical-align: top;\n",
       "    }\n",
       "\n",
       "    .dataframe thead th {\n",
       "        text-align: right;\n",
       "    }\n",
       "</style>\n",
       "<table border=\"1\" class=\"dataframe\">\n",
       "  <thead>\n",
       "    <tr style=\"text-align: right;\">\n",
       "      <th></th>\n",
       "      <th>tconst</th>\n",
       "      <th>directors</th>\n",
       "      <th>writers</th>\n",
       "    </tr>\n",
       "  </thead>\n",
       "  <tbody>\n",
       "    <tr>\n",
       "      <th>0</th>\n",
       "      <td>tt0029284</td>\n",
       "      <td>{nm0437717}</td>\n",
       "      <td>{nm0565609, nm0818415, nm0564970, nm0855139, n...</td>\n",
       "    </tr>\n",
       "    <tr>\n",
       "      <th>1</th>\n",
       "      <td>tt0031359</td>\n",
       "      <td>{nm0225555}</td>\n",
       "      <td>{nm0092658, nm0712653, nm0358096}</td>\n",
       "    </tr>\n",
       "    <tr>\n",
       "      <th>2</th>\n",
       "      <td>tt0031976</td>\n",
       "      <td>{nm0715346}</td>\n",
       "      <td>{nm0930803, nm0188743, nm0178784}</td>\n",
       "    </tr>\n",
       "    <tr>\n",
       "      <th>3</th>\n",
       "      <td>tt0032179</td>\n",
       "      <td>{nm0212704}</td>\n",
       "      <td>{nm0212704, nm0303335, nm0001294}</td>\n",
       "    </tr>\n",
       "    <tr>\n",
       "      <th>4</th>\n",
       "      <td>tt0032181</td>\n",
       "      <td>{nm0188669}</td>\n",
       "      <td>{nm0428177, nm0792845}</td>\n",
       "    </tr>\n",
       "    <tr>\n",
       "      <th>...</th>\n",
       "      <td>...</td>\n",
       "      <td>...</td>\n",
       "      <td>...</td>\n",
       "    </tr>\n",
       "    <tr>\n",
       "      <th>32140</th>\n",
       "      <td>tt9907782</td>\n",
       "      <td>{nm1193346}</td>\n",
       "      <td>{nm1193346}</td>\n",
       "    </tr>\n",
       "    <tr>\n",
       "      <th>32141</th>\n",
       "      <td>tt9908390</td>\n",
       "      <td>{nm1415268}</td>\n",
       "      <td>{nm1597688, nm1597648}</td>\n",
       "    </tr>\n",
       "    <tr>\n",
       "      <th>32142</th>\n",
       "      <td>tt9911196</td>\n",
       "      <td>{nm0631590}</td>\n",
       "      <td>{nm0277932, nm0495599, nm2063122, nm3547655}</td>\n",
       "    </tr>\n",
       "    <tr>\n",
       "      <th>32143</th>\n",
       "      <td>tt9916270</td>\n",
       "      <td>{nm1480867}</td>\n",
       "      <td>{nm1480867, nm10538402}</td>\n",
       "    </tr>\n",
       "    <tr>\n",
       "      <th>32144</th>\n",
       "      <td>tt9916362</td>\n",
       "      <td>{nm1893148}</td>\n",
       "      <td>{nm1893148, nm3471432}</td>\n",
       "    </tr>\n",
       "  </tbody>\n",
       "</table>\n",
       "<p>32145 rows × 3 columns</p>\n",
       "</div>"
      ],
      "text/plain": [
       "          tconst    directors  \\\n",
       "0      tt0029284  {nm0437717}   \n",
       "1      tt0031359  {nm0225555}   \n",
       "2      tt0031976  {nm0715346}   \n",
       "3      tt0032179  {nm0212704}   \n",
       "4      tt0032181  {nm0188669}   \n",
       "...          ...          ...   \n",
       "32140  tt9907782  {nm1193346}   \n",
       "32141  tt9908390  {nm1415268}   \n",
       "32142  tt9911196  {nm0631590}   \n",
       "32143  tt9916270  {nm1480867}   \n",
       "32144  tt9916362  {nm1893148}   \n",
       "\n",
       "                                                 writers  \n",
       "0      {nm0565609, nm0818415, nm0564970, nm0855139, n...  \n",
       "1                      {nm0092658, nm0712653, nm0358096}  \n",
       "2                      {nm0930803, nm0188743, nm0178784}  \n",
       "3                      {nm0212704, nm0303335, nm0001294}  \n",
       "4                                 {nm0428177, nm0792845}  \n",
       "...                                                  ...  \n",
       "32140                                        {nm1193346}  \n",
       "32141                             {nm1597688, nm1597648}  \n",
       "32142       {nm0277932, nm0495599, nm2063122, nm3547655}  \n",
       "32143                            {nm1480867, nm10538402}  \n",
       "32144                             {nm1893148, nm3471432}  \n",
       "\n",
       "[32145 rows x 3 columns]"
      ]
     },
     "execution_count": 65,
     "metadata": {},
     "output_type": "execute_result"
    }
   ],
   "source": [
    "principles.reset_index(drop=True)\n",
    "crew.reset_index(drop=True)"
   ]
  },
  {
   "cell_type": "code",
   "execution_count": 66,
   "id": "f800d2ba",
   "metadata": {
    "scrolled": false
   },
   "outputs": [],
   "source": [
    "principles.to_pickle('cast.pkl')\n",
    "crew.to_pickle('crew.pkl')"
   ]
  },
  {
   "cell_type": "markdown",
   "id": "825aca63",
   "metadata": {},
   "source": [
    "## Exporting datasets to MySQL\n",
    "\n",
    "Since movies, ratings and genres datasets are cleaned up, I can export them directly from this notebook using sqlalchemy. I created a schema called recommender already and I will add my datasets as tables in this schema."
   ]
  },
  {
   "cell_type": "code",
   "execution_count": 68,
   "id": "f81da461",
   "metadata": {},
   "outputs": [],
   "source": [
    "from sqlalchemy import create_engine\n",
    "from getpass import getpass"
   ]
  },
  {
   "cell_type": "code",
   "execution_count": 69,
   "id": "db5d7e1a",
   "metadata": {},
   "outputs": [
    {
     "name": "stdout",
     "output_type": "stream",
     "text": [
      "········\n"
     ]
    }
   ],
   "source": [
    "password = getpass()"
   ]
  },
  {
   "cell_type": "code",
   "execution_count": 72,
   "id": "58c5996b",
   "metadata": {},
   "outputs": [],
   "source": [
    "connection_string = 'mysql+pymysql://root:' + password + '@localhost:3306'\n",
    "engine = create_engine(connection_string)\n",
    "conn =engine.connect() "
   ]
  },
  {
   "cell_type": "code",
   "execution_count": 74,
   "id": "0122c1d6",
   "metadata": {},
   "outputs": [],
   "source": [
    "with engine.connect() as conn:    \n",
    "    movies.to_sql(name='movies', con=engine, schema='recommender', if_exists='replace', index=False)\n",
    "    ratings.to_sql(name='ratings', con=engine, schema='recommender', if_exists='replace', index=False)\n",
    "    genres.to_sql(name='genres', con=engine, schema='recommender', if_exists='replace', index=False)"
   ]
  }
 ],
 "metadata": {
  "kernelspec": {
   "display_name": "Python 3 (ipykernel)",
   "language": "python",
   "name": "python3"
  },
  "language_info": {
   "codemirror_mode": {
    "name": "ipython",
    "version": 3
   },
   "file_extension": ".py",
   "mimetype": "text/x-python",
   "name": "python",
   "nbconvert_exporter": "python",
   "pygments_lexer": "ipython3",
   "version": "3.11.5"
  }
 },
 "nbformat": 4,
 "nbformat_minor": 5
}
