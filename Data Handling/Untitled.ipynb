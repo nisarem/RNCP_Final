{
 "cells": [
  {
   "cell_type": "code",
   "execution_count": 87,
   "id": "064e9dfb",
   "metadata": {},
   "outputs": [],
   "source": [
    "import gzip\n",
    "import pandas as pd\n",
    "import numpy as np\n",
    "import pickle\n",
    "import requests\n",
    "import logging\n",
    "import time\n",
    "import random\n",
    "\n",
    "f = open(\"token_TMDB.txt\",\"r\")\n",
    "token = f.read()\n",
    "headers = {\"accept\": \"application/json\", \"Authorization\": f\"Bearer {token}\"}"
   ]
  },
  {
   "cell_type": "code",
   "execution_count": 88,
   "id": "af68056d",
   "metadata": {},
   "outputs": [],
   "source": [
    "movies = pickle.load(open('movies.pkl', 'rb'))"
   ]
  },
  {
   "cell_type": "code",
   "execution_count": 106,
   "id": "c26ad6c0",
   "metadata": {},
   "outputs": [],
   "source": [
    "movies_mini = movies.head(10)"
   ]
  },
  {
   "cell_type": "code",
   "execution_count": 125,
   "id": "7ac02ce1",
   "metadata": {},
   "outputs": [],
   "source": [
    "def fill_missing_data(df, headers):\n",
    "    logger = logging.getLogger(__name__)\n",
    "    updated_df = df.copy()  \n",
    "    \n",
    "    if 'keywords' not in updated_df.columns:\n",
    "        updated_df['keywords'] = None\n",
    "    if 'overview' not in updated_df.columns:\n",
    "        updated_df['overview'] = None\n",
    "    if 'production_countries' not in updated_df.columns:\n",
    "        updated_df['production_countries'] = None\n",
    "    if 'production_companies' not in updated_df.columns:\n",
    "        updated_df['production_companies'] = None\n",
    "    \n",
    "    total_rows = len(updated_df)\n",
    "    processed_rows = 0\n",
    "    \n",
    "    for index, row in updated_df.iterrows():\n",
    "        imdb_id = row['tconst']\n",
    "        url = f\"https://api.themoviedb.org/3/find/{imdb_id}?external_source=imdb_id\"\n",
    "        \n",
    "        try:\n",
    "            response = requests.get(url, headers=headers)\n",
    "            response.raise_for_status()\n",
    "            details = response.json()\n",
    "            movie_results = details.get('movie_results', [])\n",
    "            \n",
    "            if not movie_results:\n",
    "                logger.warning(f\"No movie results found for IMDb ID: {imdb_id}. Skipping.\")\n",
    "                continue\n",
    "            \n",
    "            tmdb_id = movie_results[0]['id']\n",
    "            api_url = f\"https://api.themoviedb.org/3/movie/{tmdb_id}?append_to_response=keywords\"\n",
    "            \n",
    "            try:\n",
    "                response2 = requests.get(api_url, headers=headers)\n",
    "                response2.raise_for_status()\n",
    "                data = response2.json()\n",
    "                \n",
    "                if data.get('imdb_id') != imdb_id:\n",
    "                    logger.warning(f\"IMDb ID mismatch for movie with TMDb ID {tmdb_id}. Skipping.\")\n",
    "                    continue\n",
    "                \n",
    "                updated_df.at[index, 'keywords'] = data.get('keywords', [])\n",
    "                updated_df.at[index, 'overview'] = data.get('overview', '')\n",
    "                updated_df.at[index, 'production_countries'] = data.get('production_countries', [])\n",
    "                updated_df.at[index, 'production_companies'] = data.get('production_companies', [])\n",
    "                \n",
    "            except requests.exceptions.RequestException as e:\n",
    "                logger.error(f\"Error processing URL {api_url}: {e}\")\n",
    "        \n",
    "        except requests.exceptions.RequestException as e:\n",
    "            logger.error(f\"Error occurred while fetching data for IMDb ID {imdb_id}: {e}\")\n",
    "        \n",
    "        processed_rows += 1\n",
    "        progress = (processed_rows / total_rows) * 100\n",
    "        \n",
    "        print(f\"Progress: {progress:.2f}% loading...\", end=\"\\r\")\n",
    "        \n",
    "        request_interval = 1 / 50  # 50 requests per second is the TMDB limit\n",
    "\n",
    "        if progress % 5 == 0:\n",
    "            time.sleep(request_interval)\n",
    "        else:\n",
    "            sleep_duration = random.uniform(0.1 * request_interval, 0.5 * request_interval)\n",
    "            time.sleep(sleep_duration)\n",
    " \n",
    "    print(\"Progress: 100.00% loading... Completed.\")\n",
    "    \n",
    "    return updated_df\n",
    "\n",
    "logging.basicConfig(level=logging.INFO)\n"
   ]
  },
  {
   "cell_type": "code",
   "execution_count": 126,
   "id": "613f8dae",
   "metadata": {},
   "outputs": [
    {
     "data": {
      "text/plain": [
       "Index(['tconst', 'primaryTitle', 'originalTitle', 'startYear',\n",
       "       'runtimeMinutes', 'genres'],\n",
       "      dtype='object')"
      ]
     },
     "execution_count": 126,
     "metadata": {},
     "output_type": "execute_result"
    }
   ],
   "source": [
    "movies.columns"
   ]
  },
  {
   "cell_type": "code",
   "execution_count": 127,
   "id": "5dec4adc",
   "metadata": {
    "scrolled": false
   },
   "outputs": [
    {
     "name": "stdout",
     "output_type": "stream",
     "text": [
      "Progress: 100.00% loading... Completed.\n",
      "CPU times: user 512 ms, sys: 22.9 ms, total: 535 ms\n",
      "Wall time: 1.25 s\n"
     ]
    }
   ],
   "source": [
    "%%time\n",
    "df = fill_missing_data(movies_mini, headers)"
   ]
  },
  {
   "cell_type": "code",
   "execution_count": 128,
   "id": "0a2b5080",
   "metadata": {},
   "outputs": [
    {
     "data": {
      "text/plain": [
       "tconst                  0\n",
       "primaryTitle            0\n",
       "originalTitle           0\n",
       "startYear               0\n",
       "runtimeMinutes          0\n",
       "genres                  0\n",
       "keywords                0\n",
       "overview                0\n",
       "production_countries    0\n",
       "production_companies    0\n",
       "dtype: int64"
      ]
     },
     "execution_count": 128,
     "metadata": {},
     "output_type": "execute_result"
    }
   ],
   "source": [
    "df.isna().sum()"
   ]
  },
  {
   "cell_type": "code",
   "execution_count": 129,
   "id": "0df58e7d",
   "metadata": {
    "scrolled": false
   },
   "outputs": [],
   "source": [
    "df1.to_pickle('movies2.pkl')"
   ]
  },
  {
   "cell_type": "code",
   "execution_count": 130,
   "id": "7f6e18a4",
   "metadata": {},
   "outputs": [
    {
     "name": "stdout",
     "output_type": "stream",
     "text": [
      "Progress: 12.41% loading...\r"
     ]
    },
    {
     "name": "stderr",
     "output_type": "stream",
     "text": [
      "WARNING:__main__:No movie results found for IMDb ID: tt0065908. Skipping.\n"
     ]
    },
    {
     "name": "stdout",
     "output_type": "stream",
     "text": [
      "Progress: 18.66% loading...\r"
     ]
    },
    {
     "name": "stderr",
     "output_type": "stream",
     "text": [
      "WARNING:__main__:No movie results found for IMDb ID: tt0082328. Skipping.\n"
     ]
    },
    {
     "name": "stdout",
     "output_type": "stream",
     "text": [
      "Progress: 20.31% loading...\r"
     ]
    },
    {
     "name": "stderr",
     "output_type": "stream",
     "text": [
      "WARNING:__main__:No movie results found for IMDb ID: tt0086545. Skipping.\n"
     ]
    },
    {
     "name": "stdout",
     "output_type": "stream",
     "text": [
      "Progress: 21.67% loading...\r"
     ]
    },
    {
     "name": "stderr",
     "output_type": "stream",
     "text": [
      "WARNING:__main__:No movie results found for IMDb ID: tt0090275. Skipping.\n"
     ]
    },
    {
     "name": "stdout",
     "output_type": "stream",
     "text": [
      "Progress: 34.16% loading...\r"
     ]
    },
    {
     "name": "stderr",
     "output_type": "stream",
     "text": [
      "WARNING:__main__:No movie results found for IMDb ID: tt0160966. Skipping.\n"
     ]
    },
    {
     "name": "stdout",
     "output_type": "stream",
     "text": [
      "Progress: 35.24% loading...\r"
     ]
    },
    {
     "name": "stderr",
     "output_type": "stream",
     "text": [
      "WARNING:__main__:No movie results found for IMDb ID: tt0187178. Skipping.\n"
     ]
    },
    {
     "name": "stdout",
     "output_type": "stream",
     "text": [
      "Progress: 38.44% loading...\r"
     ]
    },
    {
     "name": "stderr",
     "output_type": "stream",
     "text": [
      "WARNING:__main__:No movie results found for IMDb ID: tt0266519. Skipping.\n"
     ]
    },
    {
     "name": "stdout",
     "output_type": "stream",
     "text": [
      "Progress: 40.95% loading...\r"
     ]
    },
    {
     "name": "stderr",
     "output_type": "stream",
     "text": [
      "WARNING:__main__:No movie results found for IMDb ID: tt0318605. Skipping.\n"
     ]
    },
    {
     "name": "stdout",
     "output_type": "stream",
     "text": [
      "Progress: 43.20% loading...\r"
     ]
    },
    {
     "name": "stderr",
     "output_type": "stream",
     "text": [
      "WARNING:__main__:No movie results found for IMDb ID: tt0371667. Skipping.\n"
     ]
    },
    {
     "name": "stdout",
     "output_type": "stream",
     "text": [
      "Progress: 45.74% loading...\r"
     ]
    },
    {
     "name": "stderr",
     "output_type": "stream",
     "text": [
      "WARNING:__main__:No movie results found for IMDb ID: tt0420966. Skipping.\n"
     ]
    },
    {
     "name": "stdout",
     "output_type": "stream",
     "text": [
      "Progress: 52.85% loading...\r"
     ]
    },
    {
     "name": "stderr",
     "output_type": "stream",
     "text": [
      "WARNING:__main__:No movie results found for IMDb ID: tt10045260. Skipping.\n"
     ]
    },
    {
     "name": "stdout",
     "output_type": "stream",
     "text": [
      "Progress: 52.86% loading...\r"
     ]
    },
    {
     "name": "stderr",
     "output_type": "stream",
     "text": [
      "WARNING:__main__:No movie results found for IMDb ID: tt10055028. Skipping.\n"
     ]
    },
    {
     "name": "stdout",
     "output_type": "stream",
     "text": [
      "Progress: 53.00% loading...\r"
     ]
    },
    {
     "name": "stderr",
     "output_type": "stream",
     "text": [
      "WARNING:__main__:No movie results found for IMDb ID: tt10133066. Skipping.\n"
     ]
    },
    {
     "name": "stdout",
     "output_type": "stream",
     "text": [
      "Progress: 53.66% loading...\r"
     ]
    },
    {
     "name": "stderr",
     "output_type": "stream",
     "text": [
      "WARNING:__main__:No movie results found for IMDb ID: tt10334410. Skipping.\n"
     ]
    },
    {
     "name": "stdout",
     "output_type": "stream",
     "text": [
      "Progress: 54.30% loading...\r"
     ]
    },
    {
     "name": "stderr",
     "output_type": "stream",
     "text": [
      "WARNING:__main__:No movie results found for IMDb ID: tt10532840. Skipping.\n"
     ]
    },
    {
     "name": "stdout",
     "output_type": "stream",
     "text": [
      "Progress: 54.41% loading...\r"
     ]
    },
    {
     "name": "stderr",
     "output_type": "stream",
     "text": [
      "WARNING:__main__:No movie results found for IMDb ID: tt10570206. Skipping.\n"
     ]
    },
    {
     "name": "stdout",
     "output_type": "stream",
     "text": [
      "Progress: 55.61% loading...\r"
     ]
    },
    {
     "name": "stderr",
     "output_type": "stream",
     "text": [
      "WARNING:__main__:No movie results found for IMDb ID: tt11026788. Skipping.\n"
     ]
    },
    {
     "name": "stdout",
     "output_type": "stream",
     "text": [
      "Progress: 56.64% loading...\r"
     ]
    },
    {
     "name": "stderr",
     "output_type": "stream",
     "text": [
      "WARNING:__main__:No movie results found for IMDb ID: tt11384328. Skipping.\n"
     ]
    },
    {
     "name": "stdout",
     "output_type": "stream",
     "text": [
      "Progress: 57.43% loading...\r"
     ]
    },
    {
     "name": "stderr",
     "output_type": "stream",
     "text": [
      "WARNING:__main__:No movie results found for IMDb ID: tt11682998. Skipping.\n"
     ]
    },
    {
     "name": "stdout",
     "output_type": "stream",
     "text": [
      "Progress: 59.47% loading...\r"
     ]
    },
    {
     "name": "stderr",
     "output_type": "stream",
     "text": [
      "WARNING:__main__:No movie results found for IMDb ID: tt12492650. Skipping.\n"
     ]
    },
    {
     "name": "stdout",
     "output_type": "stream",
     "text": [
      "Progress: 59.74% loading...\r"
     ]
    },
    {
     "name": "stderr",
     "output_type": "stream",
     "text": [
      "WARNING:__main__:No movie results found for IMDb ID: tt1265598. Skipping.\n"
     ]
    },
    {
     "name": "stdout",
     "output_type": "stream",
     "text": [
      "Progress: 61.42% loading...\r"
     ]
    },
    {
     "name": "stderr",
     "output_type": "stream",
     "text": [
      "WARNING:__main__:No movie results found for IMDb ID: tt13357492. Skipping.\n"
     ]
    },
    {
     "name": "stdout",
     "output_type": "stream",
     "text": [
      "Progress: 61.45% loading...\r"
     ]
    },
    {
     "name": "stderr",
     "output_type": "stream",
     "text": [
      "WARNING:__main__:No movie results found for IMDb ID: tt13369990. Skipping.\n"
     ]
    },
    {
     "name": "stdout",
     "output_type": "stream",
     "text": [
      "Progress: 61.95% loading...\r"
     ]
    },
    {
     "name": "stderr",
     "output_type": "stream",
     "text": [
      "WARNING:__main__:No movie results found for IMDb ID: tt13599178. Skipping.\n"
     ]
    },
    {
     "name": "stdout",
     "output_type": "stream",
     "text": [
      "Progress: 62.04% loading...\r"
     ]
    },
    {
     "name": "stderr",
     "output_type": "stream",
     "text": [
      "WARNING:__main__:No movie results found for IMDb ID: tt13635908. Skipping.\n"
     ]
    },
    {
     "name": "stdout",
     "output_type": "stream",
     "text": [
      "Progress: 63.25% loading...\r"
     ]
    },
    {
     "name": "stderr",
     "output_type": "stream",
     "text": [
      "WARNING:__main__:No movie results found for IMDb ID: tt14212744. Skipping.\n"
     ]
    },
    {
     "name": "stdout",
     "output_type": "stream",
     "text": [
      "Progress: 63.41% loading...\r"
     ]
    },
    {
     "name": "stderr",
     "output_type": "stream",
     "text": [
      "WARNING:__main__:No movie results found for IMDb ID: tt14275690. Skipping.\n"
     ]
    },
    {
     "name": "stdout",
     "output_type": "stream",
     "text": [
      "Progress: 63.79% loading...\r"
     ]
    },
    {
     "name": "stderr",
     "output_type": "stream",
     "text": [
      "WARNING:__main__:No movie results found for IMDb ID: tt14445892. Skipping.\n"
     ]
    },
    {
     "name": "stdout",
     "output_type": "stream",
     "text": [
      "Progress: 63.89% loading...\r"
     ]
    },
    {
     "name": "stderr",
     "output_type": "stream",
     "text": [
      "WARNING:__main__:No movie results found for IMDb ID: tt14488772. Skipping.\n"
     ]
    },
    {
     "name": "stdout",
     "output_type": "stream",
     "text": [
      "Progress: 64.31% loading...\r"
     ]
    },
    {
     "name": "stderr",
     "output_type": "stream",
     "text": [
      "WARNING:__main__:No movie results found for IMDb ID: tt14719838. Skipping.\n"
     ]
    },
    {
     "name": "stdout",
     "output_type": "stream",
     "text": [
      "Progress: 64.83% loading...\r"
     ]
    },
    {
     "name": "stderr",
     "output_type": "stream",
     "text": [
      "WARNING:__main__:No movie results found for IMDb ID: tt14992864. Skipping.\n"
     ]
    },
    {
     "name": "stdout",
     "output_type": "stream",
     "text": [
      "Progress: 65.15% loading...\r"
     ]
    },
    {
     "name": "stderr",
     "output_type": "stream",
     "text": [
      "WARNING:__main__:No movie results found for IMDb ID: tt15151020. Skipping.\n"
     ]
    },
    {
     "name": "stdout",
     "output_type": "stream",
     "text": [
      "Progress: 65.17% loading...\r"
     ]
    },
    {
     "name": "stderr",
     "output_type": "stream",
     "text": [
      "WARNING:__main__:No movie results found for IMDb ID: tt15166394. Skipping.\n"
     ]
    },
    {
     "name": "stdout",
     "output_type": "stream",
     "text": [
      "Progress: 65.22% loading...\r"
     ]
    },
    {
     "name": "stderr",
     "output_type": "stream",
     "text": [
      "WARNING:__main__:No movie results found for IMDb ID: tt15192796. Skipping.\n"
     ]
    },
    {
     "name": "stdout",
     "output_type": "stream",
     "text": [
      "Progress: 65.23% loading...\r"
     ]
    },
    {
     "name": "stderr",
     "output_type": "stream",
     "text": [
      "WARNING:__main__:No movie results found for IMDb ID: tt15203944. Skipping.\n"
     ]
    },
    {
     "name": "stdout",
     "output_type": "stream",
     "text": [
      "Progress: 65.30% loading...\r"
     ]
    },
    {
     "name": "stderr",
     "output_type": "stream",
     "text": [
      "WARNING:__main__:No movie results found for IMDb ID: tt15242712. Skipping.\n"
     ]
    },
    {
     "name": "stdout",
     "output_type": "stream",
     "text": [
      "Progress: 65.36% loading...\r"
     ]
    },
    {
     "name": "stderr",
     "output_type": "stream",
     "text": [
      "WARNING:__main__:No movie results found for IMDb ID: tt15264430. Skipping.\n"
     ]
    },
    {
     "name": "stdout",
     "output_type": "stream",
     "text": [
      "Progress: 65.57% loading...\r"
     ]
    },
    {
     "name": "stderr",
     "output_type": "stream",
     "text": [
      "WARNING:__main__:No movie results found for IMDb ID: tt15334298. Skipping.\n"
     ]
    },
    {
     "name": "stdout",
     "output_type": "stream",
     "text": [
      "Progress: 65.62% loading...\r"
     ]
    },
    {
     "name": "stderr",
     "output_type": "stream",
     "text": [
      "WARNING:__main__:No movie results found for IMDb ID: tt15341150. Skipping.\n"
     ]
    },
    {
     "name": "stdout",
     "output_type": "stream",
     "text": [
      "Progress: 65.65% loading...\r"
     ]
    },
    {
     "name": "stderr",
     "output_type": "stream",
     "text": [
      "WARNING:__main__:No movie results found for IMDb ID: tt15354498. Skipping.\n"
     ]
    },
    {
     "name": "stdout",
     "output_type": "stream",
     "text": [
      "Progress: 65.75% loading...\r"
     ]
    },
    {
     "name": "stderr",
     "output_type": "stream",
     "text": [
      "WARNING:__main__:No movie results found for IMDb ID: tt15395702. Skipping.\n"
     ]
    },
    {
     "name": "stdout",
     "output_type": "stream",
     "text": [
      "Progress: 65.78% loading...\r"
     ]
    },
    {
     "name": "stderr",
     "output_type": "stream",
     "text": [
      "WARNING:__main__:No movie results found for IMDb ID: tt15404576. Skipping.\n"
     ]
    },
    {
     "name": "stdout",
     "output_type": "stream",
     "text": [
      "Progress: 65.84% loading...\r"
     ]
    },
    {
     "name": "stderr",
     "output_type": "stream",
     "text": [
      "WARNING:__main__:No movie results found for IMDb ID: tt15431982. Skipping.\n"
     ]
    },
    {
     "name": "stdout",
     "output_type": "stream",
     "text": [
      "Progress: 65.88% loading...\r"
     ]
    },
    {
     "name": "stderr",
     "output_type": "stream",
     "text": [
      "WARNING:__main__:No movie results found for IMDb ID: tt15446066. Skipping.\n"
     ]
    },
    {
     "name": "stdout",
     "output_type": "stream",
     "text": [
      "Progress: 66.04% loading...\r"
     ]
    },
    {
     "name": "stderr",
     "output_type": "stream",
     "text": [
      "WARNING:__main__:No movie results found for IMDb ID: tt15516018. Skipping.\n"
     ]
    },
    {
     "name": "stdout",
     "output_type": "stream",
     "text": [
      "Progress: 66.18% loading...\r"
     ]
    },
    {
     "name": "stderr",
     "output_type": "stream",
     "text": [
      "WARNING:__main__:No movie results found for IMDb ID: tt15576316. Skipping.\n"
     ]
    },
    {
     "name": "stdout",
     "output_type": "stream",
     "text": [
      "Progress: 66.40% loading...\r"
     ]
    },
    {
     "name": "stderr",
     "output_type": "stream",
     "text": [
      "WARNING:__main__:No movie results found for IMDb ID: tt15694846. Skipping.\n"
     ]
    },
    {
     "name": "stdout",
     "output_type": "stream",
     "text": [
      "Progress: 66.56% loading...\r"
     ]
    },
    {
     "name": "stderr",
     "output_type": "stream",
     "text": [
      "WARNING:__main__:No movie results found for IMDb ID: tt15779054. Skipping.\n"
     ]
    },
    {
     "name": "stdout",
     "output_type": "stream",
     "text": [
      "Progress: 66.71% loading...\r"
     ]
    },
    {
     "name": "stderr",
     "output_type": "stream",
     "text": [
      "WARNING:__main__:No movie results found for IMDb ID: tt15840328. Skipping.\n"
     ]
    },
    {
     "name": "stdout",
     "output_type": "stream",
     "text": [
      "Progress: 66.77% loading...\r"
     ]
    },
    {
     "name": "stderr",
     "output_type": "stream",
     "text": [
      "WARNING:__main__:No movie results found for IMDb ID: tt15876346. Skipping.\n"
     ]
    },
    {
     "name": "stdout",
     "output_type": "stream",
     "text": [
      "Progress: 67.01% loading...\r"
     ]
    },
    {
     "name": "stderr",
     "output_type": "stream",
     "text": [
      "WARNING:__main__:No movie results found for IMDb ID: tt16027122. Skipping.\n"
     ]
    },
    {
     "name": "stdout",
     "output_type": "stream",
     "text": [
      "Progress: 67.32% loading...\r"
     ]
    },
    {
     "name": "stderr",
     "output_type": "stream",
     "text": [
      "WARNING:__main__:No movie results found for IMDb ID: tt16211650. Skipping.\n"
     ]
    },
    {
     "name": "stdout",
     "output_type": "stream",
     "text": [
      "Progress: 67.38% loading...\r"
     ]
    },
    {
     "name": "stderr",
     "output_type": "stream",
     "text": [
      "WARNING:__main__:No movie results found for IMDb ID: tt16258162. Skipping.\n"
     ]
    },
    {
     "name": "stdout",
     "output_type": "stream",
     "text": [
      "Progress: 67.59% loading...\r"
     ]
    },
    {
     "name": "stderr",
     "output_type": "stream",
     "text": [
      "WARNING:__main__:No movie results found for IMDb ID: tt1638894. Skipping.\n"
     ]
    },
    {
     "name": "stdout",
     "output_type": "stream",
     "text": [
      "Progress: 68.21% loading...\r"
     ]
    },
    {
     "name": "stderr",
     "output_type": "stream",
     "text": [
      "WARNING:__main__:No movie results found for IMDb ID: tt16751646. Skipping.\n"
     ]
    },
    {
     "name": "stdout",
     "output_type": "stream",
     "text": [
      "Progress: 68.24% loading...\r"
     ]
    },
    {
     "name": "stderr",
     "output_type": "stream",
     "text": [
      "WARNING:__main__:No movie results found for IMDb ID: tt16794528. Skipping.\n"
     ]
    },
    {
     "name": "stdout",
     "output_type": "stream",
     "text": [
      "Progress: 68.30% loading...\r"
     ]
    },
    {
     "name": "stderr",
     "output_type": "stream",
     "text": [
      "WARNING:__main__:No movie results found for IMDb ID: tt16825828. Skipping.\n"
     ]
    },
    {
     "name": "stdout",
     "output_type": "stream",
     "text": [
      "Progress: 68.37% loading...\r"
     ]
    },
    {
     "name": "stderr",
     "output_type": "stream",
     "text": [
      "WARNING:__main__:No movie results found for IMDb ID: tt1688699. Skipping.\n"
     ]
    },
    {
     "name": "stdout",
     "output_type": "stream",
     "text": [
      "Progress: 68.37% loading...\r"
     ]
    },
    {
     "name": "stderr",
     "output_type": "stream",
     "text": [
      "WARNING:__main__:No movie results found for IMDb ID: tt16901072. Skipping.\n"
     ]
    },
    {
     "name": "stdout",
     "output_type": "stream",
     "text": [
      "Progress: 68.69% loading...\r"
     ]
    },
    {
     "name": "stderr",
     "output_type": "stream",
     "text": [
      "WARNING:__main__:No movie results found for IMDb ID: tt17074480. Skipping.\n"
     ]
    },
    {
     "name": "stdout",
     "output_type": "stream",
     "text": [
      "Progress: 68.77% loading...\r"
     ]
    },
    {
     "name": "stderr",
     "output_type": "stream",
     "text": [
      "WARNING:__main__:No movie results found for IMDb ID: tt17134922. Skipping.\n"
     ]
    },
    {
     "name": "stdout",
     "output_type": "stream",
     "text": [
      "Progress: 69.22% loading...\r"
     ]
    },
    {
     "name": "stderr",
     "output_type": "stream",
     "text": [
      "WARNING:__main__:No movie results found for IMDb ID: tt1744885. Skipping.\n"
     ]
    },
    {
     "name": "stdout",
     "output_type": "stream",
     "text": [
      "Progress: 69.68% loading...\r"
     ]
    },
    {
     "name": "stderr",
     "output_type": "stream",
     "text": [
      "WARNING:__main__:No movie results found for IMDb ID: tt1783721. Skipping.\n"
     ]
    },
    {
     "name": "stdout",
     "output_type": "stream",
     "text": [
      "Progress: 69.92% loading...\r"
     ]
    },
    {
     "name": "stderr",
     "output_type": "stream",
     "text": [
      "WARNING:__main__:No movie results found for IMDb ID: tt1807081. Skipping.\n"
     ]
    },
    {
     "name": "stdout",
     "output_type": "stream",
     "text": [
      "Progress: 70.04% loading...\r"
     ]
    },
    {
     "name": "stderr",
     "output_type": "stream",
     "text": [
      "WARNING:__main__:No movie results found for IMDb ID: tt18163024. Skipping.\n"
     ]
    },
    {
     "name": "stdout",
     "output_type": "stream",
     "text": [
      "Progress: 70.17% loading...\r"
     ]
    },
    {
     "name": "stderr",
     "output_type": "stream",
     "text": [
      "WARNING:__main__:No movie results found for IMDb ID: tt18246372. Skipping.\n"
     ]
    },
    {
     "name": "stdout",
     "output_type": "stream",
     "text": [
      "Progress: 70.18% loading...\r"
     ]
    },
    {
     "name": "stderr",
     "output_type": "stream",
     "text": [
      "WARNING:__main__:No movie results found for IMDb ID: tt18246876. Skipping.\n"
     ]
    },
    {
     "name": "stdout",
     "output_type": "stream",
     "text": [
      "Progress: 70.23% loading...\r"
     ]
    },
    {
     "name": "stderr",
     "output_type": "stream",
     "text": [
      "WARNING:__main__:No movie results found for IMDb ID: tt18280338. Skipping.\n"
     ]
    },
    {
     "name": "stdout",
     "output_type": "stream",
     "text": [
      "Progress: 70.32% loading...\r"
     ]
    },
    {
     "name": "stderr",
     "output_type": "stream",
     "text": [
      "WARNING:__main__:No movie results found for IMDb ID: tt18372380. Skipping.\n"
     ]
    },
    {
     "name": "stdout",
     "output_type": "stream",
     "text": [
      "Progress: 71.10% loading...\r"
     ]
    },
    {
     "name": "stderr",
     "output_type": "stream",
     "text": [
      "WARNING:__main__:No movie results found for IMDb ID: tt1909827. Skipping.\n"
     ]
    },
    {
     "name": "stdout",
     "output_type": "stream",
     "text": [
      "Progress: 71.40% loading...\r"
     ]
    },
    {
     "name": "stderr",
     "output_type": "stream",
     "text": [
      "WARNING:__main__:No movie results found for IMDb ID: tt19407476. Skipping.\n"
     ]
    },
    {
     "name": "stdout",
     "output_type": "stream",
     "text": [
      "Progress: 71.58% loading...\r"
     ]
    },
    {
     "name": "stderr",
     "output_type": "stream",
     "text": [
      "WARNING:__main__:No movie results found for IMDb ID: tt19638504. Skipping.\n"
     ]
    },
    {
     "name": "stdout",
     "output_type": "stream",
     "text": [
      "Progress: 71.65% loading...\r"
     ]
    },
    {
     "name": "stderr",
     "output_type": "stream",
     "text": [
      "WARNING:__main__:No movie results found for IMDb ID: tt19712142. Skipping.\n"
     ]
    },
    {
     "name": "stdout",
     "output_type": "stream",
     "text": [
      "Progress: 71.70% loading...\r"
     ]
    },
    {
     "name": "stderr",
     "output_type": "stream",
     "text": [
      "WARNING:__main__:No movie results found for IMDb ID: tt19730338. Skipping.\n"
     ]
    },
    {
     "name": "stdout",
     "output_type": "stream",
     "text": [
      "Progress: 71.76% loading...\r"
     ]
    },
    {
     "name": "stderr",
     "output_type": "stream",
     "text": [
      "WARNING:__main__:No movie results found for IMDb ID: tt19784004. Skipping.\n"
     ]
    },
    {
     "name": "stdout",
     "output_type": "stream",
     "text": [
      "Progress: 71.76% loading...\r"
     ]
    },
    {
     "name": "stderr",
     "output_type": "stream",
     "text": [
      "WARNING:__main__:No movie results found for IMDb ID: tt19784370. Skipping.\n"
     ]
    },
    {
     "name": "stdout",
     "output_type": "stream",
     "text": [
      "Progress: 72.22% loading...\r"
     ]
    },
    {
     "name": "stderr",
     "output_type": "stream",
     "text": [
      "WARNING:__main__:No movie results found for IMDb ID: tt20228436. Skipping.\n"
     ]
    },
    {
     "name": "stdout",
     "output_type": "stream",
     "text": [
      "Progress: 72.72% loading...\r"
     ]
    },
    {
     "name": "stderr",
     "output_type": "stream",
     "text": [
      "WARNING:__main__:No movie results found for IMDb ID: tt20771990. Skipping.\n"
     ]
    },
    {
     "name": "stdout",
     "output_type": "stream",
     "text": [
      "Progress: 72.81% loading...\r"
     ]
    },
    {
     "name": "stderr",
     "output_type": "stream",
     "text": [
      "WARNING:__main__:No movie results found for IMDb ID: tt2083320. Skipping.\n"
     ]
    },
    {
     "name": "stdout",
     "output_type": "stream",
     "text": [
      "Progress: 72.85% loading...\r"
     ]
    },
    {
     "name": "stderr",
     "output_type": "stream",
     "text": [
      "WARNING:__main__:No movie results found for IMDb ID: tt20855732. Skipping.\n"
     ]
    },
    {
     "name": "stdout",
     "output_type": "stream",
     "text": [
      "Progress: 73.15% loading...\r"
     ]
    },
    {
     "name": "stderr",
     "output_type": "stream",
     "text": [
      "WARNING:__main__:No movie results found for IMDb ID: tt21100430. Skipping.\n"
     ]
    },
    {
     "name": "stdout",
     "output_type": "stream",
     "text": [
      "Progress: 73.33% loading...\r"
     ]
    },
    {
     "name": "stderr",
     "output_type": "stream",
     "text": [
      "WARNING:__main__:No movie results found for IMDb ID: tt21223140. Skipping.\n"
     ]
    },
    {
     "name": "stdout",
     "output_type": "stream",
     "text": [
      "Progress: 73.49% loading...\r"
     ]
    },
    {
     "name": "stderr",
     "output_type": "stream",
     "text": [
      "WARNING:__main__:No movie results found for IMDb ID: tt21282262. Skipping.\n"
     ]
    },
    {
     "name": "stdout",
     "output_type": "stream",
     "text": [
      "Progress: 73.51% loading...\r"
     ]
    },
    {
     "name": "stderr",
     "output_type": "stream",
     "text": [
      "WARNING:__main__:No movie results found for IMDb ID: tt21308470. Skipping.\n"
     ]
    },
    {
     "name": "stdout",
     "output_type": "stream",
     "text": [
      "Progress: 73.61% loading...\r"
     ]
    },
    {
     "name": "stderr",
     "output_type": "stream",
     "text": [
      "WARNING:__main__:No movie results found for IMDb ID: tt21379370. Skipping.\n"
     ]
    },
    {
     "name": "stdout",
     "output_type": "stream",
     "text": [
      "Progress: 73.80% loading...\r"
     ]
    },
    {
     "name": "stderr",
     "output_type": "stream",
     "text": [
      "WARNING:__main__:No movie results found for IMDb ID: tt21618368. Skipping.\n"
     ]
    },
    {
     "name": "stdout",
     "output_type": "stream",
     "text": [
      "Progress: 73.80% loading...\r"
     ]
    },
    {
     "name": "stderr",
     "output_type": "stream",
     "text": [
      "WARNING:__main__:No movie results found for IMDb ID: tt2161962. Skipping.\n"
     ]
    },
    {
     "name": "stdout",
     "output_type": "stream",
     "text": [
      "Progress: 73.81% loading...\r"
     ]
    },
    {
     "name": "stderr",
     "output_type": "stream",
     "text": [
      "WARNING:__main__:No movie results found for IMDb ID: tt21627968. Skipping.\n"
     ]
    },
    {
     "name": "stdout",
     "output_type": "stream",
     "text": [
      "Progress: 73.83% loading...\r"
     ]
    },
    {
     "name": "stderr",
     "output_type": "stream",
     "text": [
      "WARNING:__main__:No movie results found for IMDb ID: tt21654326. Skipping.\n"
     ]
    },
    {
     "name": "stdout",
     "output_type": "stream",
     "text": [
      "Progress: 73.92% loading...\r"
     ]
    },
    {
     "name": "stderr",
     "output_type": "stream",
     "text": [
      "WARNING:__main__:No movie results found for IMDb ID: tt21740806. Skipping.\n"
     ]
    },
    {
     "name": "stdout",
     "output_type": "stream",
     "text": [
      "Progress: 74.03% loading...\r"
     ]
    },
    {
     "name": "stderr",
     "output_type": "stream",
     "text": [
      "WARNING:__main__:No movie results found for IMDb ID: tt21818370. Skipping.\n"
     ]
    },
    {
     "name": "stdout",
     "output_type": "stream",
     "text": [
      "Progress: 74.23% loading...\r"
     ]
    },
    {
     "name": "stderr",
     "output_type": "stream",
     "text": [
      "WARNING:__main__:No movie results found for IMDb ID: tt21932820. Skipping.\n"
     ]
    },
    {
     "name": "stdout",
     "output_type": "stream",
     "text": [
      "Progress: 74.66% loading...\r"
     ]
    },
    {
     "name": "stderr",
     "output_type": "stream",
     "text": [
      "WARNING:__main__:No movie results found for IMDb ID: tt22311492. Skipping.\n"
     ]
    },
    {
     "name": "stdout",
     "output_type": "stream",
     "text": [
      "Progress: 74.71% loading...\r"
     ]
    },
    {
     "name": "stderr",
     "output_type": "stream",
     "text": [
      "WARNING:__main__:No movie results found for IMDb ID: tt22353382. Skipping.\n"
     ]
    },
    {
     "name": "stdout",
     "output_type": "stream",
     "text": [
      "Progress: 74.94% loading...\r"
     ]
    },
    {
     "name": "stderr",
     "output_type": "stream",
     "text": [
      "WARNING:__main__:No movie results found for IMDb ID: tt22543124. Skipping.\n"
     ]
    },
    {
     "name": "stdout",
     "output_type": "stream",
     "text": [
      "Progress: 75.03% loading...\r"
     ]
    },
    {
     "name": "stderr",
     "output_type": "stream",
     "text": [
      "WARNING:__main__:No movie results found for IMDb ID: tt22639512. Skipping.\n"
     ]
    },
    {
     "name": "stdout",
     "output_type": "stream",
     "text": [
      "Progress: 75.18% loading...\r"
     ]
    },
    {
     "name": "stderr",
     "output_type": "stream",
     "text": [
      "WARNING:__main__:No movie results found for IMDb ID: tt22807194. Skipping.\n"
     ]
    },
    {
     "name": "stdout",
     "output_type": "stream",
     "text": [
      "Progress: 75.37% loading...\r"
     ]
    },
    {
     "name": "stderr",
     "output_type": "stream",
     "text": [
      "WARNING:__main__:No movie results found for IMDb ID: tt22987820. Skipping.\n"
     ]
    },
    {
     "name": "stdout",
     "output_type": "stream",
     "text": [
      "Progress: 75.44% loading...\r"
     ]
    },
    {
     "name": "stderr",
     "output_type": "stream",
     "text": [
      "WARNING:__main__:No movie results found for IMDb ID: tt23058594. Skipping.\n"
     ]
    },
    {
     "name": "stdout",
     "output_type": "stream",
     "text": [
      "Progress: 75.83% loading...\r"
     ]
    },
    {
     "name": "stderr",
     "output_type": "stream",
     "text": [
      "WARNING:__main__:No movie results found for IMDb ID: tt23423222. Skipping.\n"
     ]
    },
    {
     "name": "stdout",
     "output_type": "stream",
     "text": [
      "Progress: 76.07% loading...\r"
     ]
    },
    {
     "name": "stderr",
     "output_type": "stream",
     "text": [
      "WARNING:__main__:No movie results found for IMDb ID: tt23638596. Skipping.\n"
     ]
    },
    {
     "name": "stdout",
     "output_type": "stream",
     "text": [
      "Progress: 76.07% loading...\r"
     ]
    },
    {
     "name": "stderr",
     "output_type": "stream",
     "text": [
      "WARNING:__main__:No movie results found for IMDb ID: tt23647024. Skipping.\n"
     ]
    },
    {
     "name": "stdout",
     "output_type": "stream",
     "text": [
      "Progress: 76.53% loading...\r"
     ]
    },
    {
     "name": "stderr",
     "output_type": "stream",
     "text": [
      "WARNING:__main__:No movie results found for IMDb ID: tt23951378. Skipping.\n"
     ]
    },
    {
     "name": "stdout",
     "output_type": "stream",
     "text": [
      "Progress: 76.75% loading...\r"
     ]
    },
    {
     "name": "stderr",
     "output_type": "stream",
     "text": [
      "WARNING:__main__:No movie results found for IMDb ID: tt24069594. Skipping.\n"
     ]
    },
    {
     "name": "stdout",
     "output_type": "stream",
     "text": [
      "Progress: 76.88% loading...\r"
     ]
    },
    {
     "name": "stderr",
     "output_type": "stream",
     "text": [
      "WARNING:__main__:No movie results found for IMDb ID: tt24218264. Skipping.\n"
     ]
    },
    {
     "name": "stdout",
     "output_type": "stream",
     "text": [
      "Progress: 77.42% loading...\r"
     ]
    },
    {
     "name": "stderr",
     "output_type": "stream",
     "text": [
      "WARNING:__main__:No movie results found for IMDb ID: tt25234532. Skipping.\n"
     ]
    },
    {
     "name": "stdout",
     "output_type": "stream",
     "text": [
      "Progress: 77.52% loading...\r"
     ]
    },
    {
     "name": "stderr",
     "output_type": "stream",
     "text": [
      "WARNING:__main__:No movie results found for IMDb ID: tt25425178. Skipping.\n"
     ]
    },
    {
     "name": "stdout",
     "output_type": "stream",
     "text": [
      "Progress: 77.75% loading...\r"
     ]
    },
    {
     "name": "stderr",
     "output_type": "stream",
     "text": [
      "WARNING:__main__:No movie results found for IMDb ID: tt25811580. Skipping.\n"
     ]
    },
    {
     "name": "stdout",
     "output_type": "stream",
     "text": [
      "Progress: 77.79% loading...\r"
     ]
    },
    {
     "name": "stderr",
     "output_type": "stream",
     "text": [
      "WARNING:__main__:No movie results found for IMDb ID: tt25852740. Skipping.\n"
     ]
    },
    {
     "name": "stdout",
     "output_type": "stream",
     "text": [
      "Progress: 77.82% loading...\r"
     ]
    },
    {
     "name": "stderr",
     "output_type": "stream",
     "text": [
      "WARNING:__main__:No movie results found for IMDb ID: tt25966332. Skipping.\n"
     ]
    },
    {
     "name": "stdout",
     "output_type": "stream",
     "text": [
      "Progress: 77.95% loading...\r"
     ]
    },
    {
     "name": "stderr",
     "output_type": "stream",
     "text": [
      "WARNING:__main__:No movie results found for IMDb ID: tt26235412. Skipping.\n"
     ]
    },
    {
     "name": "stdout",
     "output_type": "stream",
     "text": [
      "Progress: 78.11% loading...\r"
     ]
    },
    {
     "name": "stderr",
     "output_type": "stream",
     "text": [
      "WARNING:__main__:No movie results found for IMDb ID: tt26457210. Skipping.\n"
     ]
    },
    {
     "name": "stdout",
     "output_type": "stream",
     "text": [
      "Progress: 78.12% loading...\r"
     ]
    },
    {
     "name": "stderr",
     "output_type": "stream",
     "text": [
      "WARNING:__main__:No movie results found for IMDb ID: tt26493916. Skipping.\n"
     ]
    },
    {
     "name": "stdout",
     "output_type": "stream",
     "text": [
      "Progress: 78.13% loading...\r"
     ]
    },
    {
     "name": "stderr",
     "output_type": "stream",
     "text": [
      "WARNING:__main__:No movie results found for IMDb ID: tt26502225. Skipping.\n"
     ]
    },
    {
     "name": "stdout",
     "output_type": "stream",
     "text": [
      "Progress: 78.21% loading...\r"
     ]
    },
    {
     "name": "stderr",
     "output_type": "stream",
     "text": [
      "WARNING:__main__:No movie results found for IMDb ID: tt26659737. Skipping.\n"
     ]
    },
    {
     "name": "stdout",
     "output_type": "stream",
     "text": [
      "Progress: 78.30% loading...\r"
     ]
    },
    {
     "name": "stderr",
     "output_type": "stream",
     "text": [
      "WARNING:__main__:No movie results found for IMDb ID: tt26744184. Skipping.\n"
     ]
    },
    {
     "name": "stdout",
     "output_type": "stream",
     "text": [
      "Progress: 78.38% loading...\r"
     ]
    },
    {
     "name": "stderr",
     "output_type": "stream",
     "text": [
      "WARNING:__main__:No movie results found for IMDb ID: tt26999050. Skipping.\n"
     ]
    },
    {
     "name": "stdout",
     "output_type": "stream",
     "text": [
      "Progress: 78.45% loading...\r"
     ]
    },
    {
     "name": "stderr",
     "output_type": "stream",
     "text": [
      "WARNING:__main__:No movie results found for IMDb ID: tt27109885. Skipping.\n"
     ]
    },
    {
     "name": "stdout",
     "output_type": "stream",
     "text": [
      "Progress: 78.54% loading...\r"
     ]
    },
    {
     "name": "stderr",
     "output_type": "stream",
     "text": [
      "WARNING:__main__:No movie results found for IMDb ID: tt27208639. Skipping.\n"
     ]
    },
    {
     "name": "stdout",
     "output_type": "stream",
     "text": [
      "Progress: 78.57% loading...\r"
     ]
    },
    {
     "name": "stderr",
     "output_type": "stream",
     "text": [
      "WARNING:__main__:No movie results found for IMDb ID: tt27250590. Skipping.\n"
     ]
    },
    {
     "name": "stdout",
     "output_type": "stream",
     "text": [
      "Progress: 78.57% loading...\r"
     ]
    },
    {
     "name": "stderr",
     "output_type": "stream",
     "text": [
      "WARNING:__main__:No movie results found for IMDb ID: tt27250815. Skipping.\n"
     ]
    },
    {
     "name": "stdout",
     "output_type": "stream",
     "text": [
      "Progress: 78.62% loading...\r"
     ]
    },
    {
     "name": "stderr",
     "output_type": "stream",
     "text": [
      "WARNING:__main__:No movie results found for IMDb ID: tt27404078. Skipping.\n"
     ]
    },
    {
     "name": "stdout",
     "output_type": "stream",
     "text": [
      "Progress: 78.63% loading...\r"
     ]
    },
    {
     "name": "stderr",
     "output_type": "stream",
     "text": [
      "WARNING:__main__:No movie results found for IMDb ID: tt27442069. Skipping.\n"
     ]
    },
    {
     "name": "stdout",
     "output_type": "stream",
     "text": [
      "Progress: 78.65% loading...\r"
     ]
    },
    {
     "name": "stderr",
     "output_type": "stream",
     "text": [
      "WARNING:__main__:No movie results found for IMDb ID: tt27479108. Skipping.\n"
     ]
    },
    {
     "name": "stdout",
     "output_type": "stream",
     "text": [
      "Progress: 78.66% loading...\r"
     ]
    },
    {
     "name": "stderr",
     "output_type": "stream",
     "text": [
      "WARNING:__main__:No movie results found for IMDb ID: tt27494634. Skipping.\n"
     ]
    },
    {
     "name": "stdout",
     "output_type": "stream",
     "text": [
      "Progress: 78.69% loading...\r"
     ]
    },
    {
     "name": "stderr",
     "output_type": "stream",
     "text": [
      "WARNING:__main__:No movie results found for IMDb ID: tt27510731. Skipping.\n"
     ]
    },
    {
     "name": "stdout",
     "output_type": "stream",
     "text": [
      "Progress: 78.73% loading...\r"
     ]
    },
    {
     "name": "stderr",
     "output_type": "stream",
     "text": [
      "WARNING:__main__:No movie results found for IMDb ID: tt27555889. Skipping.\n"
     ]
    },
    {
     "name": "stdout",
     "output_type": "stream",
     "text": [
      "Progress: 78.74% loading...\r"
     ]
    },
    {
     "name": "stderr",
     "output_type": "stream",
     "text": [
      "WARNING:__main__:No movie results found for IMDb ID: tt27577176. Skipping.\n"
     ]
    },
    {
     "name": "stdout",
     "output_type": "stream",
     "text": [
      "Progress: 78.77% loading...\r"
     ]
    },
    {
     "name": "stderr",
     "output_type": "stream",
     "text": [
      "WARNING:__main__:No movie results found for IMDb ID: tt27611612. Skipping.\n"
     ]
    },
    {
     "name": "stdout",
     "output_type": "stream",
     "text": [
      "Progress: 78.78% loading...\r"
     ]
    },
    {
     "name": "stderr",
     "output_type": "stream",
     "text": [
      "WARNING:__main__:No movie results found for IMDb ID: tt27626564. Skipping.\n"
     ]
    },
    {
     "name": "stdout",
     "output_type": "stream",
     "text": [
      "Progress: 78.79% loading...\r"
     ]
    },
    {
     "name": "stderr",
     "output_type": "stream",
     "text": [
      "WARNING:__main__:No movie results found for IMDb ID: tt27647530. Skipping.\n",
      "WARNING:__main__:No movie results found for IMDb ID: tt27651767. Skipping.\n"
     ]
    },
    {
     "name": "stdout",
     "output_type": "stream",
     "text": [
      "Progress: 78.79% loading...\r"
     ]
    },
    {
     "name": "stderr",
     "output_type": "stream",
     "text": [
      "WARNING:__main__:No movie results found for IMDb ID: tt27655241. Skipping.\n"
     ]
    },
    {
     "name": "stdout",
     "output_type": "stream",
     "text": [
      "Progress: 78.81% loading...\r"
     ]
    },
    {
     "name": "stderr",
     "output_type": "stream",
     "text": [
      "WARNING:__main__:No movie results found for IMDb ID: tt27665353. Skipping.\n"
     ]
    },
    {
     "name": "stdout",
     "output_type": "stream",
     "text": [
      "Progress: 78.81% loading...\r"
     ]
    },
    {
     "name": "stderr",
     "output_type": "stream",
     "text": [
      "WARNING:__main__:No movie results found for IMDb ID: tt27671215. Skipping.\n"
     ]
    },
    {
     "name": "stdout",
     "output_type": "stream",
     "text": [
      "Progress: 78.87% loading...\r"
     ]
    },
    {
     "name": "stderr",
     "output_type": "stream",
     "text": [
      "WARNING:__main__:No movie results found for IMDb ID: tt27746058. Skipping.\n"
     ]
    },
    {
     "name": "stdout",
     "output_type": "stream",
     "text": [
      "Progress: 78.88% loading...\r"
     ]
    },
    {
     "name": "stderr",
     "output_type": "stream",
     "text": [
      "WARNING:__main__:No movie results found for IMDb ID: tt27773228. Skipping.\n"
     ]
    },
    {
     "name": "stdout",
     "output_type": "stream",
     "text": [
      "Progress: 78.91% loading...\r"
     ]
    },
    {
     "name": "stderr",
     "output_type": "stream",
     "text": [
      "WARNING:__main__:No movie results found for IMDb ID: tt27834317. Skipping.\n"
     ]
    },
    {
     "name": "stdout",
     "output_type": "stream",
     "text": [
      "Progress: 78.93% loading...\r"
     ]
    },
    {
     "name": "stderr",
     "output_type": "stream",
     "text": [
      "WARNING:__main__:No movie results found for IMDb ID: tt27850479. Skipping.\n"
     ]
    },
    {
     "name": "stdout",
     "output_type": "stream",
     "text": [
      "Progress: 78.95% loading...\r"
     ]
    },
    {
     "name": "stderr",
     "output_type": "stream",
     "text": [
      "WARNING:__main__:No movie results found for IMDb ID: tt27873991. Skipping.\n"
     ]
    },
    {
     "name": "stdout",
     "output_type": "stream",
     "text": [
      "Progress: 78.97% loading...\r"
     ]
    },
    {
     "name": "stderr",
     "output_type": "stream",
     "text": [
      "WARNING:__main__:No movie results found for IMDb ID: tt27899596. Skipping.\n"
     ]
    },
    {
     "name": "stdout",
     "output_type": "stream",
     "text": [
      "Progress: 78.98% loading...\r"
     ]
    },
    {
     "name": "stderr",
     "output_type": "stream",
     "text": [
      "WARNING:__main__:No movie results found for IMDb ID: tt27908622. Skipping.\n"
     ]
    },
    {
     "name": "stdout",
     "output_type": "stream",
     "text": [
      "Progress: 78.98% loading...\r"
     ]
    },
    {
     "name": "stderr",
     "output_type": "stream",
     "text": [
      "WARNING:__main__:No movie results found for IMDb ID: tt27917168. Skipping.\n"
     ]
    },
    {
     "name": "stdout",
     "output_type": "stream",
     "text": [
      "Progress: 79.02% loading...\r"
     ]
    },
    {
     "name": "stderr",
     "output_type": "stream",
     "text": [
      "WARNING:__main__:No movie results found for IMDb ID: tt27987150. Skipping.\n"
     ]
    },
    {
     "name": "stdout",
     "output_type": "stream",
     "text": [
      "Progress: 79.03% loading...\r"
     ]
    },
    {
     "name": "stderr",
     "output_type": "stream",
     "text": [
      "WARNING:__main__:No movie results found for IMDb ID: tt27999220. Skipping.\n"
     ]
    },
    {
     "name": "stdout",
     "output_type": "stream",
     "text": [
      "Progress: 79.07% loading...\r"
     ]
    },
    {
     "name": "stderr",
     "output_type": "stream",
     "text": [
      "WARNING:__main__:No movie results found for IMDb ID: tt28075450. Skipping.\n"
     ]
    },
    {
     "name": "stdout",
     "output_type": "stream",
     "text": [
      "Progress: 79.08% loading...\r"
     ]
    },
    {
     "name": "stderr",
     "output_type": "stream",
     "text": [
      "WARNING:__main__:No movie results found for IMDb ID: tt28091020. Skipping.\n",
      "WARNING:__main__:No movie results found for IMDb ID: tt28091483. Skipping.\n"
     ]
    },
    {
     "name": "stdout",
     "output_type": "stream",
     "text": [
      "Progress: 79.09% loading...\r"
     ]
    },
    {
     "name": "stderr",
     "output_type": "stream",
     "text": [
      "WARNING:__main__:No movie results found for IMDb ID: tt28145495. Skipping.\n"
     ]
    },
    {
     "name": "stdout",
     "output_type": "stream",
     "text": [
      "Progress: 79.13% loading...\r"
     ]
    },
    {
     "name": "stderr",
     "output_type": "stream",
     "text": [
      "WARNING:__main__:No movie results found for IMDb ID: tt28219502. Skipping.\n"
     ]
    },
    {
     "name": "stdout",
     "output_type": "stream",
     "text": [
      "Progress: 79.17% loading...\r"
     ]
    },
    {
     "name": "stderr",
     "output_type": "stream",
     "text": [
      "WARNING:__main__:No movie results found for IMDb ID: tt28260452. Skipping.\n"
     ]
    },
    {
     "name": "stdout",
     "output_type": "stream",
     "text": [
      "Progress: 79.19% loading...\r"
     ]
    },
    {
     "name": "stderr",
     "output_type": "stream",
     "text": [
      "WARNING:__main__:No movie results found for IMDb ID: tt28285070. Skipping.\n"
     ]
    },
    {
     "name": "stdout",
     "output_type": "stream",
     "text": [
      "Progress: 79.21% loading...\r"
     ]
    },
    {
     "name": "stderr",
     "output_type": "stream",
     "text": [
      "WARNING:__main__:No movie results found for IMDb ID: tt28306789. Skipping.\n"
     ]
    },
    {
     "name": "stdout",
     "output_type": "stream",
     "text": [
      "Progress: 79.21% loading...\r"
     ]
    },
    {
     "name": "stderr",
     "output_type": "stream",
     "text": [
      "WARNING:__main__:No movie results found for IMDb ID: tt28314098. Skipping.\n"
     ]
    },
    {
     "name": "stdout",
     "output_type": "stream",
     "text": [
      "Progress: 79.23% loading...\r"
     ]
    },
    {
     "name": "stderr",
     "output_type": "stream",
     "text": [
      "WARNING:__main__:No movie results found for IMDb ID: tt28335128. Skipping.\n"
     ]
    },
    {
     "name": "stdout",
     "output_type": "stream",
     "text": [
      "Progress: 79.29% loading...\r"
     ]
    },
    {
     "name": "stderr",
     "output_type": "stream",
     "text": [
      "WARNING:__main__:No movie results found for IMDb ID: tt28489464. Skipping.\n"
     ]
    },
    {
     "name": "stdout",
     "output_type": "stream",
     "text": [
      "Progress: 79.30% loading...\r"
     ]
    },
    {
     "name": "stderr",
     "output_type": "stream",
     "text": [
      "WARNING:__main__:No movie results found for IMDb ID: tt28504359. Skipping.\n"
     ]
    },
    {
     "name": "stdout",
     "output_type": "stream",
     "text": [
      "Progress: 79.36% loading...\r"
     ]
    },
    {
     "name": "stderr",
     "output_type": "stream",
     "text": [
      "WARNING:__main__:No movie results found for IMDb ID: tt28608283. Skipping.\n"
     ]
    },
    {
     "name": "stdout",
     "output_type": "stream",
     "text": [
      "Progress: 79.37% loading...\r"
     ]
    },
    {
     "name": "stderr",
     "output_type": "stream",
     "text": [
      "WARNING:__main__:No movie results found for IMDb ID: tt28622760. Skipping.\n",
      "WARNING:__main__:No movie results found for IMDb ID: tt28629053. Skipping.\n"
     ]
    },
    {
     "name": "stdout",
     "output_type": "stream",
     "text": [
      "Progress: 79.38% loading...\r"
     ]
    },
    {
     "name": "stderr",
     "output_type": "stream",
     "text": [
      "WARNING:__main__:No movie results found for IMDb ID: tt28654277. Skipping.\n"
     ]
    },
    {
     "name": "stdout",
     "output_type": "stream",
     "text": [
      "Progress: 79.39% loading...\r"
     ]
    },
    {
     "name": "stderr",
     "output_type": "stream",
     "text": [
      "WARNING:__main__:No movie results found for IMDb ID: tt28686243. Skipping.\n"
     ]
    },
    {
     "name": "stdout",
     "output_type": "stream",
     "text": [
      "Progress: 79.40% loading...\r"
     ]
    },
    {
     "name": "stderr",
     "output_type": "stream",
     "text": [
      "WARNING:__main__:No movie results found for IMDb ID: tt28696625. Skipping.\n"
     ]
    },
    {
     "name": "stdout",
     "output_type": "stream",
     "text": [
      "Progress: 79.55% loading...\r"
     ]
    },
    {
     "name": "stderr",
     "output_type": "stream",
     "text": [
      "WARNING:__main__:No movie results found for IMDb ID: tt28970508. Skipping.\n"
     ]
    },
    {
     "name": "stdout",
     "output_type": "stream",
     "text": [
      "Progress: 79.57% loading...\r"
     ]
    },
    {
     "name": "stderr",
     "output_type": "stream",
     "text": [
      "WARNING:__main__:No movie results found for IMDb ID: tt29041196. Skipping.\n"
     ]
    },
    {
     "name": "stdout",
     "output_type": "stream",
     "text": [
      "Progress: 79.63% loading...\r"
     ]
    },
    {
     "name": "stderr",
     "output_type": "stream",
     "text": [
      "WARNING:__main__:No movie results found for IMDb ID: tt29119032. Skipping.\n"
     ]
    },
    {
     "name": "stdout",
     "output_type": "stream",
     "text": [
      "Progress: 79.64% loading...\r"
     ]
    },
    {
     "name": "stderr",
     "output_type": "stream",
     "text": [
      "WARNING:__main__:No movie results found for IMDb ID: tt29173745. Skipping.\n"
     ]
    },
    {
     "name": "stdout",
     "output_type": "stream",
     "text": [
      "Progress: 79.70% loading...\r"
     ]
    },
    {
     "name": "stderr",
     "output_type": "stream",
     "text": [
      "WARNING:__main__:No movie results found for IMDb ID: tt29278671. Skipping.\n",
      "WARNING:__main__:No movie results found for IMDb ID: tt29284103. Skipping.\n"
     ]
    },
    {
     "name": "stdout",
     "output_type": "stream",
     "text": [
      "Progress: 79.71% loading...\r"
     ]
    },
    {
     "name": "stderr",
     "output_type": "stream",
     "text": [
      "WARNING:__main__:No movie results found for IMDb ID: tt29308479. Skipping.\n"
     ]
    },
    {
     "name": "stdout",
     "output_type": "stream",
     "text": [
      "Progress: 79.79% loading...\r"
     ]
    },
    {
     "name": "stderr",
     "output_type": "stream",
     "text": [
      "WARNING:__main__:No movie results found for IMDb ID: tt29438140. Skipping.\n"
     ]
    },
    {
     "name": "stdout",
     "output_type": "stream",
     "text": [
      "Progress: 79.80% loading...\r"
     ]
    },
    {
     "name": "stderr",
     "output_type": "stream",
     "text": [
      "WARNING:__main__:No movie results found for IMDb ID: tt29439945. Skipping.\n"
     ]
    },
    {
     "name": "stdout",
     "output_type": "stream",
     "text": [
      "Progress: 79.84% loading...\r"
     ]
    },
    {
     "name": "stderr",
     "output_type": "stream",
     "text": [
      "WARNING:__main__:No movie results found for IMDb ID: tt29515754. Skipping.\n"
     ]
    },
    {
     "name": "stdout",
     "output_type": "stream",
     "text": [
      "Progress: 79.85% loading...\r"
     ]
    },
    {
     "name": "stderr",
     "output_type": "stream",
     "text": [
      "WARNING:__main__:No movie results found for IMDb ID: tt29515802. Skipping.\n"
     ]
    },
    {
     "name": "stdout",
     "output_type": "stream",
     "text": [
      "Progress: 79.94% loading...\r"
     ]
    },
    {
     "name": "stderr",
     "output_type": "stream",
     "text": [
      "WARNING:__main__:No movie results found for IMDb ID: tt29704964. Skipping.\n"
     ]
    },
    {
     "name": "stdout",
     "output_type": "stream",
     "text": [
      "Progress: 79.98% loading...\r"
     ]
    },
    {
     "name": "stderr",
     "output_type": "stream",
     "text": [
      "WARNING:__main__:No movie results found for IMDb ID: tt29764940. Skipping.\n"
     ]
    },
    {
     "name": "stdout",
     "output_type": "stream",
     "text": [
      "Progress: 80.09% loading...\r"
     ]
    },
    {
     "name": "stderr",
     "output_type": "stream",
     "text": [
      "WARNING:__main__:No movie results found for IMDb ID: tt29959426. Skipping.\n",
      "WARNING:__main__:No movie results found for IMDb ID: tt30007578. Skipping.\n"
     ]
    },
    {
     "name": "stdout",
     "output_type": "stream",
     "text": [
      "Progress: 80.12% loading...\r"
     ]
    },
    {
     "name": "stderr",
     "output_type": "stream",
     "text": [
      "WARNING:__main__:No movie results found for IMDb ID: tt30070875. Skipping.\n"
     ]
    },
    {
     "name": "stdout",
     "output_type": "stream",
     "text": [
      "Progress: 80.17% loading...\r"
     ]
    },
    {
     "name": "stderr",
     "output_type": "stream",
     "text": [
      "WARNING:__main__:No movie results found for IMDb ID: tt30151706. Skipping.\n"
     ]
    },
    {
     "name": "stdout",
     "output_type": "stream",
     "text": [
      "Progress: 80.27% loading...\r"
     ]
    },
    {
     "name": "stderr",
     "output_type": "stream",
     "text": [
      "WARNING:__main__:No movie results found for IMDb ID: tt30406555. Skipping.\n"
     ]
    },
    {
     "name": "stdout",
     "output_type": "stream",
     "text": [
      "Progress: 80.28% loading...\r"
     ]
    },
    {
     "name": "stderr",
     "output_type": "stream",
     "text": [
      "WARNING:__main__:No movie results found for IMDb ID: tt30423063. Skipping.\n"
     ]
    },
    {
     "name": "stdout",
     "output_type": "stream",
     "text": [
      "Progress: 80.29% loading...\r"
     ]
    },
    {
     "name": "stderr",
     "output_type": "stream",
     "text": [
      "WARNING:__main__:No movie results found for IMDb ID: tt30454549. Skipping.\n"
     ]
    },
    {
     "name": "stdout",
     "output_type": "stream",
     "text": [
      "Progress: 80.42% loading...\r"
     ]
    },
    {
     "name": "stderr",
     "output_type": "stream",
     "text": [
      "WARNING:__main__:No movie results found for IMDb ID: tt30769141. Skipping.\n"
     ]
    },
    {
     "name": "stdout",
     "output_type": "stream",
     "text": [
      "Progress: 80.44% loading...\r"
     ]
    },
    {
     "name": "stderr",
     "output_type": "stream",
     "text": [
      "WARNING:__main__:No movie results found for IMDb ID: tt30816925. Skipping.\n"
     ]
    },
    {
     "name": "stdout",
     "output_type": "stream",
     "text": [
      "Progress: 80.45% loading...\r"
     ]
    },
    {
     "name": "stderr",
     "output_type": "stream",
     "text": [
      "WARNING:__main__:No movie results found for IMDb ID: tt30836377. Skipping.\n"
     ]
    },
    {
     "name": "stdout",
     "output_type": "stream",
     "text": [
      "Progress: 80.46% loading...\r"
     ]
    },
    {
     "name": "stderr",
     "output_type": "stream",
     "text": [
      "WARNING:__main__:No movie results found for IMDb ID: tt30876762. Skipping.\n"
     ]
    },
    {
     "name": "stdout",
     "output_type": "stream",
     "text": [
      "Progress: 80.53% loading...\r"
     ]
    },
    {
     "name": "stderr",
     "output_type": "stream",
     "text": [
      "WARNING:__main__:No movie results found for IMDb ID: tt30983618. Skipping.\n"
     ]
    },
    {
     "name": "stdout",
     "output_type": "stream",
     "text": [
      "Progress: 80.53% loading...\r"
     ]
    },
    {
     "name": "stderr",
     "output_type": "stream",
     "text": [
      "WARNING:__main__:No movie results found for IMDb ID: tt30989795. Skipping.\n"
     ]
    },
    {
     "name": "stdout",
     "output_type": "stream",
     "text": [
      "Progress: 80.61% loading...\r"
     ]
    },
    {
     "name": "stderr",
     "output_type": "stream",
     "text": [
      "WARNING:__main__:No movie results found for IMDb ID: tt31113091. Skipping.\n"
     ]
    },
    {
     "name": "stdout",
     "output_type": "stream",
     "text": [
      "Progress: 80.77% loading...\r"
     ]
    },
    {
     "name": "stderr",
     "output_type": "stream",
     "text": [
      "WARNING:__main__:No movie results found for IMDb ID: tt31414473. Skipping.\n"
     ]
    },
    {
     "name": "stdout",
     "output_type": "stream",
     "text": [
      "Progress: 80.79% loading...\r"
     ]
    },
    {
     "name": "stderr",
     "output_type": "stream",
     "text": [
      "WARNING:__main__:No movie results found for IMDb ID: tt31435295. Skipping.\n"
     ]
    },
    {
     "name": "stdout",
     "output_type": "stream",
     "text": [
      "Progress: 80.79% loading...\r"
     ]
    },
    {
     "name": "stderr",
     "output_type": "stream",
     "text": [
      "WARNING:__main__:No movie results found for IMDb ID: tt31435586. Skipping.\n"
     ]
    },
    {
     "name": "stdout",
     "output_type": "stream",
     "text": [
      "Progress: 80.79% loading...\r"
     ]
    },
    {
     "name": "stderr",
     "output_type": "stream",
     "text": [
      "WARNING:__main__:No movie results found for IMDb ID: tt31451148. Skipping.\n"
     ]
    },
    {
     "name": "stdout",
     "output_type": "stream",
     "text": [
      "Progress: 80.80% loading...\r"
     ]
    },
    {
     "name": "stderr",
     "output_type": "stream",
     "text": [
      "WARNING:__main__:No movie results found for IMDb ID: tt31474455. Skipping.\n"
     ]
    },
    {
     "name": "stdout",
     "output_type": "stream",
     "text": [
      "Progress: 80.89% loading...\r"
     ]
    },
    {
     "name": "stderr",
     "output_type": "stream",
     "text": [
      "WARNING:__main__:No movie results found for IMDb ID: tt31639233. Skipping.\n"
     ]
    },
    {
     "name": "stdout",
     "output_type": "stream",
     "text": [
      "Progress: 80.90% loading...\r"
     ]
    },
    {
     "name": "stderr",
     "output_type": "stream",
     "text": [
      "WARNING:__main__:No movie results found for IMDb ID: tt3166500. Skipping.\n"
     ]
    },
    {
     "name": "stdout",
     "output_type": "stream",
     "text": [
      "Progress: 80.93% loading...\r"
     ]
    },
    {
     "name": "stderr",
     "output_type": "stream",
     "text": [
      "WARNING:__main__:No movie results found for IMDb ID: tt31711509. Skipping.\n"
     ]
    },
    {
     "name": "stdout",
     "output_type": "stream",
     "text": [
      "Progress: 81.07% loading...\r"
     ]
    },
    {
     "name": "stderr",
     "output_type": "stream",
     "text": [
      "WARNING:__main__:No movie results found for IMDb ID: tt31986077. Skipping.\n"
     ]
    },
    {
     "name": "stdout",
     "output_type": "stream",
     "text": [
      "Progress: 81.12% loading...\r"
     ]
    },
    {
     "name": "stderr",
     "output_type": "stream",
     "text": [
      "WARNING:__main__:No movie results found for IMDb ID: tt32081990. Skipping.\n"
     ]
    },
    {
     "name": "stdout",
     "output_type": "stream",
     "text": [
      "Progress: 82.07% loading...\r"
     ]
    },
    {
     "name": "stderr",
     "output_type": "stream",
     "text": [
      "WARNING:__main__:No movie results found for IMDb ID: tt3460922. Skipping.\n"
     ]
    },
    {
     "name": "stdout",
     "output_type": "stream",
     "text": [
      "Progress: 82.84% loading...\r"
     ]
    },
    {
     "name": "stderr",
     "output_type": "stream",
     "text": [
      "WARNING:__main__:No movie results found for IMDb ID: tt3655326. Skipping.\n"
     ]
    },
    {
     "name": "stdout",
     "output_type": "stream",
     "text": [
      "Progress: 86.03% loading...\r"
     ]
    },
    {
     "name": "stderr",
     "output_type": "stream",
     "text": [
      "WARNING:__main__:No movie results found for IMDb ID: tt4603150. Skipping.\n"
     ]
    },
    {
     "name": "stdout",
     "output_type": "stream",
     "text": [
      "Progress: 86.24% loading...\r"
     ]
    },
    {
     "name": "stderr",
     "output_type": "stream",
     "text": [
      "WARNING:__main__:No movie results found for IMDb ID: tt4661358. Skipping.\n"
     ]
    },
    {
     "name": "stdout",
     "output_type": "stream",
     "text": [
      "Progress: 89.01% loading...\r"
     ]
    },
    {
     "name": "stderr",
     "output_type": "stream",
     "text": [
      "WARNING:__main__:No movie results found for IMDb ID: tt5494830. Skipping.\n"
     ]
    },
    {
     "name": "stdout",
     "output_type": "stream",
     "text": [
      "Progress: 89.17% loading...\r"
     ]
    },
    {
     "name": "stderr",
     "output_type": "stream",
     "text": [
      "WARNING:__main__:No movie results found for IMDb ID: tt5552086. Skipping.\n"
     ]
    },
    {
     "name": "stdout",
     "output_type": "stream",
     "text": [
      "Progress: 90.58% loading...\r"
     ]
    },
    {
     "name": "stderr",
     "output_type": "stream",
     "text": [
      "WARNING:__main__:No movie results found for IMDb ID: tt5995602. Skipping.\n"
     ]
    },
    {
     "name": "stdout",
     "output_type": "stream",
     "text": [
      "Progress: 92.96% loading...\r"
     ]
    },
    {
     "name": "stderr",
     "output_type": "stream",
     "text": [
      "WARNING:__main__:No movie results found for IMDb ID: tt6823268. Skipping.\n"
     ]
    },
    {
     "name": "stdout",
     "output_type": "stream",
     "text": [
      "Progress: 92.97% loading...\r"
     ]
    },
    {
     "name": "stderr",
     "output_type": "stream",
     "text": [
      "WARNING:__main__:No movie results found for IMDb ID: tt6827298. Skipping.\n"
     ]
    },
    {
     "name": "stdout",
     "output_type": "stream",
     "text": [
      "Progress: 92.98% loading...\r"
     ]
    },
    {
     "name": "stderr",
     "output_type": "stream",
     "text": [
      "WARNING:__main__:No movie results found for IMDb ID: tt6827430. Skipping.\n"
     ]
    },
    {
     "name": "stdout",
     "output_type": "stream",
     "text": [
      "Progress: 93.15% loading...\r"
     ]
    },
    {
     "name": "stderr",
     "output_type": "stream",
     "text": [
      "WARNING:__main__:No movie results found for IMDb ID: tt6887248. Skipping.\n"
     ]
    },
    {
     "name": "stdout",
     "output_type": "stream",
     "text": [
      "Progress: 94.14% loading...\r"
     ]
    },
    {
     "name": "stderr",
     "output_type": "stream",
     "text": [
      "WARNING:__main__:No movie results found for IMDb ID: tt7310916. Skipping.\n"
     ]
    },
    {
     "name": "stdout",
     "output_type": "stream",
     "text": [
      "Progress: 94.75% loading...\r"
     ]
    },
    {
     "name": "stderr",
     "output_type": "stream",
     "text": [
      "WARNING:__main__:No movie results found for IMDb ID: tt7558696. Skipping.\n"
     ]
    },
    {
     "name": "stdout",
     "output_type": "stream",
     "text": [
      "Progress: 96.32% loading...\r"
     ]
    },
    {
     "name": "stderr",
     "output_type": "stream",
     "text": [
      "WARNING:__main__:No movie results found for IMDb ID: tt8259916. Skipping.\n"
     ]
    },
    {
     "name": "stdout",
     "output_type": "stream",
     "text": [
      "Progress: 96.67% loading...\r"
     ]
    },
    {
     "name": "stderr",
     "output_type": "stream",
     "text": [
      "WARNING:__main__:No movie results found for IMDb ID: tt8396492. Skipping.\n"
     ]
    },
    {
     "name": "stdout",
     "output_type": "stream",
     "text": [
      "Progress: 96.95% loading...\r"
     ]
    },
    {
     "name": "stderr",
     "output_type": "stream",
     "text": [
      "WARNING:__main__:No movie results found for IMDb ID: tt8546144. Skipping.\n"
     ]
    },
    {
     "name": "stdout",
     "output_type": "stream",
     "text": [
      "Progress: 100.00% loading... Completed.\n",
      "CPU times: user 59min 2s, sys: 3min 6s, total: 1h 2min 8s\n",
      "Wall time: 3h 25min 42s\n"
     ]
    }
   ],
   "source": [
    "%%time\n",
    "df1 = fill_missing_data(movies, headers)"
   ]
  },
  {
   "cell_type": "code",
   "execution_count": 131,
   "id": "dc55116a",
   "metadata": {},
   "outputs": [
    {
     "data": {
      "text/html": [
       "<div>\n",
       "<style scoped>\n",
       "    .dataframe tbody tr th:only-of-type {\n",
       "        vertical-align: middle;\n",
       "    }\n",
       "\n",
       "    .dataframe tbody tr th {\n",
       "        vertical-align: top;\n",
       "    }\n",
       "\n",
       "    .dataframe thead th {\n",
       "        text-align: right;\n",
       "    }\n",
       "</style>\n",
       "<table border=\"1\" class=\"dataframe\">\n",
       "  <thead>\n",
       "    <tr style=\"text-align: right;\">\n",
       "      <th></th>\n",
       "      <th>tconst</th>\n",
       "      <th>primaryTitle</th>\n",
       "      <th>originalTitle</th>\n",
       "      <th>startYear</th>\n",
       "      <th>runtimeMinutes</th>\n",
       "      <th>genres</th>\n",
       "      <th>keywords</th>\n",
       "      <th>overview</th>\n",
       "      <th>production_countries</th>\n",
       "      <th>production_companies</th>\n",
       "    </tr>\n",
       "  </thead>\n",
       "  <tbody>\n",
       "    <tr>\n",
       "      <th>28768</th>\n",
       "      <td>tt0029284</td>\n",
       "      <td>My Favorite Wife</td>\n",
       "      <td>My Favorite Wife</td>\n",
       "      <td>1940</td>\n",
       "      <td>88</td>\n",
       "      <td>Comedy,Romance</td>\n",
       "      <td>{'keywords': [{'id': 931, 'name': 'jealousy'},...</td>\n",
       "      <td>Years after she was presumed dead in a shipwre...</td>\n",
       "      <td>[{'iso_3166_1': 'US', 'name': 'United States o...</td>\n",
       "      <td>[{'id': 6, 'logo_path': '/n53F7K9scQWFXYbrCabl...</td>\n",
       "    </tr>\n",
       "    <tr>\n",
       "      <th>30799</th>\n",
       "      <td>tt0031359</td>\n",
       "      <td>Gaslight</td>\n",
       "      <td>Gaslight</td>\n",
       "      <td>1940</td>\n",
       "      <td>84</td>\n",
       "      <td>Mystery,Thriller</td>\n",
       "      <td>{'keywords': [{'id': 6038, 'name': 'marriage'}...</td>\n",
       "      <td>Twenty years removed from Alice Barlow's murde...</td>\n",
       "      <td>[{'iso_3166_1': 'GB', 'name': 'United Kingdom'}]</td>\n",
       "      <td>[{'id': 14197, 'logo_path': None, 'name': 'Bri...</td>\n",
       "    </tr>\n",
       "    <tr>\n",
       "      <th>31405</th>\n",
       "      <td>tt0031976</td>\n",
       "      <td>The Stars Look Down</td>\n",
       "      <td>The Stars Look Down</td>\n",
       "      <td>1940</td>\n",
       "      <td>110</td>\n",
       "      <td>Drama</td>\n",
       "      <td>{'keywords': [{'id': 6346, 'name': 'trade unio...</td>\n",
       "      <td>Davey Fenwick leaves his mining village on a u...</td>\n",
       "      <td>[{'iso_3166_1': 'GB', 'name': 'United Kingdom'}]</td>\n",
       "      <td>[{'id': 18700, 'logo_path': None, 'name': 'Gra...</td>\n",
       "    </tr>\n",
       "    <tr>\n",
       "      <th>31600</th>\n",
       "      <td>tt0032179</td>\n",
       "      <td>21 Days Together</td>\n",
       "      <td>21 Days</td>\n",
       "      <td>1940</td>\n",
       "      <td>72</td>\n",
       "      <td>Crime,Drama,Romance</td>\n",
       "      <td>{'keywords': [{'id': 171989, 'name': 'wrongful...</td>\n",
       "      <td>After Larry Darrent accidentally kills his lov...</td>\n",
       "      <td>[{'iso_3166_1': 'GB', 'name': 'United Kingdom'}]</td>\n",
       "      <td>[{'id': 659, 'logo_path': None, 'name': 'Londo...</td>\n",
       "    </tr>\n",
       "    <tr>\n",
       "      <th>31602</th>\n",
       "      <td>tt0032181</td>\n",
       "      <td>Abe Lincoln in Illinois</td>\n",
       "      <td>Abe Lincoln in Illinois</td>\n",
       "      <td>1940</td>\n",
       "      <td>110</td>\n",
       "      <td>Biography,Drama,History</td>\n",
       "      <td>{'keywords': [{'id': 5565, 'name': 'biography'...</td>\n",
       "      <td>Abe Lincoln in Illinois is a 1940 biographical...</td>\n",
       "      <td>[{'iso_3166_1': 'US', 'name': 'United States o...</td>\n",
       "      <td>[{'id': 6, 'logo_path': '/n53F7K9scQWFXYbrCabl...</td>\n",
       "    </tr>\n",
       "    <tr>\n",
       "      <th>...</th>\n",
       "      <td>...</td>\n",
       "      <td>...</td>\n",
       "      <td>...</td>\n",
       "      <td>...</td>\n",
       "      <td>...</td>\n",
       "      <td>...</td>\n",
       "      <td>...</td>\n",
       "      <td>...</td>\n",
       "      <td>...</td>\n",
       "      <td>...</td>\n",
       "    </tr>\n",
       "    <tr>\n",
       "      <th>10698589</th>\n",
       "      <td>tt9907782</td>\n",
       "      <td>The Cursed</td>\n",
       "      <td>Eight for Silver</td>\n",
       "      <td>2021</td>\n",
       "      <td>111</td>\n",
       "      <td>Fantasy,Horror,Mystery</td>\n",
       "      <td>{'keywords': [{'id': 394, 'name': 'gypsy'}, {'...</td>\n",
       "      <td>In the late 19th century, a brutal land baron ...</td>\n",
       "      <td>[{'iso_3166_1': 'US', 'name': 'United States o...</td>\n",
       "      <td>[{'id': 26065, 'logo_path': None, 'name': 'Pis...</td>\n",
       "    </tr>\n",
       "    <tr>\n",
       "      <th>10698877</th>\n",
       "      <td>tt9908390</td>\n",
       "      <td>Le lion</td>\n",
       "      <td>Le lion</td>\n",
       "      <td>2020</td>\n",
       "      <td>95</td>\n",
       "      <td>Comedy</td>\n",
       "      <td>{'keywords': [{'id': 5265, 'name': 'espionage'}]}</td>\n",
       "      <td>A psychiatric hospital patient pretends to be ...</td>\n",
       "      <td>[{'iso_3166_1': 'FR', 'name': 'France'}]</td>\n",
       "      <td>[{'id': 90562, 'logo_path': '/qII3jJQ4S32FgJRl...</td>\n",
       "    </tr>\n",
       "    <tr>\n",
       "      <th>10700132</th>\n",
       "      <td>tt9911196</td>\n",
       "      <td>The Marriage Escape</td>\n",
       "      <td>De beentjes van Sint-Hildegard</td>\n",
       "      <td>2020</td>\n",
       "      <td>103</td>\n",
       "      <td>Comedy,Drama</td>\n",
       "      <td>{'keywords': []}</td>\n",
       "      <td>Jan has been married to Gedda for 35 years. Ge...</td>\n",
       "      <td>[{'iso_3166_1': 'NL', 'name': 'Netherlands'}]</td>\n",
       "      <td>[{'id': 60652, 'logo_path': '/pNlPbnwBkKgZsc2y...</td>\n",
       "    </tr>\n",
       "    <tr>\n",
       "      <th>10702488</th>\n",
       "      <td>tt9916270</td>\n",
       "      <td>Il talento del calabrone</td>\n",
       "      <td>Il talento del calabrone</td>\n",
       "      <td>2020</td>\n",
       "      <td>84</td>\n",
       "      <td>Thriller</td>\n",
       "      <td>{'keywords': []}</td>\n",
       "      <td>Dj Steph is a young radio deejay on the rise, ...</td>\n",
       "      <td>[{'iso_3166_1': 'IT', 'name': 'Italy'}]</td>\n",
       "      <td>[{'id': 3110, 'logo_path': '/snpwZMXBOwbLSHqrn...</td>\n",
       "    </tr>\n",
       "    <tr>\n",
       "      <th>10702533</th>\n",
       "      <td>tt9916362</td>\n",
       "      <td>Coven</td>\n",
       "      <td>Akelarre</td>\n",
       "      <td>2020</td>\n",
       "      <td>92</td>\n",
       "      <td>Drama,History</td>\n",
       "      <td>{'keywords': [{'id': 344, 'name': 'inquisition...</td>\n",
       "      <td>French Basque Country, year 1609. The men of a...</td>\n",
       "      <td>[{'iso_3166_1': 'AR', 'name': 'Argentina'}, {'...</td>\n",
       "      <td>[{'id': 6458, 'logo_path': '/eT4oMUK7ODM0vvZue...</td>\n",
       "    </tr>\n",
       "  </tbody>\n",
       "</table>\n",
       "<p>32180 rows × 10 columns</p>\n",
       "</div>"
      ],
      "text/plain": [
       "             tconst              primaryTitle                   originalTitle  \\\n",
       "28768     tt0029284          My Favorite Wife                My Favorite Wife   \n",
       "30799     tt0031359                  Gaslight                        Gaslight   \n",
       "31405     tt0031976       The Stars Look Down             The Stars Look Down   \n",
       "31600     tt0032179          21 Days Together                         21 Days   \n",
       "31602     tt0032181   Abe Lincoln in Illinois         Abe Lincoln in Illinois   \n",
       "...             ...                       ...                             ...   \n",
       "10698589  tt9907782                The Cursed                Eight for Silver   \n",
       "10698877  tt9908390                   Le lion                         Le lion   \n",
       "10700132  tt9911196       The Marriage Escape  De beentjes van Sint-Hildegard   \n",
       "10702488  tt9916270  Il talento del calabrone        Il talento del calabrone   \n",
       "10702533  tt9916362                     Coven                        Akelarre   \n",
       "\n",
       "          startYear  runtimeMinutes                   genres  \\\n",
       "28768          1940              88           Comedy,Romance   \n",
       "30799          1940              84         Mystery,Thriller   \n",
       "31405          1940             110                    Drama   \n",
       "31600          1940              72      Crime,Drama,Romance   \n",
       "31602          1940             110  Biography,Drama,History   \n",
       "...             ...             ...                      ...   \n",
       "10698589       2021             111   Fantasy,Horror,Mystery   \n",
       "10698877       2020              95                   Comedy   \n",
       "10700132       2020             103             Comedy,Drama   \n",
       "10702488       2020              84                 Thriller   \n",
       "10702533       2020              92            Drama,History   \n",
       "\n",
       "                                                   keywords  \\\n",
       "28768     {'keywords': [{'id': 931, 'name': 'jealousy'},...   \n",
       "30799     {'keywords': [{'id': 6038, 'name': 'marriage'}...   \n",
       "31405     {'keywords': [{'id': 6346, 'name': 'trade unio...   \n",
       "31600     {'keywords': [{'id': 171989, 'name': 'wrongful...   \n",
       "31602     {'keywords': [{'id': 5565, 'name': 'biography'...   \n",
       "...                                                     ...   \n",
       "10698589  {'keywords': [{'id': 394, 'name': 'gypsy'}, {'...   \n",
       "10698877  {'keywords': [{'id': 5265, 'name': 'espionage'}]}   \n",
       "10700132                                   {'keywords': []}   \n",
       "10702488                                   {'keywords': []}   \n",
       "10702533  {'keywords': [{'id': 344, 'name': 'inquisition...   \n",
       "\n",
       "                                                   overview  \\\n",
       "28768     Years after she was presumed dead in a shipwre...   \n",
       "30799     Twenty years removed from Alice Barlow's murde...   \n",
       "31405     Davey Fenwick leaves his mining village on a u...   \n",
       "31600     After Larry Darrent accidentally kills his lov...   \n",
       "31602     Abe Lincoln in Illinois is a 1940 biographical...   \n",
       "...                                                     ...   \n",
       "10698589  In the late 19th century, a brutal land baron ...   \n",
       "10698877  A psychiatric hospital patient pretends to be ...   \n",
       "10700132  Jan has been married to Gedda for 35 years. Ge...   \n",
       "10702488  Dj Steph is a young radio deejay on the rise, ...   \n",
       "10702533  French Basque Country, year 1609. The men of a...   \n",
       "\n",
       "                                       production_countries  \\\n",
       "28768     [{'iso_3166_1': 'US', 'name': 'United States o...   \n",
       "30799      [{'iso_3166_1': 'GB', 'name': 'United Kingdom'}]   \n",
       "31405      [{'iso_3166_1': 'GB', 'name': 'United Kingdom'}]   \n",
       "31600      [{'iso_3166_1': 'GB', 'name': 'United Kingdom'}]   \n",
       "31602     [{'iso_3166_1': 'US', 'name': 'United States o...   \n",
       "...                                                     ...   \n",
       "10698589  [{'iso_3166_1': 'US', 'name': 'United States o...   \n",
       "10698877           [{'iso_3166_1': 'FR', 'name': 'France'}]   \n",
       "10700132      [{'iso_3166_1': 'NL', 'name': 'Netherlands'}]   \n",
       "10702488            [{'iso_3166_1': 'IT', 'name': 'Italy'}]   \n",
       "10702533  [{'iso_3166_1': 'AR', 'name': 'Argentina'}, {'...   \n",
       "\n",
       "                                       production_companies  \n",
       "28768     [{'id': 6, 'logo_path': '/n53F7K9scQWFXYbrCabl...  \n",
       "30799     [{'id': 14197, 'logo_path': None, 'name': 'Bri...  \n",
       "31405     [{'id': 18700, 'logo_path': None, 'name': 'Gra...  \n",
       "31600     [{'id': 659, 'logo_path': None, 'name': 'Londo...  \n",
       "31602     [{'id': 6, 'logo_path': '/n53F7K9scQWFXYbrCabl...  \n",
       "...                                                     ...  \n",
       "10698589  [{'id': 26065, 'logo_path': None, 'name': 'Pis...  \n",
       "10698877  [{'id': 90562, 'logo_path': '/qII3jJQ4S32FgJRl...  \n",
       "10700132  [{'id': 60652, 'logo_path': '/pNlPbnwBkKgZsc2y...  \n",
       "10702488  [{'id': 3110, 'logo_path': '/snpwZMXBOwbLSHqrn...  \n",
       "10702533  [{'id': 6458, 'logo_path': '/eT4oMUK7ODM0vvZue...  \n",
       "\n",
       "[32180 rows x 10 columns]"
      ]
     },
     "execution_count": 131,
     "metadata": {},
     "output_type": "execute_result"
    }
   ],
   "source": [
    "df1"
   ]
  },
  {
   "cell_type": "code",
   "execution_count": 132,
   "id": "808ac4c6",
   "metadata": {},
   "outputs": [],
   "source": [
    "df1.to_pickle('movies2.pkl')"
   ]
  },
  {
   "cell_type": "code",
   "execution_count": null,
   "id": "6a7d58b0",
   "metadata": {},
   "outputs": [],
   "source": []
  }
 ],
 "metadata": {
  "kernelspec": {
   "display_name": "Python 3 (ipykernel)",
   "language": "python",
   "name": "python3"
  },
  "language_info": {
   "codemirror_mode": {
    "name": "ipython",
    "version": 3
   },
   "file_extension": ".py",
   "mimetype": "text/x-python",
   "name": "python",
   "nbconvert_exporter": "python",
   "pygments_lexer": "ipython3",
   "version": "3.11.5"
  }
 },
 "nbformat": 4,
 "nbformat_minor": 5
}
