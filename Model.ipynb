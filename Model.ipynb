{
 "cells": [
  {
   "cell_type": "code",
   "execution_count": 1,
   "id": "d6dde26f",
   "metadata": {},
   "outputs": [],
   "source": [
    "import pandas as pd\n",
    "import numpy as np\n",
    "import matplotlib.pyplot as plt\n",
    "import json \n",
    "import requests\n",
    "import pickle\n",
    "import re\n",
    "import urllib.parse\n",
    "import sys\n",
    "import time\n",
    "from IPython.display import Image\n",
    "from Scrapping import Scraper\n",
    "\n",
    "from sklearn.feature_extraction.text import TfidfVectorizer\n",
    "from sklearn.preprocessing import MinMaxScaler, OneHotEncoder, MultiLabelBinarizer, normalize\n",
    "from sklearn.preprocessing import QuantileTransformer, RobustScaler, StandardScaler\n",
    "from sklearn.metrics.pairwise import cosine_similarity, euclidean_distances\n",
    "from scipy.sparse import csr_matrix\n",
    "from nltk.tokenize import word_tokenize\n",
    "from nltk.stem import PorterStemmer, WordNetLemmatizer\n",
    "pd.set_option('display.max_columns', 25)"
   ]
  },
  {
   "cell_type": "code",
   "execution_count": 2,
   "id": "e8f066fe",
   "metadata": {},
   "outputs": [],
   "source": [
    "f = open(\"token_TMDB.txt\",\"r\")\n",
    "token = f.read()\n",
    "headers = {\"accept\": \"application/json\", \"Authorization\": f\"Bearer {token}\"}"
   ]
  },
  {
   "cell_type": "code",
   "execution_count": 3,
   "id": "f22305f6",
   "metadata": {},
   "outputs": [],
   "source": [
    "data= pickle.load(open('merged.pkl', 'rb'))"
   ]
  },
  {
   "cell_type": "code",
   "execution_count": 4,
   "id": "f8b85c8f",
   "metadata": {},
   "outputs": [],
   "source": [
    "data['director'] = data['director'].str.replace(' ', '_').str.replace(',', ' ')\n",
    "data['writers'] = data['writers'].str.replace(' ', '_').str.replace(',', ' ')\n",
    "data['cast'] = data['cast'].str.replace(' ', '_').str.replace(',', ' ')"
   ]
  },
  {
   "cell_type": "code",
   "execution_count": 5,
   "id": "f0cd0fa8",
   "metadata": {},
   "outputs": [],
   "source": [
    "def get_description(row):\n",
    "    stemmer = PorterStemmer()\n",
    "    lemmatizer = WordNetLemmatizer()\n",
    "\n",
    "    keywords = row['keywords'] if isinstance(row['keywords'], str) else ''\n",
    "    actors = row['cast'] if isinstance(row['cast'], str) else ''\n",
    "    director = row['director'] if isinstance(row['director'], str) else ''\n",
    "    writers = row['writers'] if isinstance(row['writers'], str) else ''\n",
    "    crew = ' '.join([director, writers])\n",
    "    countries = row['production_countries'] if isinstance(row['production_countries'], str) else ''\n",
    "    overview = row['overview'] if isinstance(row['overview'], str) else ''\n",
    "\n",
    "    tokens = word_tokenize(overview)\n",
    "    stemmed_tokens = [stemmer.stem(token) for token in tokens]\n",
    "    lemmatized_tokens = [lemmatizer.lemmatize(token) for token in tokens]\n",
    "\n",
    "    processed_overview_stemmed = ' '.join(stemmed_tokens)\n",
    "    processed_overview_lemmatized = ' '.join(lemmatized_tokens)\n",
    "\n",
    "    description = f\"{keywords} {processed_overview_stemmed} {actors} {crew} {countries}\"\n",
    "\n",
    "    return description\n"
   ]
  },
  {
   "cell_type": "code",
   "execution_count": 6,
   "id": "ccf5cc61",
   "metadata": {},
   "outputs": [],
   "source": [
    "def fetch_movie_details(series, headers):\n",
    "    df_combined = pd.DataFrame()  \n",
    "    for movie_id in series:\n",
    "        url = f\"https://api.themoviedb.org/3/movie/{movie_id}?&append_to_response=keywords,credits,external_ids\"\n",
    "        response = requests.get(url, headers=headers)\n",
    "        if response.status_code == 200:\n",
    "            movie_df, poster, tmdb_id = format_movie_details_tmdb(response)\n",
    "            df_combined = pd.concat([df_combined, movie_df], ignore_index=True)  \n",
    "        else:\n",
    "            print(f\"Failed to fetch details for movie with ID: {movie_id}\")\n",
    "                 \n",
    "    data = df_combined[['id', 'primary_title', 'original_title', 'release_date', 'runtime',\n",
    "                       'keywords', 'overview', 'production_countries', 'average_rating',\n",
    "                       'vote_count', 'genres']].copy()\n",
    "    return data, poster, tmdb_id"
   ]
  },
  {
   "cell_type": "code",
   "execution_count": 7,
   "id": "e93ed66c",
   "metadata": {},
   "outputs": [],
   "source": [
    "def format_movie_details_tmdb(response):\n",
    "    data = response.json()\n",
    "    relevant_data = {\n",
    "        'id': data['external_ids']['imdb_id'],\n",
    "        'primary_title': data['title'],\n",
    "        'original_title': data['original_title'],\n",
    "        'release_date': data['release_date'].split('-')[0],\n",
    "        'runtime': data['runtime'],\n",
    "        'keywords': ' '.join(keyword['name'] for keyword in data['keywords']['keywords']),\n",
    "        'overview': data['overview'],\n",
    "        'production_countries': ' '.join(country['name'].replace(' ', '_') \n",
    "                                         for country in data['production_countries']),\n",
    "        'average_rating': data['vote_average'],\n",
    "        'vote_count': data['vote_count'],\n",
    "        'genres': ' '.join(genre['name'].replace(' ', '_') \n",
    "                                         for genre in data['genres']),\n",
    "    }\n",
    "    poster = data['poster_path']\n",
    "    tmdb_id = data['id']\n",
    "\n",
    "    df = pd.DataFrame([relevant_data])\n",
    "    return df, poster, tmdb_id"
   ]
  },
  {
   "cell_type": "code",
   "execution_count": 50,
   "id": "18303934",
   "metadata": {},
   "outputs": [],
   "source": [
    "def calculate_similarity_matrices(data):\n",
    "    \n",
    "    # Calculate TF-IDF matrix for descriptions\n",
    "    descriptions = data.apply(get_description, axis=1)\n",
    "    vectorizer = TfidfVectorizer(stop_words='english', max_df=0.7, max_features=1000)\n",
    "    tfidf_matrix = vectorizer.fit_transform(descriptions)\n",
    "    similarity_matrix1 = cosine_similarity(tfidf_matrix)\n",
    "\n",
    "    # Calculate similarity matrix for genres\n",
    "    genres = []\n",
    "    for index, row in data.iterrows():\n",
    "        genre = row['genres'].split(' ')\n",
    "        genres.append(genre) \n",
    "\n",
    "    mlb = MultiLabelBinarizer()\n",
    "    genres_mlb = mlb.fit_transform(genres)\n",
    "    family_index = np.where(mlb.classes_ == \"Family\")[0]\n",
    "    animation_index = np.where(mlb.classes_ == \"Animation\")[0]\n",
    "    if animation_index.size > 0:\n",
    "        genres_mlb[:, animation_index] *= 2\n",
    "\n",
    "    if family_index.size > 0:\n",
    "        genres_mlb[:, family_index] *= 2\n",
    "\n",
    "    genres_matrix1 = cosine_similarity(genres_mlb)\n",
    "    np.fill_diagonal(genres_matrix1, 0)\n",
    "\n",
    "    scaler_release_year = MinMaxScaler()\n",
    "    release_year_norm = scaler_release_year.fit_transform(data['release_date'].values.reshape(-1, 1))\n",
    "\n",
    "    scaler_ratings = MinMaxScaler()\n",
    "    ratings_norm = scaler_ratings.fit_transform(data['average_rating'].values.reshape(-1, 1))\n",
    "    ratings_norm_scaled = ratings_norm * 2\n",
    "\n",
    "    scaler_popularity = RobustScaler()\n",
    "    popularity_norm = scaler_popularity.fit_transform(data['vote_count'].values.reshape(-1, 1))\n",
    "    popularity_norm_scaled = popularity_norm * 2\n",
    "\n",
    "    combined_features = np.hstack((release_year_norm, ratings_norm_scaled, popularity_norm_scaled))\n",
    "\n",
    "    popularity_matrix1 = cosine_similarity(combined_features)\n",
    "\n",
    "    return similarity_matrix1, genres_matrix1, popularity_matrix1"
   ]
  },
  {
   "cell_type": "code",
   "execution_count": 75,
   "id": "f92551dd",
   "metadata": {},
   "outputs": [],
   "source": [
    "d = data[(data['average_rating']>6) & (data['vote_count']>5000)]"
   ]
  },
  {
   "cell_type": "code",
   "execution_count": 76,
   "id": "9c544305",
   "metadata": {},
   "outputs": [
    {
     "name": "stdout",
     "output_type": "stream",
     "text": [
      "CPU times: user 10.3 s, sys: 3 s, total: 13.3 s\n",
      "Wall time: 8.29 s\n"
     ]
    }
   ],
   "source": [
    "%%time\n",
    "similarity_matrix2, genres_matrix2, popularity_matrix2 = calculate_similarity_matrices(d)"
   ]
  },
  {
   "cell_type": "code",
   "execution_count": 85,
   "id": "2bc47830",
   "metadata": {},
   "outputs": [],
   "source": [
    "def movie_recommender_weighted(movie_id, data, similarity_matrix, genre_matrix, \n",
    "                               popularity_matrix, top_n=3, genre_weight=0.2):\n",
    "    # Find movie index\n",
    "    movie_index = np.where(data['id'] == movie_id)[0]\n",
    "    if len(movie_index) == 0:\n",
    "        print(\"Movie ID not found.\")\n",
    "        return []\n",
    "\n",
    "    movie_index = movie_index[0]\n",
    "\n",
    "    # Calculate combined scores efficiently using array operations\n",
    "    similarity_scores = similarity_matrix[movie_index]\n",
    "    genre_scores = genre_matrix[movie_index]\n",
    "    popularity_scores = popularity_matrix[movie_index]\n",
    "    combined_scores = ((0.65 - genre_weight) * similarity_scores + \n",
    "                       genre_weight * genre_scores + 0.35 * popularity_scores)\n",
    "\n",
    "    # Exclude the movie itself from recommendations\n",
    "    combined_scores[movie_index] = -np.inf\n",
    "\n",
    "    # Get indices of top similar movies\n",
    "    top_indices = np.argpartition(combined_scores, -top_n)[-top_n:]\n",
    "\n",
    "    # Get movie titles based on indices\n",
    "    similar_movies = data.iloc[top_indices]['primary_title']\n",
    "\n",
    "    return similar_movies.tolist()"
   ]
  },
  {
   "cell_type": "code",
   "execution_count": 86,
   "id": "3048a2a4",
   "metadata": {},
   "outputs": [
    {
     "data": {
      "text/plain": [
       "['Independence Day',\n",
       " 'Star Trek Insurrection',\n",
       " 'Star Wars Episode V The Empire Strikes Back',\n",
       " 'Moonraker',\n",
       " 'Stargate',\n",
       " 'Dune',\n",
       " 'Rogue One A Star Wars Story',\n",
       " 'Star Wars Episode VIII The Last Jedi',\n",
       " 'Aliens',\n",
       " 'Valerian and the City of a Thousand Planets']"
      ]
     },
     "execution_count": 86,
     "metadata": {},
     "output_type": "execute_result"
    }
   ],
   "source": [
    "movie_recommender_weighted('tt0499549', d, similarity_matrix2, genres_matrix2, popularity_matrix2,top_n=10)"
   ]
  },
  {
   "cell_type": "code",
   "execution_count": 87,
   "id": "8e0b0be9",
   "metadata": {},
   "outputs": [
    {
     "data": {
      "text/plain": [
       "['The Terminator',\n",
       " 'The Matrix Reloaded',\n",
       " 'The Day After Tomorrow',\n",
       " 'Total Recall',\n",
       " 'Escape from New York',\n",
       " 'Waterworld',\n",
       " 'Terminator Salvation',\n",
       " 'Armageddon',\n",
       " 'Jurassic World Fallen Kingdom',\n",
       " 'San Andreas']"
      ]
     },
     "execution_count": 87,
     "metadata": {},
     "output_type": "execute_result"
    }
   ],
   "source": [
    "movie_recommender_weighted('tt1375666', d, similarity_matrix2, genres_matrix2, popularity_matrix2,top_n=10)"
   ]
  },
  {
   "cell_type": "code",
   "execution_count": 88,
   "id": "0fb5eafd",
   "metadata": {},
   "outputs": [
    {
     "data": {
      "text/plain": [
       "['The Witches',\n",
       " 'Hugo',\n",
       " 'Where the Wild Things Are',\n",
       " 'Paddington 2',\n",
       " 'Mary Poppins Returns',\n",
       " 'Charlie and the Chocolate Factory',\n",
       " 'Peter Pan',\n",
       " 'Mary Poppins',\n",
       " 'Charlotte s Web',\n",
       " 'Night at the Museum']"
      ]
     },
     "execution_count": 88,
     "metadata": {},
     "output_type": "execute_result"
    }
   ],
   "source": [
    "movie_recommender_weighted('tt1109624', d, similarity_matrix2, genres_matrix2, popularity_matrix2,top_n=10)"
   ]
  },
  {
   "cell_type": "code",
   "execution_count": 89,
   "id": "1f757bd9",
   "metadata": {},
   "outputs": [],
   "source": [
    "def final_recommender(data):\n",
    "    title = input('Enter a movie name: ')\n",
    "    url = f\"https://api.themoviedb.org/3/search/movie?query={title}&include_adult=false&language=en-US&page=1\"\n",
    "    res = requests.get(url, headers=headers).json()\n",
    "    weight = 0.2\n",
    "    n = 3\n",
    "    if res and 'results' in res and len(res['results']) > 0:\n",
    "        release_year = res['results'][0]['release_date'].split('-')[0]\n",
    "        print('The movie entered:')\n",
    "        print(res['results'][0]['title'],'-',release_year)\n",
    "        print('\\nSearching database...')\n",
    "        movie_id = res['results'][0]['id']\n",
    "        url2 = f\"https://api.themoviedb.org/3/movie/{movie_id}/external_ids\"\n",
    "        res2 = requests.get(url2, headers=headers).json()\n",
    "        imdb_id = res2['imdb_id']\n",
    "        \n",
    "        if imdb_id in data['id'].values:\n",
    "            if not ((data[data['id'] == imdb_id]['average_rating'] > 6) & \n",
    "                    (data[data['id'] == imdb_id]['vote_count'] > 5000)).any():\n",
    "                    data = pd.concat([data[(data['average_rating'] > 6) & (data['vote_count'] > 5000)]\n",
    "                                      , data[(data['id'] == imdb_id)]])\n",
    "            else:\n",
    "                data = data[(data['average_rating'] > 6) & (data['vote_count'] > 5000)]\n",
    "            \n",
    "            similarity, genre, popularity = calculate_similarity_matrices(data)\n",
    "            recommended = movie_recommender_weighted(imdb_id, data, \n",
    "                                                     similarity, genre, popularity,\n",
    "                                                     top_n=n, genre_weight=weight)\n",
    "\n",
    "            print(f\"\\nMovies similar to '{res['results'][0]['title']}':\")\n",
    "            \n",
    "            for i, title in enumerate(recommended, start=1):\n",
    "                print(f\"{i}. {title}\")\n",
    "                rec_id = data[data['primary_title'] == title]['id'].values[0]\n",
    "                rec_res, poster, tmdb_id = fetch_movie_details([rec_id],headers)\n",
    "                if not rec_res.empty: \n",
    "                    poster_url = 'https://image.tmdb.org/t/p/original'+ poster\n",
    "                    display(Image(url=poster_url, width=200, height=300))\n",
    "                lttx = 'https://letterboxd.com/tmdb/'+str(tmdb_id)\n",
    "                imdb = 'https://www.imdb.com/title/'+str(rec_id)\n",
    "                print('IMDB link:')\n",
    "                print(imdb)\n",
    "                print(f'Overview:\\n\\n{rec_res[\"overview\"].values[0]}')\n",
    "                print(f'\\nMost popular reviews on Letterboxd about {title}:\\n')\n",
    "                reviews = Scraper.get_reviews_from_link(lttx, num_reviews=3)\n",
    "                for review in reviews:\n",
    "                    print(review)\n",
    "                    print('\\n')\n",
    "                    time.sleep(0.5)\n",
    "                    \n",
    "        else:\n",
    "            print(f\"We couldn't find {title} in the database. Please try another movie. \")\n",
    "\n",
    "    else: \n",
    "        print(f\"We couldn't find {title} in the database. Please check if there is a spelling mistake.\")"
   ]
  },
  {
   "cell_type": "code",
   "execution_count": 90,
   "id": "1fe75b39",
   "metadata": {
    "scrolled": false
   },
   "outputs": [
    {
     "name": "stdout",
     "output_type": "stream",
     "text": [
      "Enter a movie name: I care a lot\n",
      "The movie entered:\n",
      "I Care a Lot - 2021\n",
      "\n",
      "Searching database...\n",
      "\n",
      "Movies similar to 'I Care a Lot':\n",
      "1. Promising Young Woman\n"
     ]
    },
    {
     "data": {
      "text/html": [
       "<img src=\"https://image.tmdb.org/t/p/original/73QoFJFmUrJfDG2EynFjNc5gJxk.jpg\" width=\"200\" height=\"300\"/>"
      ],
      "text/plain": [
       "<IPython.core.display.Image object>"
      ]
     },
     "metadata": {},
     "output_type": "display_data"
    },
    {
     "name": "stdout",
     "output_type": "stream",
     "text": [
      "IMDB link:\n",
      "https://www.imdb.com/title/tt9620292\n",
      "Overview:\n",
      "\n",
      "A young woman, traumatized by a tragic event in her past, seeks out vengeance against those who crossed her path.\n",
      "\n",
      "Most popular reviews on Letterboxd about Promising Young Woman:\n",
      "\n",
      "\"I AM AWAKE IN THE PLACE WHERE WOMEN DIE.\" -- Jenny Holzerbeen thinking about what to write about this one for the past couple of weeks. i can see why some hate it and why some love it, and after hours of reflection i've come to the earth-shattering conclusion that... it is just okay! the title \"promising young woman\" itself is a reference to how the media called rapist brock turner a \"promising young man.\" many know brock turner,…\n",
      "\n",
      "\n",
      "if anything is as disgusting and incomprehensible as rape, it's prison — virginie despentesa sentient reductress headline, a complete con job, a “rape-revenge” movie where two women are dead by the end but don’t worry the um - the cops will take care of this???? this is a perfect thriller for the #metoo era or whatever indiewire bullshit is out there rn - seeing as metoo was recuperated into an ineffectual marketing tool by a liberal establishment that will…\n",
      "\n",
      "\n",
      "the outer layer is a bright candy coated shell, but peeling that back reveals the inside as hollow. i don’t have negative feelings about the ending (or the film as a whole) the way some do, actually i enjoyed it until it was almost over. but then the bad taste it left behind immediately started creeping in. as a complete picture it just feels like a bunch of gotcha moments that lack a certain kind of empathy for the subject…\n",
      "\n",
      "\n",
      "2. Killer Joe\n"
     ]
    },
    {
     "data": {
      "text/html": [
       "<img src=\"https://image.tmdb.org/t/p/original/bu46QECM8bKhB0e2eYkCm0ckXUu.jpg\" width=\"200\" height=\"300\"/>"
      ],
      "text/plain": [
       "<IPython.core.display.Image object>"
      ]
     },
     "metadata": {},
     "output_type": "display_data"
    },
    {
     "name": "stdout",
     "output_type": "stream",
     "text": [
      "IMDB link:\n",
      "https://www.imdb.com/title/tt1726669\n",
      "Overview:\n",
      "\n",
      "A cop who moonlights as a hit man agrees to kill the hated mother of a desperate drug dealer in exchange for a tumble with the young man's virginal sister.\n",
      "\n",
      "Most popular reviews on Letterboxd about Killer Joe:\n",
      "\n",
      "Matthew fuckin' McConaughey stars in the Southern-fried-gothic-trailer-park tale of Joe fuckin' Cooper, a cop who also happens to be a fuckin' psychopath and a killer for hire. Bush at the door. A sideways-dad. T-Bone the dog loves to bark. Strobe-light-stripper-tits. A fool-proof plan. Emile Hirsch plays stupid-as-fuck almost too well. Sleeptalking in the rain. Dreaming of your sister practicing Kung-fu in the nude. The simple-slow-sexy Juno Temple. Magnum P.I. is not a real person. Playing a serious fuckin' game with…\n",
      "\n",
      "\n",
      "Friedkin and Tracy Letts do Jim Thompson as a sordid, drunken Southern Gothic chamber drama/extreme white trash KFC-noir/Coen crime-gone-wrong farce where the dumbest, most selfish family ever conceived of get mixed up with a filthy Texas cop-hitman (they can’t afford to hire) to pay off some debts. McConaughey’s performance—which is halfway between what he would eventually turn into Rust Cohle + the intensely exaggerated hillbilly freak he played in whatever Texas Chainsaw sequel he was in—and the uncomfortable, grisly climax…\n",
      "\n",
      "\n",
      "Takes the cake as for as the phrase beyond disturbing goes, this is a lurid evil comedy soaked in a rainy methneck trailer park oasis. No one in this movie is mailing it in and McConaughey’s southern gothic Patrick Bateman is beyond frightening as he absolutely pulverizes the screen…. elevating everyone around him to heights they may never reach again as thespians—the last act of this movie is a goddamn clinic of William Friedkin’s continued explorations into inducing sheer terror.Friedkin is diabolical.K fry C.\n",
      "\n",
      "\n",
      "3. Joker\n"
     ]
    },
    {
     "data": {
      "text/html": [
       "<img src=\"https://image.tmdb.org/t/p/original/udDclJoHjfjb8Ekgsd4FDteOkCU.jpg\" width=\"200\" height=\"300\"/>"
      ],
      "text/plain": [
       "<IPython.core.display.Image object>"
      ]
     },
     "metadata": {},
     "output_type": "display_data"
    },
    {
     "name": "stdout",
     "output_type": "stream",
     "text": [
      "IMDB link:\n",
      "https://www.imdb.com/title/tt7286456\n",
      "Overview:\n",
      "\n",
      "During the 1980s, a failed stand-up comedian is driven insane and turns to a life of crime and chaos in Gotham City while becoming an infamous psychopathic crime figure.\n",
      "\n",
      "Most popular reviews on Letterboxd about Joker:\n",
      "\n",
      "if you’ve never swam in the ocean then of course a pool seems deep.\n",
      "\n",
      "\n",
      "bad because -he never said joker’s trick-super-rats mentioned but never expanded on -i know the gf was a fantasy but they still made us watch him kiss her. don’t like the implication that joker fucks -posits people with mental illness as unhinged murderers when really we just want to lay in bed amidst our snack food wrappers forever -willfully ignorant + fundamental misunderstanding of revolution/ANTIFA (how are you gonna say your film “isn’t political” when characters are carrying signs…\n",
      "\n",
      "\n",
      "Todd Phillips’ “Joker” is unquestionably the boldest reinvention of “superhero” cinema since “The Dark Knight”; a true original that’s sure to be remembered as one of the most transgressive studio blockbusters of the 21st Century. It’s also a toxic rallying cry for self-pitying incels, and a hyper-familiar origin story so indebted to “Taxi Driver” and “The King of Comedy” that Martin Scorsese probably deserves an executive producer credit. It’s possessed by the kind of provocative spirit that’s seldom found in…\n",
      "\n",
      "\n"
     ]
    }
   ],
   "source": [
    "final_recommender(data)"
   ]
  },
  {
   "cell_type": "code",
   "execution_count": null,
   "id": "11c2e92c",
   "metadata": {},
   "outputs": [],
   "source": [
    "# def get_companies(data, separator=' '):\n",
    "#     companies = []\n",
    "#     for company in data:\n",
    "#         if company['name']:\n",
    "#             company = format_name(company['name'])\n",
    "#             companies.append(company)\n",
    "#     if companies:\n",
    "#         return separator.join(companies)\n",
    "#     else:\n",
    "#         return ''\n"
   ]
  },
  {
   "cell_type": "code",
   "execution_count": null,
   "id": "c449e77b",
   "metadata": {},
   "outputs": [],
   "source": [
    "# def movie_recommender_weighted(movie_id, data, similarity_matrix, genre_matrix, production_matrix, top_n=3, genre_weight=0.3, production_weight=0.005):\n",
    "    \n",
    "#     movie_index = data.index[data['id'] == movie_id].tolist()[0]\n",
    "#     similarity_scores = similarity_matrix[movie_index]\n",
    "#     genre_scores = genre_matrix[movie_index]\n",
    "#     production_scores = production_matrix[movie_index]\n",
    "\n",
    "#     combined_scores = (1 - genre_weight - production_weight) * similarity_scores + genre_weight * genre_scores + production_weight * production_scores\n",
    "\n",
    "#     indices = np.argsort(combined_scores)[::-1]\n",
    "#     indices = indices[indices != movie_index]\n",
    "    \n",
    "#     top_indices = indices[:top_n]\n",
    "#     similar_movies = data.iloc[top_indices]['title']\n",
    "    \n",
    "#     movies = similar_movies.tolist()\n",
    "    \n",
    "#     return movies\n"
   ]
  },
  {
   "cell_type": "code",
   "execution_count": null,
   "id": "e468f680",
   "metadata": {},
   "outputs": [],
   "source": [
    "# def preprocess_data(data):\n",
    "#     required_cols = ['genres', 'keywords', 'popularity', 'release_date', 'vote_average', 'cast', 'crew']\n",
    "#     for col in required_cols:\n",
    "#         if col not in data.columns:\n",
    "#             raise ValueError(f\"Column '{col}' is missing in the DataFrame.\")\n",
    "\n",
    "#     # Preprocess descriptions\n",
    "#     descriptions = [get_description(row) for _, row in data.iterrows()]\n",
    "#     vectorizer = TfidfVectorizer()\n",
    "#     tfidf = vectorizer.fit_transform(descriptions)\n",
    "\n",
    "#     # Normalize numerical features\n",
    "#     scaler = MinMaxScaler()\n",
    "#     popularity_norm = scaler.fit_transform(data['popularity'].values.reshape(-1, 1))\n",
    "    \n",
    "#     release_years = []\n",
    "#     for date_str in data['release_date']:\n",
    "#         if pd.isnull(date_str):\n",
    "#             release_years.append(datetime.now().year)\n",
    "#         else:\n",
    "#             if isinstance(date_str, str):\n",
    "#                 if '-' in date_str:\n",
    "#                     date_str = date_str.split('-')[0]\n",
    "#                 release_years.append(int(date_str))\n",
    "#             elif isinstance(date_str, int):\n",
    "#                 release_years.append(date_str)\n",
    "#             else:\n",
    "#                 raise ValueError(\"Invalid release date format.\")\n",
    "                \n",
    "#     release_year_norm = scaler.fit_transform(np.array(release_years).reshape(-1, 1))\n",
    "#     ratings_norm = scaler.fit_transform(data['vote_average'].values.reshape(-1, 1))\n",
    "\n",
    "#     # Combine numerical features with TF-IDF vectors\n",
    "#     combined = np.hstack((tfidf.toarray(), popularity_norm, release_year_norm, ratings_norm))\n",
    "#     similarity_matrix = cosine_similarity(combined)\n",
    "\n",
    "#     # Preprocess genres\n",
    "#     genres = [get_genres(row) for _, row in data.iterrows()]\n",
    "#     mlb = MultiLabelBinarizer()\n",
    "#     genre_encoded = mlb.fit_transform(genres)\n",
    "#     genre_matrix = cosine_similarity(genre_encoded)\n",
    "#     np.fill_diagonal(genre_matrix, 0)\n",
    "\n",
    "#     # Preprocess production details\n",
    "#     productions_countries = []\n",
    "#     countries = []\n",
    "\n",
    "#     for index, row in data.iterrows():\n",
    "#         production_countries =json.loads(row['production_countries'])\n",
    "#         country = get_countries(production_countries)\n",
    "#         countries.append(country)\n",
    "\n",
    "#     unique_countries = set()\n",
    "#     for country in countries:\n",
    "#         if country:\n",
    "#             unique_countries.update(country)\n",
    "\n",
    "    \n",
    "#     countries_mlb = MultiLabelBinarizer(classes=sorted(unique_countries))\n",
    "#     countries_enc = countries_mlb.fit_transform(countries)\n",
    "#     production_matrix = cosine_similarity(countries_enc)\n",
    "\n",
    "#     return similarity_matrix, genre_matrix, production_matrix"
   ]
  },
  {
   "cell_type": "code",
   "execution_count": null,
   "id": "338c2833",
   "metadata": {},
   "outputs": [],
   "source": [
    "# title = 'paddington'\n",
    "# url = f\"https://api.themoviedb.org/3/search/movie?query={title}&include_adult=false&language=en-US&page=1\"\n",
    "# res = requests.get(url, headers=headers).json()\n",
    "# if res['results']:\n",
    "#     release_year = res['results'][0]['release_date'].split('-')[0]\n",
    "#     print('The movie entered: \\n')\n",
    "#     print(res['results'][0]['title'],'-',release_year)\n",
    "#     print('Searching our database...')\n",
    "#     movie_id = res['results'][0]['id']\n",
    "#     similarity_matrix, genre_matrix, production_matrix = preprocess_data(data)\n",
    "#     recommended = movie_recommender_weighted(movie_id, data, \n",
    "#                                              similarity_matrix, genre_matrix, production_matrix,\n",
    "#                                              top_n=3, genre_weight=0.3, production_weight=0.2)\n",
    "    \n",
    "#     print(f\"Movies similar to '{res['results'][0]['title']}':\")\n",
    "#     for title in recommended:\n",
    "#         print(f\"- {title}\")\n",
    "    "
   ]
  },
  {
   "cell_type": "code",
   "execution_count": null,
   "id": "190ff3f0",
   "metadata": {},
   "outputs": [],
   "source": []
  },
  {
   "cell_type": "code",
   "execution_count": null,
   "id": "779e1a73",
   "metadata": {},
   "outputs": [],
   "source": [
    "# firsttry = movie_recommender_weighted(data.iloc[842]['id'], data, similarity_matrix, genres_matrix)\n",
    "# print(f\"Movies similar to '{data.iloc[842]['title']}':\")\n",
    "# for title in firsttry:\n",
    "#     print(f\"- {title}\")"
   ]
  },
  {
   "cell_type": "code",
   "execution_count": null,
   "id": "9e9b5853",
   "metadata": {},
   "outputs": [],
   "source": [
    "# def movie_recommender(movie_id, data, similarity_matrix, top_n=5):\n",
    "    \n",
    "#     movie_index = data.index[data['id'] == movie_id].tolist()[0]\n",
    "#     similarity_scores = similarity_matrix[movie_index]\n",
    "    \n",
    "#     # Get indices of movies sorted by similarity BUT REMOVE ITSELF\n",
    "#     indices = np.argsort(similarity_scores)[::-1]\n",
    "#     indices = indices[indices != movie_index]\n",
    "    \n",
    "#     top_indices = indices[:top_n]\n",
    "#     similar_movies = data.iloc[top_indices]['title']\n",
    "    \n",
    "#     return similar_movies.tolist()"
   ]
  },
  {
   "cell_type": "code",
   "execution_count": null,
   "id": "25080353",
   "metadata": {},
   "outputs": [],
   "source": [
    "# firsttry = movie_recommender(data.iloc[842]['id'], data, similarity_matrix)\n",
    "# print(f\"Movies similar to '{data[data['id'] == data.iloc[842]['id']]['title'].values[0]}':\")\n",
    "# for title in firsttry:\n",
    "#     print(f\"- {title}\")"
   ]
  }
 ],
 "metadata": {
  "kernelspec": {
   "display_name": "Python 3 (ipykernel)",
   "language": "python",
   "name": "python3"
  },
  "language_info": {
   "codemirror_mode": {
    "name": "ipython",
    "version": 3
   },
   "file_extension": ".py",
   "mimetype": "text/x-python",
   "name": "python",
   "nbconvert_exporter": "python",
   "pygments_lexer": "ipython3",
   "version": "3.11.5"
  }
 },
 "nbformat": 4,
 "nbformat_minor": 5
}
