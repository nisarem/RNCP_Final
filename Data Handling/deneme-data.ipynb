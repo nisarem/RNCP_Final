{
 "cells": [
  {
   "cell_type": "code",
   "execution_count": 1,
   "id": "33253006",
   "metadata": {},
   "outputs": [],
   "source": [
    "import pandas as pd\n",
    "import numpy as np\n",
    "import seaborn as sns\n",
    "import matplotlib.pyplot as plt\n",
    "\n",
    "import requests\n",
    "import pickle\n",
    "from bs4 import BeautifulSoup\n",
    "from scrapy import Selector\n",
    "import threading"
   ]
  },
  {
   "cell_type": "code",
   "execution_count": 2,
   "id": "69aaf606",
   "metadata": {},
   "outputs": [],
   "source": [
    "file_paths = ['name.basics.tsv',\n",
    "              'title.akas.tsv',\n",
    "              'title.basics.tsv',\n",
    "              'title.crew.tsv',\n",
    "              'title.principals.tsv',\n",
    "              'title.ratings.tsv']"
   ]
  },
  {
   "cell_type": "code",
   "execution_count": 3,
   "id": "68810cdf",
   "metadata": {},
   "outputs": [
    {
     "name": "stdout",
     "output_type": "stream",
     "text": [
      "name_basics\n",
      "title_akas\n",
      "title_basics\n",
      "title_crew\n",
      "title_principals\n",
      "title_ratings\n"
     ]
    }
   ],
   "source": [
    "file_names=[]\n",
    "for item in file_paths:\n",
    "    file_name = item.split('.', 2)[0] + '_' + item.split('.', 2)[1]\n",
    "    file_names.append(file_name)\n",
    "    print(file_name)\n",
    "    df = pd.read_csv(item, sep='\\t', low_memory=False, na_values=[\"\\\\N\", \"nan\"])\n",
    "    with open(file_name + '.pkl', 'wb') as f:\n",
    "        pickle.dump(df, f)"
   ]
  },
  {
   "cell_type": "code",
   "execution_count": 4,
   "id": "0a02f868",
   "metadata": {},
   "outputs": [
    {
     "data": {
      "text/plain": [
       "['name_basics',\n",
       " 'title_akas',\n",
       " 'title_basics',\n",
       " 'title_crew',\n",
       " 'title_principals',\n",
       " 'title_ratings']"
      ]
     },
     "execution_count": 4,
     "metadata": {},
     "output_type": "execute_result"
    }
   ],
   "source": [
    "file_names"
   ]
  },
  {
   "cell_type": "code",
   "execution_count": 6,
   "id": "4072b2f8",
   "metadata": {},
   "outputs": [],
   "source": [
    "loaded = pickle.load(open('title_basics.pkl', 'rb'))\n",
    "df = loaded[loaded['titleType'] == 'movie']"
   ]
  },
  {
   "cell_type": "code",
   "execution_count": 9,
   "id": "fd0bdaab",
   "metadata": {},
   "outputs": [
    {
     "data": {
      "text/plain": [
       "tconst            False\n",
       "titleType         False\n",
       "primaryTitle       True\n",
       "originalTitle      True\n",
       "isAdult           False\n",
       "startYear          True\n",
       "endYear            True\n",
       "runtimeMinutes     True\n",
       "genres             True\n",
       "dtype: bool"
      ]
     },
     "execution_count": 9,
     "metadata": {},
     "output_type": "execute_result"
    }
   ],
   "source": [
    "df.isna().any()"
   ]
  },
  {
   "cell_type": "code",
   "execution_count": 12,
   "id": "926c4c47",
   "metadata": {},
   "outputs": [
    {
     "data": {
      "text/plain": [
       "['name_basics',\n",
       " 'title_akas',\n",
       " 'title_basics',\n",
       " 'title_crew',\n",
       " 'title_principals',\n",
       " 'title_ratings']"
      ]
     },
     "execution_count": 12,
     "metadata": {},
     "output_type": "execute_result"
    }
   ],
   "source": [
    "file_names"
   ]
  },
  {
   "cell_type": "code",
   "execution_count": 14,
   "id": "e296710d",
   "metadata": {},
   "outputs": [
    {
     "name": "stdout",
     "output_type": "stream",
     "text": [
      "DataFrame for name_basics does not contain 'titleType' column.\n",
      "DataFrame for title_akas does not contain 'titleType' column.\n",
      "DataFrame for title_basics loaded and filtered for movies.\n",
      "DataFrame for title_crew does not contain 'titleType' column.\n",
      "DataFrame for title_principals does not contain 'titleType' column.\n",
      "DataFrame for title_ratings does not contain 'titleType' column.\n",
      "DataFrame name: name_basics, Shape: (13318669, 6)\n",
      "DataFrame name: title_akas, Shape: (38852244, 8)\n",
      "DataFrame name: title_basics, Shape: (673650, 9)\n",
      "DataFrame name: title_crew, Shape: (10606348, 3)\n",
      "DataFrame name: title_principals, Shape: (60777373, 6)\n",
      "DataFrame name: title_ratings, Shape: (1410562, 3)\n"
     ]
    }
   ],
   "source": [
    "data_frames = {}  # Dictionary to store DataFrames\n",
    "\n",
    "for file_name in file_names:\n",
    "    # Construct the file name\n",
    "    file_path = file_name + '.pkl'\n",
    "\n",
    "    # Load the pickle file\n",
    "    loaded = pickle.load(open(file_path, 'rb'))\n",
    "\n",
    "    # Assuming 'titleType' column exists in your DataFrame\n",
    "    if 'titleType' in loaded.columns:\n",
    "        # Filter the DataFrame where 'titleType' equals 'movie'\n",
    "        data_frames[file_name] = loaded[loaded['titleType'] == 'movie']\n",
    "\n",
    "        # Now you can work with the DataFrame stored in the dictionary\n",
    "        print(f\"DataFrame for {file_name} loaded and filtered for movies.\")\n",
    "    else:\n",
    "        print(f\"DataFrame for {file_name} does not contain 'titleType' column.\")\n",
    "        data_frames[file_name] = loaded\n",
    "\n",
    "# Now you can access each DataFrame using its corresponding file name\n",
    "for file_name, df in data_frames.items():\n",
    "    print(f\"DataFrame name: {file_name}, Shape: {df.shape}\")\n"
   ]
  },
  {
   "cell_type": "code",
   "execution_count": 18,
   "id": "1b3ac5cb",
   "metadata": {},
   "outputs": [
    {
     "data": {
      "text/plain": [
       "dict_keys(['name_basics', 'title_akas', 'title_basics', 'title_crew', 'title_principals', 'title_ratings'])"
      ]
     },
     "execution_count": 18,
     "metadata": {},
     "output_type": "execute_result"
    }
   ],
   "source": [
    "data_frames.keys()"
   ]
  },
  {
   "cell_type": "code",
   "execution_count": 20,
   "id": "69c721ca",
   "metadata": {},
   "outputs": [],
   "source": [
    "actors = data_frames['name_basics']"
   ]
  },
  {
   "cell_type": "code",
   "execution_count": 21,
   "id": "45945d32",
   "metadata": {},
   "outputs": [
    {
     "data": {
      "text/html": [
       "<div>\n",
       "<style scoped>\n",
       "    .dataframe tbody tr th:only-of-type {\n",
       "        vertical-align: middle;\n",
       "    }\n",
       "\n",
       "    .dataframe tbody tr th {\n",
       "        vertical-align: top;\n",
       "    }\n",
       "\n",
       "    .dataframe thead th {\n",
       "        text-align: right;\n",
       "    }\n",
       "</style>\n",
       "<table border=\"1\" class=\"dataframe\">\n",
       "  <thead>\n",
       "    <tr style=\"text-align: right;\">\n",
       "      <th></th>\n",
       "      <th>nconst</th>\n",
       "      <th>primaryName</th>\n",
       "      <th>birthYear</th>\n",
       "      <th>deathYear</th>\n",
       "      <th>primaryProfession</th>\n",
       "      <th>knownForTitles</th>\n",
       "    </tr>\n",
       "  </thead>\n",
       "  <tbody>\n",
       "    <tr>\n",
       "      <th>0</th>\n",
       "      <td>nm0000001</td>\n",
       "      <td>Fred Astaire</td>\n",
       "      <td>1899.0</td>\n",
       "      <td>1987.0</td>\n",
       "      <td>soundtrack,actor,miscellaneous</td>\n",
       "      <td>tt0050419,tt0072308,tt0053137,tt0027125</td>\n",
       "    </tr>\n",
       "    <tr>\n",
       "      <th>1</th>\n",
       "      <td>nm0000002</td>\n",
       "      <td>Lauren Bacall</td>\n",
       "      <td>1924.0</td>\n",
       "      <td>2014.0</td>\n",
       "      <td>actress,soundtrack</td>\n",
       "      <td>tt0075213,tt0117057,tt0038355,tt0037382</td>\n",
       "    </tr>\n",
       "    <tr>\n",
       "      <th>2</th>\n",
       "      <td>nm0000003</td>\n",
       "      <td>Brigitte Bardot</td>\n",
       "      <td>1934.0</td>\n",
       "      <td>NaN</td>\n",
       "      <td>actress,soundtrack,music_department</td>\n",
       "      <td>tt0049189,tt0054452,tt0056404,tt0057345</td>\n",
       "    </tr>\n",
       "    <tr>\n",
       "      <th>3</th>\n",
       "      <td>nm0000004</td>\n",
       "      <td>John Belushi</td>\n",
       "      <td>1949.0</td>\n",
       "      <td>1982.0</td>\n",
       "      <td>actor,soundtrack,writer</td>\n",
       "      <td>tt0072562,tt0080455,tt0078723,tt0077975</td>\n",
       "    </tr>\n",
       "    <tr>\n",
       "      <th>4</th>\n",
       "      <td>nm0000005</td>\n",
       "      <td>Ingmar Bergman</td>\n",
       "      <td>1918.0</td>\n",
       "      <td>2007.0</td>\n",
       "      <td>writer,director,actor</td>\n",
       "      <td>tt0083922,tt0069467,tt0050976,tt0050986</td>\n",
       "    </tr>\n",
       "    <tr>\n",
       "      <th>...</th>\n",
       "      <td>...</td>\n",
       "      <td>...</td>\n",
       "      <td>...</td>\n",
       "      <td>...</td>\n",
       "      <td>...</td>\n",
       "      <td>...</td>\n",
       "    </tr>\n",
       "    <tr>\n",
       "      <th>13318664</th>\n",
       "      <td>nm9993714</td>\n",
       "      <td>Romeo del Rosario</td>\n",
       "      <td>NaN</td>\n",
       "      <td>NaN</td>\n",
       "      <td>animation_department,art_department</td>\n",
       "      <td>tt14069590,tt11657662,tt2455546</td>\n",
       "    </tr>\n",
       "    <tr>\n",
       "      <th>13318665</th>\n",
       "      <td>nm9993716</td>\n",
       "      <td>Essias Loberg</td>\n",
       "      <td>NaN</td>\n",
       "      <td>NaN</td>\n",
       "      <td>NaN</td>\n",
       "      <td>NaN</td>\n",
       "    </tr>\n",
       "    <tr>\n",
       "      <th>13318666</th>\n",
       "      <td>nm9993717</td>\n",
       "      <td>Harikrishnan Rajan</td>\n",
       "      <td>NaN</td>\n",
       "      <td>NaN</td>\n",
       "      <td>cinematographer</td>\n",
       "      <td>tt8736744</td>\n",
       "    </tr>\n",
       "    <tr>\n",
       "      <th>13318667</th>\n",
       "      <td>nm9993718</td>\n",
       "      <td>Aayush Nair</td>\n",
       "      <td>NaN</td>\n",
       "      <td>NaN</td>\n",
       "      <td>cinematographer</td>\n",
       "      <td>tt8736744</td>\n",
       "    </tr>\n",
       "    <tr>\n",
       "      <th>13318668</th>\n",
       "      <td>nm9993719</td>\n",
       "      <td>Andre Hill</td>\n",
       "      <td>NaN</td>\n",
       "      <td>NaN</td>\n",
       "      <td>NaN</td>\n",
       "      <td>NaN</td>\n",
       "    </tr>\n",
       "  </tbody>\n",
       "</table>\n",
       "<p>13318669 rows × 6 columns</p>\n",
       "</div>"
      ],
      "text/plain": [
       "             nconst         primaryName  birthYear  deathYear  \\\n",
       "0         nm0000001        Fred Astaire     1899.0     1987.0   \n",
       "1         nm0000002       Lauren Bacall     1924.0     2014.0   \n",
       "2         nm0000003     Brigitte Bardot     1934.0        NaN   \n",
       "3         nm0000004        John Belushi     1949.0     1982.0   \n",
       "4         nm0000005      Ingmar Bergman     1918.0     2007.0   \n",
       "...             ...                 ...        ...        ...   \n",
       "13318664  nm9993714   Romeo del Rosario        NaN        NaN   \n",
       "13318665  nm9993716       Essias Loberg        NaN        NaN   \n",
       "13318666  nm9993717  Harikrishnan Rajan        NaN        NaN   \n",
       "13318667  nm9993718         Aayush Nair        NaN        NaN   \n",
       "13318668  nm9993719          Andre Hill        NaN        NaN   \n",
       "\n",
       "                            primaryProfession  \\\n",
       "0              soundtrack,actor,miscellaneous   \n",
       "1                          actress,soundtrack   \n",
       "2         actress,soundtrack,music_department   \n",
       "3                     actor,soundtrack,writer   \n",
       "4                       writer,director,actor   \n",
       "...                                       ...   \n",
       "13318664  animation_department,art_department   \n",
       "13318665                                  NaN   \n",
       "13318666                      cinematographer   \n",
       "13318667                      cinematographer   \n",
       "13318668                                  NaN   \n",
       "\n",
       "                                   knownForTitles  \n",
       "0         tt0050419,tt0072308,tt0053137,tt0027125  \n",
       "1         tt0075213,tt0117057,tt0038355,tt0037382  \n",
       "2         tt0049189,tt0054452,tt0056404,tt0057345  \n",
       "3         tt0072562,tt0080455,tt0078723,tt0077975  \n",
       "4         tt0083922,tt0069467,tt0050976,tt0050986  \n",
       "...                                           ...  \n",
       "13318664          tt14069590,tt11657662,tt2455546  \n",
       "13318665                                      NaN  \n",
       "13318666                                tt8736744  \n",
       "13318667                                tt8736744  \n",
       "13318668                                      NaN  \n",
       "\n",
       "[13318669 rows x 6 columns]"
      ]
     },
     "execution_count": 21,
     "metadata": {},
     "output_type": "execute_result"
    }
   ],
   "source": [
    "actors"
   ]
  },
  {
   "cell_type": "code",
   "execution_count": null,
   "id": "88beed76",
   "metadata": {},
   "outputs": [],
   "source": []
  }
 ],
 "metadata": {
  "kernelspec": {
   "display_name": "Python 3 (ipykernel)",
   "language": "python",
   "name": "python3"
  },
  "language_info": {
   "codemirror_mode": {
    "name": "ipython",
    "version": 3
   },
   "file_extension": ".py",
   "mimetype": "text/x-python",
   "name": "python",
   "nbconvert_exporter": "python",
   "pygments_lexer": "ipython3",
   "version": "3.11.5"
  }
 },
 "nbformat": 4,
 "nbformat_minor": 5
}
